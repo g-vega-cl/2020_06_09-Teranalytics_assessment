{
 "cells": [
  {
   "cell_type": "code",
   "execution_count": 1,
   "metadata": {
    "collapsed": true
   },
   "outputs": [
    {
     "name": "stderr",
     "output_type": "stream",
     "text": [
      "Registered S3 method overwritten by 'pryr':\n",
      "  method      from\n",
      "  print.bytes Rcpp\n",
      "\n",
      "For best results, restart R session and update pander using devtools:: or remotes::install_github('rapporter/pander')\n",
      "\n",
      "Registered S3 method overwritten by 'GGally':\n",
      "  method from   \n",
      "  +.gg   ggplot2\n",
      "\n",
      "corrplot 0.84 loaded\n",
      "\n",
      "\n",
      "Attaching package: 'psych'\n",
      "\n",
      "\n",
      "The following objects are masked from 'package:ggplot2':\n",
      "\n",
      "    %+%, alpha\n",
      "\n",
      "\n",
      "Loading required package: lattice\n",
      "\n",
      "Loading required package: Matrix\n",
      "\n",
      "Loaded glmnet 4.0\n",
      "\n"
     ]
    }
   ],
   "source": [
    "library(knitr)\n",
    "library(ggplot2)\n",
    "library(summarytools)\n",
    "library(GGally)\n",
    "library(corrplot)\n",
    "library(WVPlots)\n",
    "library(psych)\n",
    "library(mltools)\n",
    "library(caret)\n",
    "library(glmnet)\n",
    "library(rpart)\n",
    "library(rfUtilities)\n",
    "options(warn=-1) #Disable warnings"
   ]
  },
  {
   "cell_type": "markdown",
   "metadata": {},
   "source": [
    "# Task 1 - Data exploration"
   ]
  },
  {
   "cell_type": "code",
   "execution_count": 2,
   "metadata": {},
   "outputs": [],
   "source": [
    "#Loading data\n",
    "groups <- read.csv(\"Data/groups.csv\", stringsAsFactors = F)\n",
    "voters <- read.csv(\"Data/voters.csv\", stringsAsFactors = F)"
   ]
  },
  {
   "cell_type": "markdown",
   "metadata": {},
   "source": [
    "## Question 1. Of the voters in the groups.csv file, how many of them are not in the voting record file."
   ]
  },
  {
   "cell_type": "code",
   "execution_count": 3,
   "metadata": {
    "scrolled": true
   },
   "outputs": [
    {
     "data": {
      "text/html": [
       "125108"
      ],
      "text/latex": [
       "125108"
      ],
      "text/markdown": [
       "125108"
      ],
      "text/plain": [
       "[1] 125108"
      ]
     },
     "metadata": {},
     "output_type": "display_data"
    },
    {
     "data": {
      "text/html": [
       "135000"
      ],
      "text/latex": [
       "135000"
      ],
      "text/markdown": [
       "135000"
      ],
      "text/plain": [
       "[1] 135000"
      ]
     },
     "metadata": {},
     "output_type": "display_data"
    }
   ],
   "source": [
    "length(groups$voterid)\n",
    "length(voters$userid)"
   ]
  },
  {
   "cell_type": "code",
   "execution_count": null,
   "metadata": {},
   "outputs": [
    {
     "name": "stdout",
     "output_type": "stream",
     "text": [
      "  |=                                                                     |   1%"
     ]
    }
   ],
   "source": [
    "groupsId_To_VoterId = function(groupsId,votersDataframe){\n",
    "    #Check if the groupId has the proper format (A 'V' before the numbers)\n",
    "    if(substr(groupsId,0,1) != 'V'){\n",
    "        \"groupsId value is not properly formatter\"\n",
    "    } else{\n",
    "        #Cutting the group id to have the same format as voterId\n",
    "        groupsCutID = substr(groupsId,2,100000)\n",
    "    }\n",
    "    isGroupIdInVoterId = dim(votersDataframe[which(votersDataframe$userid == groupsCutID),])[1]\n",
    "    \n",
    "    return(isGroupIdInVoterId)\n",
    "    \n",
    "}\n",
    "\n",
    "#For the first version I will 'bruteforce' my way through this question\n",
    "groupVotersInRecord = 0\n",
    "groupVotersInRecord_NOT = 0\n",
    "pb <- txtProgressBar(min = 0, max = length(groups$voterid), style = 3)\n",
    "for(i in seq(1,length(groups$voterid))){\n",
    "    #Check if each voter in the groups list is in the voters list\n",
    "    is_voter_in_list = groupsId_To_VoterId(toString(groups$voterid[i]),voters)\n",
    "    #If it is, add 1 to our count of voters in record\n",
    "    groupVotersInRecord = groupVotersInRecord + is_voter_in_list\n",
    "    \n",
    "    #If the voter is not in the list, we will append to an\n",
    "        # index list so that we can remove them later\n",
    "    if(is_voter_in_list == 0){\n",
    "        groupVotersInRecord_NOT = groupVotersInRecord_NOT + 1\n",
    "    }\n",
    "    setTxtProgressBar(pb, i)\n",
    "}\n",
    "\n",
    "print(groupVotersInRecord)\n",
    "print(groupVotersInRecord_NOT)\n",
    "print(groupVotersInRecord / (groupVotersInRecord + groupVotersInRecord_NOT ))\n"
   ]
  },
  {
   "cell_type": "markdown",
   "metadata": {},
   "source": [
    "### Answer: of the voters in the groups.csv file, 73% are not in the voting record"
   ]
  },
  {
   "cell_type": "markdown",
   "metadata": {},
   "source": [
    "In this next section we transform the ID's from both our dataframes into a common value, so we can merge the data."
   ]
  },
  {
   "cell_type": "code",
   "execution_count": 5,
   "metadata": {},
   "outputs": [
    {
     "name": "stdout",
     "output_type": "stream",
     "text": [
      "  |======================================================================| 100%"
     ]
    }
   ],
   "source": [
    "#Transform the voters id into a zero padded number \n",
    "pb <- txtProgressBar(min = 0, max = length(voters$userid), style = 3)\n",
    "for(i in seq(1,length(voters$userid))){\n",
    "    voters$userid[i] = formatC(as.numeric(voters$userid[i]), digits = 5, flag = \"0\")\n",
    "    setTxtProgressBar(pb, i)\n",
    "}"
   ]
  },
  {
   "cell_type": "code",
   "execution_count": 6,
   "metadata": {},
   "outputs": [],
   "source": [
    "#Renaming the dataframes so as to merge them\n",
    "colnames(groups)[1] <- \"ID\"\n",
    "colnames(voters)[1] <- \"ID\""
   ]
  },
  {
   "cell_type": "code",
   "execution_count": 7,
   "metadata": {
    "scrolled": true
   },
   "outputs": [
    {
     "data": {
      "text/html": [
       "<table>\n",
       "<caption>A data.frame: 135000 × 7</caption>\n",
       "<thead>\n",
       "\t<tr><th scope=col>ID</th><th scope=col>first.name</th><th scope=col>last.name</th><th scope=col>sex</th><th scope=col>yob</th><th scope=col>voting2005</th><th scope=col>voting2006</th></tr>\n",
       "\t<tr><th scope=col>&lt;chr&gt;</th><th scope=col>&lt;chr&gt;</th><th scope=col>&lt;chr&gt;</th><th scope=col>&lt;int&gt;</th><th scope=col>&lt;int&gt;</th><th scope=col>&lt;int&gt;</th><th scope=col>&lt;int&gt;</th></tr>\n",
       "</thead>\n",
       "<tbody>\n",
       "\t<tr><td>006860    </td><td>Omar     </td><td>el-Sham    </td><td>1</td><td>1939</td><td>0</td><td>0</td></tr>\n",
       "\t<tr><td>088596    </td><td>Kyana    </td><td>Chavez     </td><td>1</td><td>1972</td><td>1</td><td>0</td></tr>\n",
       "\t<tr><td>1.2258e+05</td><td>Ramza    </td><td>Okbamicael </td><td>1</td><td>1952</td><td>0</td><td>0</td></tr>\n",
       "\t<tr><td>065331    </td><td>Mazeeda  </td><td>Tran       </td><td>0</td><td>1966</td><td>0</td><td>1</td></tr>\n",
       "\t<tr><td>091971    </td><td>Tenai    </td><td>Eun        </td><td>0</td><td>1950</td><td>0</td><td>0</td></tr>\n",
       "\t<tr><td>1.0859e+05</td><td>Laaiqa   </td><td>el-Sulaiman</td><td>0</td><td>1955</td><td>0</td><td>0</td></tr>\n",
       "\t<tr><td>042059    </td><td>Jalen    </td><td>Carlsen    </td><td>0</td><td>1970</td><td>0</td><td>0</td></tr>\n",
       "\t<tr><td>008798    </td><td>Monica   </td><td>Pena       </td><td>0</td><td>1954</td><td>0</td><td>0</td></tr>\n",
       "\t<tr><td>007191    </td><td>Marcus   </td><td>Juarez     </td><td>1</td><td>1941</td><td>0</td><td>0</td></tr>\n",
       "\t<tr><td>1.3115e+05</td><td>Anthony  </td><td>el-Asad    </td><td>0</td><td>1975</td><td>0</td><td>1</td></tr>\n",
       "\t<tr><td>1.1763e+05</td><td>Anthony  </td><td>el-Sharaf  </td><td>1</td><td>1955</td><td>0</td><td>0</td></tr>\n",
       "\t<tr><td>1.3499e+05</td><td>Candice  </td><td>Choi       </td><td>0</td><td>1965</td><td>0</td><td>0</td></tr>\n",
       "\t<tr><td>078943    </td><td>Tyler    </td><td>Oswald     </td><td>1</td><td>1972</td><td>0</td><td>1</td></tr>\n",
       "\t<tr><td>080488    </td><td>David    </td><td>Robinson   </td><td>0</td><td>1946</td><td>0</td><td>1</td></tr>\n",
       "\t<tr><td>1.1216e+05</td><td>Laenisha </td><td>al-Rahim   </td><td>1</td><td>1941</td><td>0</td><td>0</td></tr>\n",
       "\t<tr><td>1.097e+05 </td><td>Dimetrius</td><td>Dubus      </td><td>0</td><td>1945</td><td>0</td><td>1</td></tr>\n",
       "\t<tr><td>013650    </td><td>Alisha   </td><td>Cowart     </td><td>1</td><td>1942</td><td>0</td><td>0</td></tr>\n",
       "\t<tr><td>1.0015e+05</td><td>Eleana   </td><td>Kirks      </td><td>0</td><td>1944</td><td>0</td><td>0</td></tr>\n",
       "\t<tr><td>1.3911e+05</td><td>Yesenia  </td><td>Alferez    </td><td>1</td><td>1961</td><td>0</td><td>0</td></tr>\n",
       "\t<tr><td>053908    </td><td>Peter    </td><td>Ravilochan </td><td>1</td><td>1931</td><td>0</td><td>0</td></tr>\n",
       "\t<tr><td>085440    </td><td>Young    </td><td>Yirdaw     </td><td>0</td><td>1960</td><td>0</td><td>1</td></tr>\n",
       "\t<tr><td>010085    </td><td>Rider    </td><td>Lattimer   </td><td>1</td><td>1986</td><td>0</td><td>1</td></tr>\n",
       "\t<tr><td>062803    </td><td>Mary     </td><td>Vang       </td><td>1</td><td>1954</td><td>0</td><td>0</td></tr>\n",
       "\t<tr><td>096680    </td><td>Makayla  </td><td>Diaz       </td><td>0</td><td>1954</td><td>0</td><td>0</td></tr>\n",
       "\t<tr><td>1.398e+05 </td><td>Angelique</td><td>Abukar     </td><td>1</td><td>1933</td><td>0</td><td>0</td></tr>\n",
       "\t<tr><td>027370    </td><td>Jeremy   </td><td>Ortega     </td><td>0</td><td>1947</td><td>0</td><td>0</td></tr>\n",
       "\t<tr><td>040111    </td><td>Uday     </td><td>Akquia     </td><td>0</td><td>1958</td><td>0</td><td>0</td></tr>\n",
       "\t<tr><td>010273    </td><td>Chantay  </td><td>Garcia     </td><td>0</td><td>1942</td><td>0</td><td>0</td></tr>\n",
       "\t<tr><td>1.2147e+05</td><td>Jessica  </td><td>al-Ayoob   </td><td>0</td><td>1955</td><td>1</td><td>1</td></tr>\n",
       "\t<tr><td>060664    </td><td>Mayra    </td><td>el-Zia     </td><td>1</td><td>1950</td><td>0</td><td>0</td></tr>\n",
       "\t<tr><td>...</td><td>...</td><td>...</td><td>...</td><td>...</td><td>...</td><td>...</td></tr>\n",
       "\t<tr><td>1.1389e+05</td><td>Riley    </td><td>Khan      </td><td>0</td><td>1968</td><td>0</td><td>1</td></tr>\n",
       "\t<tr><td>046323    </td><td>Michelle </td><td>Johnson   </td><td>1</td><td>1949</td><td>0</td><td>0</td></tr>\n",
       "\t<tr><td>1.0634e+05</td><td>Eva      </td><td>Shepherd  </td><td>1</td><td>1950</td><td>0</td><td>0</td></tr>\n",
       "\t<tr><td>1.1589e+05</td><td>Andrew   </td><td>Cox       </td><td>0</td><td>1958</td><td>0</td><td>0</td></tr>\n",
       "\t<tr><td>058437    </td><td>Eduardo  </td><td>Zimmerman </td><td>1</td><td>1929</td><td>0</td><td>0</td></tr>\n",
       "\t<tr><td>075078    </td><td>Yu Sung  </td><td>Rivas     </td><td>1</td><td>1960</td><td>1</td><td>1</td></tr>\n",
       "\t<tr><td>012536    </td><td>Sakeen   </td><td>Jaramillo </td><td>1</td><td>1951</td><td>0</td><td>0</td></tr>\n",
       "\t<tr><td>082529    </td><td>Makayla  </td><td>Rocha     </td><td>1</td><td>1948</td><td>0</td><td>1</td></tr>\n",
       "\t<tr><td>1.3653e+05</td><td>Steven   </td><td>Oza       </td><td>0</td><td>1928</td><td>0</td><td>0</td></tr>\n",
       "\t<tr><td>028643    </td><td>Brandi   </td><td>el-Ishak  </td><td>1</td><td>1969</td><td>0</td><td>0</td></tr>\n",
       "\t<tr><td>058229    </td><td>Morgan   </td><td>Walker    </td><td>1</td><td>1948</td><td>1</td><td>0</td></tr>\n",
       "\t<tr><td>1.2371e+05</td><td>Donald   </td><td>al-Salama </td><td>1</td><td>1942</td><td>0</td><td>0</td></tr>\n",
       "\t<tr><td>1.0484e+05</td><td>Taaj     </td><td>Martinez  </td><td>1</td><td>1956</td><td>0</td><td>0</td></tr>\n",
       "\t<tr><td>023866    </td><td>Peter    </td><td>el-Amini  </td><td>0</td><td>1971</td><td>0</td><td>0</td></tr>\n",
       "\t<tr><td>088381    </td><td>Fernando </td><td>Keita     </td><td>0</td><td>1920</td><td>1</td><td>0</td></tr>\n",
       "\t<tr><td>1.2468e+05</td><td>Josephine</td><td>Anderson  </td><td>0</td><td>1965</td><td>0</td><td>1</td></tr>\n",
       "\t<tr><td>031681    </td><td>Tamara   </td><td>Johnson   </td><td>1</td><td>1958</td><td>0</td><td>1</td></tr>\n",
       "\t<tr><td>1.181e+05 </td><td>Francisco</td><td>Tambunan  </td><td>1</td><td>1955</td><td>0</td><td>0</td></tr>\n",
       "\t<tr><td>082112    </td><td>Elizabeth</td><td>Echevarria</td><td>0</td><td>1953</td><td>1</td><td>1</td></tr>\n",
       "\t<tr><td>024391    </td><td>Terell   </td><td>el-Saeed  </td><td>1</td><td>1964</td><td>0</td><td>0</td></tr>\n",
       "\t<tr><td>087333    </td><td>Tamesha  </td><td>Franco    </td><td>0</td><td>1956</td><td>1</td><td>1</td></tr>\n",
       "\t<tr><td>1.1994e+05</td><td>Kawkab   </td><td>Monson    </td><td>1</td><td>1962</td><td>0</td><td>1</td></tr>\n",
       "\t<tr><td>000456    </td><td>Tasha    </td><td>Ortega    </td><td>1</td><td>1985</td><td>0</td><td>1</td></tr>\n",
       "\t<tr><td>054127    </td><td>Marinah  </td><td>Beal      </td><td>0</td><td>1941</td><td>0</td><td>0</td></tr>\n",
       "\t<tr><td>1.0116e+05</td><td>Jennifer </td><td>Garcia    </td><td>0</td><td>1953</td><td>1</td><td>0</td></tr>\n",
       "\t<tr><td>018780    </td><td>Rajaa    </td><td>Chea      </td><td>1</td><td>1961</td><td>0</td><td>1</td></tr>\n",
       "\t<tr><td>1.0561e+05</td><td>Shiirah  </td><td>Mack      </td><td>0</td><td>1944</td><td>0</td><td>0</td></tr>\n",
       "\t<tr><td>1.3937e+05</td><td>Saraya   </td><td>al-Jaber  </td><td>0</td><td>1953</td><td>0</td><td>1</td></tr>\n",
       "\t<tr><td>070714    </td><td>Che      </td><td>al-Yusuf  </td><td>1</td><td>1949</td><td>0</td><td>0</td></tr>\n",
       "\t<tr><td>052424    </td><td>Travis   </td><td>Cruze     </td><td>1</td><td>1959</td><td>0</td><td>0</td></tr>\n",
       "</tbody>\n",
       "</table>\n"
      ],
      "text/latex": [
       "A data.frame: 135000 × 7\n",
       "\\begin{tabular}{lllllll}\n",
       " ID & first.name & last.name & sex & yob & voting2005 & voting2006\\\\\n",
       " <chr> & <chr> & <chr> & <int> & <int> & <int> & <int>\\\\\n",
       "\\hline\n",
       "\t 006860     & Omar      & el-Sham     & 1 & 1939 & 0 & 0\\\\\n",
       "\t 088596     & Kyana     & Chavez      & 1 & 1972 & 1 & 0\\\\\n",
       "\t 1.2258e+05 & Ramza     & Okbamicael  & 1 & 1952 & 0 & 0\\\\\n",
       "\t 065331     & Mazeeda   & Tran        & 0 & 1966 & 0 & 1\\\\\n",
       "\t 091971     & Tenai     & Eun         & 0 & 1950 & 0 & 0\\\\\n",
       "\t 1.0859e+05 & Laaiqa    & el-Sulaiman & 0 & 1955 & 0 & 0\\\\\n",
       "\t 042059     & Jalen     & Carlsen     & 0 & 1970 & 0 & 0\\\\\n",
       "\t 008798     & Monica    & Pena        & 0 & 1954 & 0 & 0\\\\\n",
       "\t 007191     & Marcus    & Juarez      & 1 & 1941 & 0 & 0\\\\\n",
       "\t 1.3115e+05 & Anthony   & el-Asad     & 0 & 1975 & 0 & 1\\\\\n",
       "\t 1.1763e+05 & Anthony   & el-Sharaf   & 1 & 1955 & 0 & 0\\\\\n",
       "\t 1.3499e+05 & Candice   & Choi        & 0 & 1965 & 0 & 0\\\\\n",
       "\t 078943     & Tyler     & Oswald      & 1 & 1972 & 0 & 1\\\\\n",
       "\t 080488     & David     & Robinson    & 0 & 1946 & 0 & 1\\\\\n",
       "\t 1.1216e+05 & Laenisha  & al-Rahim    & 1 & 1941 & 0 & 0\\\\\n",
       "\t 1.097e+05  & Dimetrius & Dubus       & 0 & 1945 & 0 & 1\\\\\n",
       "\t 013650     & Alisha    & Cowart      & 1 & 1942 & 0 & 0\\\\\n",
       "\t 1.0015e+05 & Eleana    & Kirks       & 0 & 1944 & 0 & 0\\\\\n",
       "\t 1.3911e+05 & Yesenia   & Alferez     & 1 & 1961 & 0 & 0\\\\\n",
       "\t 053908     & Peter     & Ravilochan  & 1 & 1931 & 0 & 0\\\\\n",
       "\t 085440     & Young     & Yirdaw      & 0 & 1960 & 0 & 1\\\\\n",
       "\t 010085     & Rider     & Lattimer    & 1 & 1986 & 0 & 1\\\\\n",
       "\t 062803     & Mary      & Vang        & 1 & 1954 & 0 & 0\\\\\n",
       "\t 096680     & Makayla   & Diaz        & 0 & 1954 & 0 & 0\\\\\n",
       "\t 1.398e+05  & Angelique & Abukar      & 1 & 1933 & 0 & 0\\\\\n",
       "\t 027370     & Jeremy    & Ortega      & 0 & 1947 & 0 & 0\\\\\n",
       "\t 040111     & Uday      & Akquia      & 0 & 1958 & 0 & 0\\\\\n",
       "\t 010273     & Chantay   & Garcia      & 0 & 1942 & 0 & 0\\\\\n",
       "\t 1.2147e+05 & Jessica   & al-Ayoob    & 0 & 1955 & 1 & 1\\\\\n",
       "\t 060664     & Mayra     & el-Zia      & 1 & 1950 & 0 & 0\\\\\n",
       "\t ... & ... & ... & ... & ... & ... & ...\\\\\n",
       "\t 1.1389e+05 & Riley     & Khan       & 0 & 1968 & 0 & 1\\\\\n",
       "\t 046323     & Michelle  & Johnson    & 1 & 1949 & 0 & 0\\\\\n",
       "\t 1.0634e+05 & Eva       & Shepherd   & 1 & 1950 & 0 & 0\\\\\n",
       "\t 1.1589e+05 & Andrew    & Cox        & 0 & 1958 & 0 & 0\\\\\n",
       "\t 058437     & Eduardo   & Zimmerman  & 1 & 1929 & 0 & 0\\\\\n",
       "\t 075078     & Yu Sung   & Rivas      & 1 & 1960 & 1 & 1\\\\\n",
       "\t 012536     & Sakeen    & Jaramillo  & 1 & 1951 & 0 & 0\\\\\n",
       "\t 082529     & Makayla   & Rocha      & 1 & 1948 & 0 & 1\\\\\n",
       "\t 1.3653e+05 & Steven    & Oza        & 0 & 1928 & 0 & 0\\\\\n",
       "\t 028643     & Brandi    & el-Ishak   & 1 & 1969 & 0 & 0\\\\\n",
       "\t 058229     & Morgan    & Walker     & 1 & 1948 & 1 & 0\\\\\n",
       "\t 1.2371e+05 & Donald    & al-Salama  & 1 & 1942 & 0 & 0\\\\\n",
       "\t 1.0484e+05 & Taaj      & Martinez   & 1 & 1956 & 0 & 0\\\\\n",
       "\t 023866     & Peter     & el-Amini   & 0 & 1971 & 0 & 0\\\\\n",
       "\t 088381     & Fernando  & Keita      & 0 & 1920 & 1 & 0\\\\\n",
       "\t 1.2468e+05 & Josephine & Anderson   & 0 & 1965 & 0 & 1\\\\\n",
       "\t 031681     & Tamara    & Johnson    & 1 & 1958 & 0 & 1\\\\\n",
       "\t 1.181e+05  & Francisco & Tambunan   & 1 & 1955 & 0 & 0\\\\\n",
       "\t 082112     & Elizabeth & Echevarria & 0 & 1953 & 1 & 1\\\\\n",
       "\t 024391     & Terell    & el-Saeed   & 1 & 1964 & 0 & 0\\\\\n",
       "\t 087333     & Tamesha   & Franco     & 0 & 1956 & 1 & 1\\\\\n",
       "\t 1.1994e+05 & Kawkab    & Monson     & 1 & 1962 & 0 & 1\\\\\n",
       "\t 000456     & Tasha     & Ortega     & 1 & 1985 & 0 & 1\\\\\n",
       "\t 054127     & Marinah   & Beal       & 0 & 1941 & 0 & 0\\\\\n",
       "\t 1.0116e+05 & Jennifer  & Garcia     & 0 & 1953 & 1 & 0\\\\\n",
       "\t 018780     & Rajaa     & Chea       & 1 & 1961 & 0 & 1\\\\\n",
       "\t 1.0561e+05 & Shiirah   & Mack       & 0 & 1944 & 0 & 0\\\\\n",
       "\t 1.3937e+05 & Saraya    & al-Jaber   & 0 & 1953 & 0 & 1\\\\\n",
       "\t 070714     & Che       & al-Yusuf   & 1 & 1949 & 0 & 0\\\\\n",
       "\t 052424     & Travis    & Cruze      & 1 & 1959 & 0 & 0\\\\\n",
       "\\end{tabular}\n"
      ],
      "text/markdown": [
       "\n",
       "A data.frame: 135000 × 7\n",
       "\n",
       "| ID &lt;chr&gt; | first.name &lt;chr&gt; | last.name &lt;chr&gt; | sex &lt;int&gt; | yob &lt;int&gt; | voting2005 &lt;int&gt; | voting2006 &lt;int&gt; |\n",
       "|---|---|---|---|---|---|---|\n",
       "| 006860     | Omar      | el-Sham     | 1 | 1939 | 0 | 0 |\n",
       "| 088596     | Kyana     | Chavez      | 1 | 1972 | 1 | 0 |\n",
       "| 1.2258e+05 | Ramza     | Okbamicael  | 1 | 1952 | 0 | 0 |\n",
       "| 065331     | Mazeeda   | Tran        | 0 | 1966 | 0 | 1 |\n",
       "| 091971     | Tenai     | Eun         | 0 | 1950 | 0 | 0 |\n",
       "| 1.0859e+05 | Laaiqa    | el-Sulaiman | 0 | 1955 | 0 | 0 |\n",
       "| 042059     | Jalen     | Carlsen     | 0 | 1970 | 0 | 0 |\n",
       "| 008798     | Monica    | Pena        | 0 | 1954 | 0 | 0 |\n",
       "| 007191     | Marcus    | Juarez      | 1 | 1941 | 0 | 0 |\n",
       "| 1.3115e+05 | Anthony   | el-Asad     | 0 | 1975 | 0 | 1 |\n",
       "| 1.1763e+05 | Anthony   | el-Sharaf   | 1 | 1955 | 0 | 0 |\n",
       "| 1.3499e+05 | Candice   | Choi        | 0 | 1965 | 0 | 0 |\n",
       "| 078943     | Tyler     | Oswald      | 1 | 1972 | 0 | 1 |\n",
       "| 080488     | David     | Robinson    | 0 | 1946 | 0 | 1 |\n",
       "| 1.1216e+05 | Laenisha  | al-Rahim    | 1 | 1941 | 0 | 0 |\n",
       "| 1.097e+05  | Dimetrius | Dubus       | 0 | 1945 | 0 | 1 |\n",
       "| 013650     | Alisha    | Cowart      | 1 | 1942 | 0 | 0 |\n",
       "| 1.0015e+05 | Eleana    | Kirks       | 0 | 1944 | 0 | 0 |\n",
       "| 1.3911e+05 | Yesenia   | Alferez     | 1 | 1961 | 0 | 0 |\n",
       "| 053908     | Peter     | Ravilochan  | 1 | 1931 | 0 | 0 |\n",
       "| 085440     | Young     | Yirdaw      | 0 | 1960 | 0 | 1 |\n",
       "| 010085     | Rider     | Lattimer    | 1 | 1986 | 0 | 1 |\n",
       "| 062803     | Mary      | Vang        | 1 | 1954 | 0 | 0 |\n",
       "| 096680     | Makayla   | Diaz        | 0 | 1954 | 0 | 0 |\n",
       "| 1.398e+05  | Angelique | Abukar      | 1 | 1933 | 0 | 0 |\n",
       "| 027370     | Jeremy    | Ortega      | 0 | 1947 | 0 | 0 |\n",
       "| 040111     | Uday      | Akquia      | 0 | 1958 | 0 | 0 |\n",
       "| 010273     | Chantay   | Garcia      | 0 | 1942 | 0 | 0 |\n",
       "| 1.2147e+05 | Jessica   | al-Ayoob    | 0 | 1955 | 1 | 1 |\n",
       "| 060664     | Mayra     | el-Zia      | 1 | 1950 | 0 | 0 |\n",
       "| ... | ... | ... | ... | ... | ... | ... |\n",
       "| 1.1389e+05 | Riley     | Khan       | 0 | 1968 | 0 | 1 |\n",
       "| 046323     | Michelle  | Johnson    | 1 | 1949 | 0 | 0 |\n",
       "| 1.0634e+05 | Eva       | Shepherd   | 1 | 1950 | 0 | 0 |\n",
       "| 1.1589e+05 | Andrew    | Cox        | 0 | 1958 | 0 | 0 |\n",
       "| 058437     | Eduardo   | Zimmerman  | 1 | 1929 | 0 | 0 |\n",
       "| 075078     | Yu Sung   | Rivas      | 1 | 1960 | 1 | 1 |\n",
       "| 012536     | Sakeen    | Jaramillo  | 1 | 1951 | 0 | 0 |\n",
       "| 082529     | Makayla   | Rocha      | 1 | 1948 | 0 | 1 |\n",
       "| 1.3653e+05 | Steven    | Oza        | 0 | 1928 | 0 | 0 |\n",
       "| 028643     | Brandi    | el-Ishak   | 1 | 1969 | 0 | 0 |\n",
       "| 058229     | Morgan    | Walker     | 1 | 1948 | 1 | 0 |\n",
       "| 1.2371e+05 | Donald    | al-Salama  | 1 | 1942 | 0 | 0 |\n",
       "| 1.0484e+05 | Taaj      | Martinez   | 1 | 1956 | 0 | 0 |\n",
       "| 023866     | Peter     | el-Amini   | 0 | 1971 | 0 | 0 |\n",
       "| 088381     | Fernando  | Keita      | 0 | 1920 | 1 | 0 |\n",
       "| 1.2468e+05 | Josephine | Anderson   | 0 | 1965 | 0 | 1 |\n",
       "| 031681     | Tamara    | Johnson    | 1 | 1958 | 0 | 1 |\n",
       "| 1.181e+05  | Francisco | Tambunan   | 1 | 1955 | 0 | 0 |\n",
       "| 082112     | Elizabeth | Echevarria | 0 | 1953 | 1 | 1 |\n",
       "| 024391     | Terell    | el-Saeed   | 1 | 1964 | 0 | 0 |\n",
       "| 087333     | Tamesha   | Franco     | 0 | 1956 | 1 | 1 |\n",
       "| 1.1994e+05 | Kawkab    | Monson     | 1 | 1962 | 0 | 1 |\n",
       "| 000456     | Tasha     | Ortega     | 1 | 1985 | 0 | 1 |\n",
       "| 054127     | Marinah   | Beal       | 0 | 1941 | 0 | 0 |\n",
       "| 1.0116e+05 | Jennifer  | Garcia     | 0 | 1953 | 1 | 0 |\n",
       "| 018780     | Rajaa     | Chea       | 1 | 1961 | 0 | 1 |\n",
       "| 1.0561e+05 | Shiirah   | Mack       | 0 | 1944 | 0 | 0 |\n",
       "| 1.3937e+05 | Saraya    | al-Jaber   | 0 | 1953 | 0 | 1 |\n",
       "| 070714     | Che       | al-Yusuf   | 1 | 1949 | 0 | 0 |\n",
       "| 052424     | Travis    | Cruze      | 1 | 1959 | 0 | 0 |\n",
       "\n"
      ],
      "text/plain": [
       "       ID         first.name last.name   sex yob  voting2005 voting2006\n",
       "1      006860     Omar       el-Sham     1   1939 0          0         \n",
       "2      088596     Kyana      Chavez      1   1972 1          0         \n",
       "3      1.2258e+05 Ramza      Okbamicael  1   1952 0          0         \n",
       "4      065331     Mazeeda    Tran        0   1966 0          1         \n",
       "5      091971     Tenai      Eun         0   1950 0          0         \n",
       "6      1.0859e+05 Laaiqa     el-Sulaiman 0   1955 0          0         \n",
       "7      042059     Jalen      Carlsen     0   1970 0          0         \n",
       "8      008798     Monica     Pena        0   1954 0          0         \n",
       "9      007191     Marcus     Juarez      1   1941 0          0         \n",
       "10     1.3115e+05 Anthony    el-Asad     0   1975 0          1         \n",
       "11     1.1763e+05 Anthony    el-Sharaf   1   1955 0          0         \n",
       "12     1.3499e+05 Candice    Choi        0   1965 0          0         \n",
       "13     078943     Tyler      Oswald      1   1972 0          1         \n",
       "14     080488     David      Robinson    0   1946 0          1         \n",
       "15     1.1216e+05 Laenisha   al-Rahim    1   1941 0          0         \n",
       "16     1.097e+05  Dimetrius  Dubus       0   1945 0          1         \n",
       "17     013650     Alisha     Cowart      1   1942 0          0         \n",
       "18     1.0015e+05 Eleana     Kirks       0   1944 0          0         \n",
       "19     1.3911e+05 Yesenia    Alferez     1   1961 0          0         \n",
       "20     053908     Peter      Ravilochan  1   1931 0          0         \n",
       "21     085440     Young      Yirdaw      0   1960 0          1         \n",
       "22     010085     Rider      Lattimer    1   1986 0          1         \n",
       "23     062803     Mary       Vang        1   1954 0          0         \n",
       "24     096680     Makayla    Diaz        0   1954 0          0         \n",
       "25     1.398e+05  Angelique  Abukar      1   1933 0          0         \n",
       "26     027370     Jeremy     Ortega      0   1947 0          0         \n",
       "27     040111     Uday       Akquia      0   1958 0          0         \n",
       "28     010273     Chantay    Garcia      0   1942 0          0         \n",
       "29     1.2147e+05 Jessica    al-Ayoob    0   1955 1          1         \n",
       "30     060664     Mayra      el-Zia      1   1950 0          0         \n",
       "...    ...        ...        ...         ... ...  ...        ...       \n",
       "134971 1.1389e+05 Riley      Khan        0   1968 0          1         \n",
       "134972 046323     Michelle   Johnson     1   1949 0          0         \n",
       "134973 1.0634e+05 Eva        Shepherd    1   1950 0          0         \n",
       "134974 1.1589e+05 Andrew     Cox         0   1958 0          0         \n",
       "134975 058437     Eduardo    Zimmerman   1   1929 0          0         \n",
       "134976 075078     Yu Sung    Rivas       1   1960 1          1         \n",
       "134977 012536     Sakeen     Jaramillo   1   1951 0          0         \n",
       "134978 082529     Makayla    Rocha       1   1948 0          1         \n",
       "134979 1.3653e+05 Steven     Oza         0   1928 0          0         \n",
       "134980 028643     Brandi     el-Ishak    1   1969 0          0         \n",
       "134981 058229     Morgan     Walker      1   1948 1          0         \n",
       "134982 1.2371e+05 Donald     al-Salama   1   1942 0          0         \n",
       "134983 1.0484e+05 Taaj       Martinez    1   1956 0          0         \n",
       "134984 023866     Peter      el-Amini    0   1971 0          0         \n",
       "134985 088381     Fernando   Keita       0   1920 1          0         \n",
       "134986 1.2468e+05 Josephine  Anderson    0   1965 0          1         \n",
       "134987 031681     Tamara     Johnson     1   1958 0          1         \n",
       "134988 1.181e+05  Francisco  Tambunan    1   1955 0          0         \n",
       "134989 082112     Elizabeth  Echevarria  0   1953 1          1         \n",
       "134990 024391     Terell     el-Saeed    1   1964 0          0         \n",
       "134991 087333     Tamesha    Franco      0   1956 1          1         \n",
       "134992 1.1994e+05 Kawkab     Monson      1   1962 0          1         \n",
       "134993 000456     Tasha      Ortega      1   1985 0          1         \n",
       "134994 054127     Marinah    Beal        0   1941 0          0         \n",
       "134995 1.0116e+05 Jennifer   Garcia      0   1953 1          0         \n",
       "134996 018780     Rajaa      Chea        1   1961 0          1         \n",
       "134997 1.0561e+05 Shiirah    Mack        0   1944 0          0         \n",
       "134998 1.3937e+05 Saraya     al-Jaber    0   1953 0          1         \n",
       "134999 070714     Che        al-Yusuf    1   1949 0          0         \n",
       "135000 052424     Travis     Cruze       1   1959 0          0         "
      ]
     },
     "metadata": {},
     "output_type": "display_data"
    }
   ],
   "source": [
    "voters"
   ]
  },
  {
   "cell_type": "code",
   "execution_count": 8,
   "metadata": {},
   "outputs": [],
   "source": [
    "completeData = merge(groups, voters, by =\"ID\")"
   ]
  },
  {
   "cell_type": "markdown",
   "metadata": {},
   "source": [
    "After all the previous data reshaping, we still do not have an answer. For this we will do a simple for loop"
   ]
  },
  {
   "cell_type": "markdown",
   "metadata": {},
   "source": [
    "## Question 2, of the voters in the groups.csv file, for which we have a voting record, what percentage of them voted in 2006?\n"
   ]
  },
  {
   "cell_type": "code",
   "execution_count": 9,
   "metadata": {},
   "outputs": [
    {
     "name": "stdout",
     "output_type": "stream",
     "text": [
      "[1] 0.2642495\n"
     ]
    }
   ],
   "source": [
    "percentage_of_2016_voters = sum(completeData$voting2006)/length(completeData$voting2006)\n",
    "print(percentage_of_2016_voters)"
   ]
  },
  {
   "cell_type": "markdown",
   "metadata": {},
   "source": [
    "### ANSWER: Our percentage of voters was: 26%"
   ]
  },
  {
   "cell_type": "markdown",
   "metadata": {},
   "source": [
    "## Question 3 - Are the 5 groups exclusive of each other? How many voters for which we have voter records are listed as in multiple groups?\n"
   ]
  },
  {
   "cell_type": "code",
   "execution_count": 10,
   "metadata": {},
   "outputs": [
    {
     "name": "stdout",
     "output_type": "stream",
     "text": [
      "  |======================================================================| 100%"
     ]
    }
   ],
   "source": [
    "pb <- txtProgressBar(min = 0, max = length(completeData$control), style = 3)\n",
    "groups_with_more_than_1_value = list()\n",
    "for (i in seq(1,length(completeData$control))){\n",
    "    civicduty_val = completeData$civicduty[i]\n",
    "    hawthorne_val = completeData$hawthorne[i]\n",
    "    self_val = completeData$self[i]\n",
    "    neighbors_val = completeData$neighbors[i]\n",
    "    control_val = completeData$control[i]\n",
    "    \n",
    "    if(sum(civicduty_val,hawthorne_val,self_val,neighbors_val,control_val) > 1){\n",
    "        groups_with_more_than_1_value = append(groups_with_more_than_1_value, i)\n",
    "    }\n",
    "    setTxtProgressBar(pb, i)\n",
    "}"
   ]
  },
  {
   "cell_type": "code",
   "execution_count": 11,
   "metadata": {},
   "outputs": [
    {
     "data": {
      "text/html": [
       "<table>\n",
       "<caption>A data.frame: 1 × 12</caption>\n",
       "<thead>\n",
       "\t<tr><th></th><th scope=col>ID</th><th scope=col>civicduty</th><th scope=col>hawthorne</th><th scope=col>self</th><th scope=col>neighbors</th><th scope=col>control</th><th scope=col>first.name</th><th scope=col>last.name</th><th scope=col>sex</th><th scope=col>yob</th><th scope=col>voting2005</th><th scope=col>voting2006</th></tr>\n",
       "\t<tr><th></th><th scope=col>&lt;chr&gt;</th><th scope=col>&lt;int&gt;</th><th scope=col>&lt;int&gt;</th><th scope=col>&lt;int&gt;</th><th scope=col>&lt;int&gt;</th><th scope=col>&lt;int&gt;</th><th scope=col>&lt;chr&gt;</th><th scope=col>&lt;chr&gt;</th><th scope=col>&lt;int&gt;</th><th scope=col>&lt;int&gt;</th><th scope=col>&lt;int&gt;</th><th scope=col>&lt;int&gt;</th></tr>\n",
       "</thead>\n",
       "<tbody>\n",
       "\t<tr><th scope=row>9269</th><td>010895</td><td>0</td><td>1</td><td>0</td><td>1</td><td>0</td><td>Nawf</td><td>Jamieson</td><td>0</td><td>1943</td><td>1</td><td>0</td></tr>\n",
       "</tbody>\n",
       "</table>\n"
      ],
      "text/latex": [
       "A data.frame: 1 × 12\n",
       "\\begin{tabular}{r|llllllllllll}\n",
       "  & ID & civicduty & hawthorne & self & neighbors & control & first.name & last.name & sex & yob & voting2005 & voting2006\\\\\n",
       "  & <chr> & <int> & <int> & <int> & <int> & <int> & <chr> & <chr> & <int> & <int> & <int> & <int>\\\\\n",
       "\\hline\n",
       "\t9269 & 010895 & 0 & 1 & 0 & 1 & 0 & Nawf & Jamieson & 0 & 1943 & 1 & 0\\\\\n",
       "\\end{tabular}\n"
      ],
      "text/markdown": [
       "\n",
       "A data.frame: 1 × 12\n",
       "\n",
       "| <!--/--> | ID &lt;chr&gt; | civicduty &lt;int&gt; | hawthorne &lt;int&gt; | self &lt;int&gt; | neighbors &lt;int&gt; | control &lt;int&gt; | first.name &lt;chr&gt; | last.name &lt;chr&gt; | sex &lt;int&gt; | yob &lt;int&gt; | voting2005 &lt;int&gt; | voting2006 &lt;int&gt; |\n",
       "|---|---|---|---|---|---|---|---|---|---|---|---|---|\n",
       "| 9269 | 010895 | 0 | 1 | 0 | 1 | 0 | Nawf | Jamieson | 0 | 1943 | 1 | 0 |\n",
       "\n"
      ],
      "text/plain": [
       "     ID     civicduty hawthorne self neighbors control first.name last.name sex\n",
       "9269 010895 0         1         0    1         0       Nawf       Jamieson  0  \n",
       "     yob  voting2005 voting2006\n",
       "9269 1943 1          0         "
      ]
     },
     "metadata": {},
     "output_type": "display_data"
    }
   ],
   "source": [
    "#Checking if our function worked\n",
    "completeData[as.numeric(groups_with_more_than_1_value[1]),]"
   ]
  },
  {
   "cell_type": "code",
   "execution_count": 12,
   "metadata": {
    "scrolled": true
   },
   "outputs": [
    {
     "data": {
      "text/html": [
       "11"
      ],
      "text/latex": [
       "11"
      ],
      "text/markdown": [
       "11"
      ],
      "text/plain": [
       "[1] 11"
      ]
     },
     "metadata": {},
     "output_type": "display_data"
    },
    {
     "data": {
      "text/html": [
       "85196"
      ],
      "text/latex": [
       "85196"
      ],
      "text/markdown": [
       "85196"
      ],
      "text/plain": [
       "[1] 85196"
      ]
     },
     "metadata": {},
     "output_type": "display_data"
    }
   ],
   "source": [
    "length(groups_with_more_than_1_value)\n",
    "length(completeData$control)"
   ]
  },
  {
   "cell_type": "markdown",
   "metadata": {},
   "source": [
    "### ANSWER: There were 11 voter listed as duplicates"
   ]
  },
  {
   "cell_type": "markdown",
   "metadata": {},
   "source": [
    "Now we delete the rows where there are typos"
   ]
  },
  {
   "cell_type": "code",
   "execution_count": 13,
   "metadata": {},
   "outputs": [],
   "source": [
    "completeData <- completeData[-c(as.numeric(groups_with_more_than_1_value)),] "
   ]
  },
  {
   "cell_type": "code",
   "execution_count": 49,
   "metadata": {},
   "outputs": [
    {
     "data": {
      "text/html": [
       "85185"
      ],
      "text/latex": [
       "85185"
      ],
      "text/markdown": [
       "85185"
      ],
      "text/plain": [
       "[1] 85185"
      ]
     },
     "metadata": {},
     "output_type": "display_data"
    }
   ],
   "source": [
    "length(completeData$control)"
   ]
  },
  {
   "cell_type": "markdown",
   "metadata": {},
   "source": [
    "## Question 4 - Of the remaining voters, what percentage of them are in each of the following age groups:"
   ]
  },
  {
   "cell_type": "code",
   "execution_count": 15,
   "metadata": {},
   "outputs": [
    {
     "name": "stdout",
     "output_type": "stream",
     "text": [
      "  |======================================================================| 100%"
     ]
    }
   ],
   "source": [
    "pb <- txtProgressBar(min = 0, max = length(completeData$control), style = 3)\n",
    "\n",
    "newAgeColumn = list()\n",
    "for (i in seq(1,length(completeData$control))){\n",
    "    age = 2006 - completeData$yob[i]\n",
    "    newAgeColumn = append(newAgeColumn,age)    \n",
    "    setTxtProgressBar(pb, i)\n",
    "}\n"
   ]
  },
  {
   "cell_type": "code",
   "execution_count": 16,
   "metadata": {},
   "outputs": [],
   "source": [
    "#get the new values into the data\n",
    "completeData$age = newAgeColumn"
   ]
  },
  {
   "cell_type": "code",
   "execution_count": 56,
   "metadata": {},
   "outputs": [
    {
     "data": {
      "text/html": [
       "<ol>\n",
       "\t<li>54</li>\n",
       "\t<li>59</li>\n",
       "</ol>\n"
      ],
      "text/latex": [
       "\\begin{enumerate}\n",
       "\\item 54\n",
       "\\item 59\n",
       "\\end{enumerate}\n"
      ],
      "text/markdown": [
       "1. 54\n",
       "2. 59\n",
       "\n",
       "\n"
      ],
      "text/plain": [
       "[[1]]\n",
       "[1] 54\n",
       "\n",
       "[[2]]\n",
       "[1] 59\n"
      ]
     },
     "metadata": {},
     "output_type": "display_data"
    }
   ],
   "source": [
    "completeData$age[1:2]"
   ]
  },
  {
   "cell_type": "code",
   "execution_count": 57,
   "metadata": {},
   "outputs": [
    {
     "name": "stdout",
     "output_type": "stream",
     "text": [
      "  |======================================================================| 100%"
     ]
    }
   ],
   "source": [
    "#This code is a bit \"hacky\", this list will be used to \n",
    "    # calculate the percentages of each ageGroup\n",
    "Age_18_30 = list()\n",
    "Age_31_40 = list()\n",
    "Age_41_50 = list()\n",
    "Age_51_65 = list()\n",
    "Age_65_all = list()\n",
    "\n",
    "pb <- txtProgressBar(min = 0, max = length(completeData$control), style = 3)\n",
    "for (i in seq(1,length(completeData$control))){\n",
    "    age = completeData$age[i]\n",
    "    #This can definetly be automated\n",
    "    if(age < 31){\n",
    "        Age_18_30 = append(Age_18_30,1)\n",
    "        Age_31_40 = append(Age_31_40,0)\n",
    "        Age_41_50 = append(Age_41_50,0)\n",
    "        Age_51_65 = append(Age_51_65,0)\n",
    "        Age_65_all = append(Age_65_all,0)\n",
    "    }else if (age < 41){\n",
    "        Age_18_30 = append(Age_18_30,0)\n",
    "        Age_31_40 = append(Age_31_40,1)\n",
    "        Age_41_50 = append(Age_41_50,0)\n",
    "        Age_51_65 = append(Age_51_65,0)\n",
    "        Age_65_all = append(Age_65_all,0)\n",
    "    }else if (age < 51){\n",
    "        Age_18_30 = append(Age_18_30,0)\n",
    "        Age_31_40 = append(Age_31_40,0)\n",
    "        Age_41_50 = append(Age_41_50,1)\n",
    "        Age_51_65 = append(Age_51_65,0)\n",
    "        Age_65_all = append(Age_65_all,0)\n",
    "    }else if (age < 65){\n",
    "        Age_18_30 = append(Age_18_30,0)\n",
    "        Age_31_40 = append(Age_31_40,0)\n",
    "        Age_41_50 = append(Age_41_50,0)\n",
    "        Age_51_65 = append(Age_51_65,1)\n",
    "        Age_65_all = append(Age_65_all,0)\n",
    "    }else{\n",
    "        Age_18_30 = append(Age_18_30,0)\n",
    "        Age_31_40 = append(Age_31_40,0)\n",
    "        Age_41_50 = append(Age_41_50,0)\n",
    "        Age_51_65 = append(Age_51_65,0)\n",
    "        Age_65_all = append(Age_65_all,1)\n",
    "    }\n",
    "    \n",
    "    setTxtProgressBar(pb, i)\n",
    "}\n"
   ]
  },
  {
   "cell_type": "code",
   "execution_count": 60,
   "metadata": {},
   "outputs": [
    {
     "name": "stdout",
     "output_type": "stream",
     "text": [
      "[1] 0.08377062\n",
      "[1] 0.1262781\n",
      "[1] 0.2808945\n",
      "[1] 0.3553912\n",
      "[1] 0.1536656\n"
     ]
    }
   ],
   "source": [
    "percentage_18 = sum(as.numeric(Age_18_30)) / length(completeData$control)\n",
    "percentage_31 = sum(as.numeric(Age_31_40)) / length(completeData$control)\n",
    "percentage_41 = sum(as.numeric(Age_41_50)) / length(completeData$control)\n",
    "percentage_51 = sum(as.numeric(Age_51_65)) / length(completeData$control)\n",
    "percentage_65 = sum(as.numeric(Age_65_all)) / length(completeData$control)\n",
    "\n",
    "print(percentage_18)\n",
    "print(percentage_31)\n",
    "print(percentage_41)\n",
    "print(percentage_51)\n",
    "print(percentage_65)"
   ]
  },
  {
   "cell_type": "markdown",
   "metadata": {},
   "source": [
    "### Answer - The percentages of voters per age group are:\n",
    "* 18-30: 8%\n",
    "* 31-40: 13%\n",
    "* 41-50: 28%\n",
    "* 51-65: 36%\n",
    "* 65-all: 15%"
   ]
  },
  {
   "cell_type": "code",
   "execution_count": 17,
   "metadata": {},
   "outputs": [
    {
     "name": "stdout",
     "output_type": "stream",
     "text": [
      "  |======================================================================| 100%"
     ]
    }
   ],
   "source": [
    "ageGroup = list()\n",
    "\n",
    "pb <- txtProgressBar(min = 0, max = length(completeData$control), style = 3)\n",
    "for (i in seq(1,length(completeData$age))){\n",
    "    age = completeData$age[i]\n",
    "    #This can definetly be automated\n",
    "    if(age < 31){\n",
    "        ageGroup = append(ageGroup,\"Age_18_30\")\n",
    "    } else if (age < 41){\n",
    "        ageGroup = append(ageGroup,\"Age_31_40\")\n",
    "    } else if (age < 51){\n",
    "        ageGroup = append(ageGroup,\"Age_41_50\")\n",
    "    } else if (age < 65){\n",
    "        ageGroup = append(ageGroup,\"Age_51_65\")\n",
    "    }else{\n",
    "        ageGroup = append(ageGroup,\"Age_65_all\")\n",
    "    }\n",
    "    setTxtProgressBar(pb, i)\n",
    "}\n"
   ]
  },
  {
   "cell_type": "code",
   "execution_count": 18,
   "metadata": {},
   "outputs": [],
   "source": [
    "completeData$age_group = ageGroup"
   ]
  },
  {
   "cell_type": "code",
   "execution_count": 19,
   "metadata": {
    "scrolled": true
   },
   "outputs": [
    {
     "data": {
      "text/html": [
       "<table>\n",
       "<caption>A data.frame: 6 × 14</caption>\n",
       "<thead>\n",
       "\t<tr><th></th><th scope=col>ID</th><th scope=col>civicduty</th><th scope=col>hawthorne</th><th scope=col>self</th><th scope=col>neighbors</th><th scope=col>control</th><th scope=col>first.name</th><th scope=col>last.name</th><th scope=col>sex</th><th scope=col>yob</th><th scope=col>voting2005</th><th scope=col>voting2006</th><th scope=col>age</th><th scope=col>age_group</th></tr>\n",
       "\t<tr><th></th><th scope=col>&lt;chr&gt;</th><th scope=col>&lt;int&gt;</th><th scope=col>&lt;int&gt;</th><th scope=col>&lt;int&gt;</th><th scope=col>&lt;int&gt;</th><th scope=col>&lt;int&gt;</th><th scope=col>&lt;chr&gt;</th><th scope=col>&lt;chr&gt;</th><th scope=col>&lt;int&gt;</th><th scope=col>&lt;int&gt;</th><th scope=col>&lt;int&gt;</th><th scope=col>&lt;int&gt;</th><th scope=col>&lt;list&gt;</th><th scope=col>&lt;list&gt;</th></tr>\n",
       "</thead>\n",
       "<tbody>\n",
       "\t<tr><th scope=row>1</th><td>000001</td><td>0</td><td>0</td><td>0</td><td>0</td><td>1</td><td>Lucas   </td><td>Cervantes</td><td>1</td><td>1952</td><td>0</td><td>1</td><td>54</td><td>Age_51_65</td></tr>\n",
       "\t<tr><th scope=row>2</th><td>000002</td><td>1</td><td>0</td><td>0</td><td>0</td><td>0</td><td>Kelsy   </td><td>Douglas  </td><td>0</td><td>1947</td><td>0</td><td>0</td><td>59</td><td>Age_51_65</td></tr>\n",
       "\t<tr><th scope=row>3</th><td>000005</td><td>0</td><td>0</td><td>0</td><td>0</td><td>1</td><td>Oyate   </td><td>Chen     </td><td>0</td><td>1970</td><td>1</td><td>1</td><td>36</td><td>Age_31_40</td></tr>\n",
       "\t<tr><th scope=row>4</th><td>000006</td><td>0</td><td>0</td><td>0</td><td>1</td><td>0</td><td>Derrick </td><td>Peoples  </td><td>0</td><td>1948</td><td>0</td><td>1</td><td>58</td><td>Age_51_65</td></tr>\n",
       "\t<tr><th scope=row>5</th><td>000007</td><td>0</td><td>0</td><td>0</td><td>0</td><td>1</td><td>Yevanit </td><td>Thai     </td><td>0</td><td>1922</td><td>0</td><td>0</td><td>84</td><td>Age_65_all</td></tr>\n",
       "\t<tr><th scope=row>6</th><td>000008</td><td>1</td><td>0</td><td>0</td><td>0</td><td>0</td><td>Mikkayla</td><td>al-Yousef</td><td>1</td><td>1976</td><td>0</td><td>0</td><td>30</td><td>Age_18_30</td></tr>\n",
       "</tbody>\n",
       "</table>\n"
      ],
      "text/latex": [
       "A data.frame: 6 × 14\n",
       "\\begin{tabular}{r|llllllllllllll}\n",
       "  & ID & civicduty & hawthorne & self & neighbors & control & first.name & last.name & sex & yob & voting2005 & voting2006 & age & age\\_group\\\\\n",
       "  & <chr> & <int> & <int> & <int> & <int> & <int> & <chr> & <chr> & <int> & <int> & <int> & <int> & <list> & <list>\\\\\n",
       "\\hline\n",
       "\t1 & 000001 & 0 & 0 & 0 & 0 & 1 & Lucas    & Cervantes & 1 & 1952 & 0 & 1 & 54 & Age\\_51\\_65\\\\\n",
       "\t2 & 000002 & 1 & 0 & 0 & 0 & 0 & Kelsy    & Douglas   & 0 & 1947 & 0 & 0 & 59 & Age\\_51\\_65\\\\\n",
       "\t3 & 000005 & 0 & 0 & 0 & 0 & 1 & Oyate    & Chen      & 0 & 1970 & 1 & 1 & 36 & Age\\_31\\_40\\\\\n",
       "\t4 & 000006 & 0 & 0 & 0 & 1 & 0 & Derrick  & Peoples   & 0 & 1948 & 0 & 1 & 58 & Age\\_51\\_65\\\\\n",
       "\t5 & 000007 & 0 & 0 & 0 & 0 & 1 & Yevanit  & Thai      & 0 & 1922 & 0 & 0 & 84 & Age\\_65\\_all\\\\\n",
       "\t6 & 000008 & 1 & 0 & 0 & 0 & 0 & Mikkayla & al-Yousef & 1 & 1976 & 0 & 0 & 30 & Age\\_18\\_30\\\\\n",
       "\\end{tabular}\n"
      ],
      "text/markdown": [
       "\n",
       "A data.frame: 6 × 14\n",
       "\n",
       "| <!--/--> | ID &lt;chr&gt; | civicduty &lt;int&gt; | hawthorne &lt;int&gt; | self &lt;int&gt; | neighbors &lt;int&gt; | control &lt;int&gt; | first.name &lt;chr&gt; | last.name &lt;chr&gt; | sex &lt;int&gt; | yob &lt;int&gt; | voting2005 &lt;int&gt; | voting2006 &lt;int&gt; | age &lt;list&gt; | age_group &lt;list&gt; |\n",
       "|---|---|---|---|---|---|---|---|---|---|---|---|---|---|---|\n",
       "| 1 | 000001 | 0 | 0 | 0 | 0 | 1 | Lucas    | Cervantes | 1 | 1952 | 0 | 1 | 54 | Age_51_65 |\n",
       "| 2 | 000002 | 1 | 0 | 0 | 0 | 0 | Kelsy    | Douglas   | 0 | 1947 | 0 | 0 | 59 | Age_51_65 |\n",
       "| 3 | 000005 | 0 | 0 | 0 | 0 | 1 | Oyate    | Chen      | 0 | 1970 | 1 | 1 | 36 | Age_31_40 |\n",
       "| 4 | 000006 | 0 | 0 | 0 | 1 | 0 | Derrick  | Peoples   | 0 | 1948 | 0 | 1 | 58 | Age_51_65 |\n",
       "| 5 | 000007 | 0 | 0 | 0 | 0 | 1 | Yevanit  | Thai      | 0 | 1922 | 0 | 0 | 84 | Age_65_all |\n",
       "| 6 | 000008 | 1 | 0 | 0 | 0 | 0 | Mikkayla | al-Yousef | 1 | 1976 | 0 | 0 | 30 | Age_18_30 |\n",
       "\n"
      ],
      "text/plain": [
       "  ID     civicduty hawthorne self neighbors control first.name last.name sex\n",
       "1 000001 0         0         0    0         1       Lucas      Cervantes 1  \n",
       "2 000002 1         0         0    0         0       Kelsy      Douglas   0  \n",
       "3 000005 0         0         0    0         1       Oyate      Chen      0  \n",
       "4 000006 0         0         0    1         0       Derrick    Peoples   0  \n",
       "5 000007 0         0         0    0         1       Yevanit    Thai      0  \n",
       "6 000008 1         0         0    0         0       Mikkayla   al-Yousef 1  \n",
       "  yob  voting2005 voting2006 age age_group \n",
       "1 1952 0          1          54  Age_51_65 \n",
       "2 1947 0          0          59  Age_51_65 \n",
       "3 1970 1          1          36  Age_31_40 \n",
       "4 1948 0          1          58  Age_51_65 \n",
       "5 1922 0          0          84  Age_65_all\n",
       "6 1976 0          0          30  Age_18_30 "
      ]
     },
     "metadata": {},
     "output_type": "display_data"
    }
   ],
   "source": [
    "head(completeData)"
   ]
  },
  {
   "cell_type": "code",
   "execution_count": 63,
   "metadata": {},
   "outputs": [
    {
     "data": {
      "text/html": [
       "85185"
      ],
      "text/latex": [
       "85185"
      ],
      "text/markdown": [
       "85185"
      ],
      "text/plain": [
       "[1] 85185"
      ]
     },
     "metadata": {},
     "output_type": "display_data"
    }
   ],
   "source": [
    "length(Age_18_30[1:length(Age_18_30)])"
   ]
  },
  {
   "cell_type": "code",
   "execution_count": 64,
   "metadata": {},
   "outputs": [],
   "source": [
    "one_hot_encoded_data <- completeData\n",
    "one_hot_encoded_data$Age_18_30 <- Age_18_30[1:length(Age_18_30)]\n",
    "one_hot_encoded_data$Age_31_40 <- Age_31_40[1:length(Age_31_40)]\n",
    "one_hot_encoded_data$Age_41_50 <- Age_41_50[1:length(Age_41_50)]\n",
    "one_hot_encoded_data$Age_51_65 <- Age_51_65[1:length(Age_51_65)]\n",
    "one_hot_encoded_data$Age_65_all <- Age_65_all[1:length(Age_65_all)]"
   ]
  },
  {
   "cell_type": "markdown",
   "metadata": {},
   "source": [
    "## Question - For each age group, what percentage of people voted in 2006? Which age group had the largest percentage of people vote?"
   ]
  },
  {
   "cell_type": "code",
   "execution_count": 67,
   "metadata": {},
   "outputs": [],
   "source": [
    "#Creating a dataframe to group age_groups (one_hot) and if they voted\n",
    "AgeGroupsAndVotingDataFrame <- completeData\n",
    "AgeGroupsAndVotingDataFrame$Age_18_30 <- Age_18_30[1:length(Age_18_30)]\n",
    "AgeGroupsAndVotingDataFrame$Age_31_40 <- Age_31_40[1:length(Age_31_40)]\n",
    "AgeGroupsAndVotingDataFrame$Age_41_50 <- Age_41_50[1:length(Age_41_50)]\n",
    "AgeGroupsAndVotingDataFrame$Age_51_65 <- Age_51_65[1:length(Age_51_65)]\n",
    "AgeGroupsAndVotingDataFrame$Age_65_all <- Age_65_all[1:length(Age_65_all)]\n",
    "\n",
    "AgeGroupsAndVotingDataFrame$civicduty <- completeData$civicduty\n",
    "AgeGroupsAndVotingDataFrame$hawthorne <- completeData$hawthorne\n",
    "AgeGroupsAndVotingDataFrame$self <- completeData$self\n",
    "AgeGroupsAndVotingDataFrame$neighbors <- completeData$neighbors\n",
    "AgeGroupsAndVotingDataFrame$control <- completeData$control\n",
    "AgeGroupsAndVotingDataFrame$voted2006 <- completeData$voting2006\n"
   ]
  },
  {
   "cell_type": "code",
   "execution_count": 71,
   "metadata": {},
   "outputs": [],
   "source": [
    "voters_18 <- as.numeric(AgeGroupsAndVotingDataFrame$Age_18_30) * as.numeric(AgeGroupsAndVotingDataFrame$voted2006)\n",
    "voters_31 <- as.numeric(AgeGroupsAndVotingDataFrame$Age_31_40) * as.numeric(AgeGroupsAndVotingDataFrame$voted2006)\n",
    "voters_41 <- as.numeric(AgeGroupsAndVotingDataFrame$Age_41_50) * as.numeric(AgeGroupsAndVotingDataFrame$voted2006)\n",
    "voters_51 <- as.numeric(AgeGroupsAndVotingDataFrame$Age_51_65) * as.numeric(AgeGroupsAndVotingDataFrame$voted2006)\n",
    "voters_65 <- as.numeric(AgeGroupsAndVotingDataFrame$Age_65_all) * as.numeric(AgeGroupsAndVotingDataFrame$voted2006)"
   ]
  },
  {
   "cell_type": "code",
   "execution_count": 72,
   "metadata": {},
   "outputs": [
    {
     "name": "stdout",
     "output_type": "stream",
     "text": [
      "[1] 0.02150613\n",
      "[1] 0.03502964\n",
      "[1] 0.07374538\n",
      "[1] 0.09568586\n",
      "[1] 0.03828139\n"
     ]
    }
   ],
   "source": [
    "percentage_18 = sum(as.numeric(voters_18)) / length(completeData$control)\n",
    "percentage_31 = sum(as.numeric(voters_31)) / length(completeData$control)\n",
    "percentage_41 = sum(as.numeric(voters_41)) / length(completeData$control)\n",
    "percentage_51 = sum(as.numeric(voters_51)) / length(completeData$control)\n",
    "percentage_65 = sum(as.numeric(voters_65)) / length(completeData$control)\n",
    "\n",
    "print(percentage_18)\n",
    "print(percentage_31)\n",
    "print(percentage_41)\n",
    "print(percentage_51)\n",
    "print(percentage_65)"
   ]
  },
  {
   "cell_type": "markdown",
   "metadata": {},
   "source": [
    "### Answer - The percentages of voters in 2006 per age group are:\n",
    "(Percentage of total citizens of the age group that vote)\n",
    "* 18-30: 2%\n",
    "* 31-40: 4%\n",
    "* 41-50: 7%\n",
    "* 51-65: 10%\n",
    "* 65-all: 4%\n",
    "\n",
    "The age group with largest voting percentage was: the ages 51 to 65, one must notice that this group is also the group with the largest age range, which possibly contributes to this result."
   ]
  },
  {
   "cell_type": "markdown",
   "metadata": {},
   "source": [
    "## Question - For each treatment group, what percentage of people voted in 2006? Which treatment group had the largest percentage of people vote?\n",
    "\n"
   ]
  },
  {
   "cell_type": "code",
   "execution_count": 73,
   "metadata": {},
   "outputs": [
    {
     "name": "stdout",
     "output_type": "stream",
     "text": [
      "[1] 0.05756882\n",
      "[1] 0.04628749\n",
      "[1] 0.05736926\n",
      "[1] 0.06239361\n",
      "[1] 0.04055878\n"
     ]
    }
   ],
   "source": [
    "#Creating a dataframe to group age_groups (one_hot) and if they voted\n",
    "group_civic <- AgeGroupsAndVotingDataFrame$civicduty * AgeGroupsAndVotingDataFrame$voted2006\n",
    "group_hawthorne <- AgeGroupsAndVotingDataFrame$hawthorne * AgeGroupsAndVotingDataFrame$voted2006\n",
    "group_self <- AgeGroupsAndVotingDataFrame$self * AgeGroupsAndVotingDataFrame$voted2006\n",
    "group_neighbors <- AgeGroupsAndVotingDataFrame$neighbors * AgeGroupsAndVotingDataFrame$voted2006\n",
    "group_control <- AgeGroupsAndVotingDataFrame$control * AgeGroupsAndVotingDataFrame$voted2006\n",
    "\n",
    "percentage_civic = sum(as.numeric(group_civic)) / length(completeData$control)\n",
    "percentage_hawthorne = sum(as.numeric(group_hawthorne)) / length(completeData$control)\n",
    "percentage_self = sum(as.numeric(group_self)) / length(completeData$control)\n",
    "percentage_neighbors = sum(as.numeric(group_neighbors)) / length(completeData$control)\n",
    "percentage_control = sum(as.numeric(group_control)) / length(completeData$control)\n",
    "\n",
    "print(percentage_civic)\n",
    "print(percentage_hawthorne)\n",
    "print(percentage_self)\n",
    "print(percentage_neighbors)\n",
    "print(percentage_control)\n"
   ]
  },
  {
   "cell_type": "markdown",
   "metadata": {},
   "source": [
    "### Answer - The percentages of voters in 2006 per age group are:\n",
    "* civic: 6%\n",
    "* hawthorne: 5%\n",
    "* self: 6%\n",
    "* neighbors: 6%\n",
    "* control: 4%\n",
    "\n",
    "The age group with largest voting in 2006 percentage was: the Neighbhors"
   ]
  },
  {
   "cell_type": "markdown",
   "metadata": {},
   "source": [
    "# Task 2 - Data visualization"
   ]
  },
  {
   "cell_type": "markdown",
   "metadata": {},
   "source": [
    "Note: we only used data for 2006 voters, so as not to confuse our audience when there is 2005 or 2006 data"
   ]
  },
  {
   "cell_type": "markdown",
   "metadata": {},
   "source": [
    "## 1. Stacked bar chart - voter breakdown\n",
    "showing the breakdown by age group (18-30, 31-40, 41-50, 51-64, 65+)\n",
    "of the number of voters vs non-voters, i.e., the X-axis should be the Age Group, the Y-axis should be the count of people with voting records. Each stack will be composed of the non-voters and the voters and will sum to the number of people in the age group."
   ]
  },
  {
   "cell_type": "code",
   "execution_count": 122,
   "metadata": {},
   "outputs": [],
   "source": [
    "sum_vote_18 <- sum(voters_18)\n",
    "total_18 <- sum(as.numeric(AgeGroupsAndVotingDataFrame$Age_18_30))\n",
    "sum_vote_31 <- sum(voters_31)\n",
    "total_31 <- sum(as.numeric(AgeGroupsAndVotingDataFrame$Age_31_40))\n",
    "sum_vote_41 <- sum(voters_41)\n",
    "total_41 <- sum(as.numeric(AgeGroupsAndVotingDataFrame$Age_41_50))\n",
    "sum_vote_51 <- sum(voters_51)\n",
    "total_51 <- sum(as.numeric(AgeGroupsAndVotingDataFrame$Age_51_65))\n",
    "sum_vote_65 <- sum(voters_65)\n",
    "total_65 <- sum(as.numeric(AgeGroupsAndVotingDataFrame$Age_65_all))\n",
    "\n",
    "stackedValues = list(sum_vote_18, total_18, sum_vote_31, total_31,\n",
    "                     sum_vote_41, total_41,\n",
    "                     sum_vote_51, total_51,\n",
    "                     sum_vote_65, total_65)"
   ]
  },
  {
   "cell_type": "code",
   "execution_count": 123,
   "metadata": {},
   "outputs": [
    {
     "data": {
      "image/png": "[encoded data removed]",
      "text/plain": [
       "plot without title"
      ]
     },
     "metadata": {
      "image/png": {
       "height": 420,
       "width": 420
      },
      "text/plain": {
       "height": 420,
       "width": 420
      }
     },
     "output_type": "display_data"
    }
   ],
   "source": [
    "ages <- c( rep(\"18\",2), rep(\"31\",2), rep(\"41\",2), rep(\"51\",2),rep(\"65\",2))\n",
    "condition <- rep(c(\"voted\", \"did not vote\"),5)\n",
    "value <- abs(as.numeric(stackedValues))\n",
    "\n",
    "ggplot_data_stacked_1 <- data.frame(ages,condition,value)\n",
    "\n",
    "ggplot(ggplot_data_stacked_1, aes(fill=condition, y=value, x=ages)) + \n",
    "    geom_bar(position=\"stack\", stat=\"identity\")"
   ]
  },
  {
   "cell_type": "markdown",
   "metadata": {},
   "source": [
    "## 2. Stacked bar chart - group breakdown\n",
    "showing the breakdown by Groups (treatments + control) of the\n",
    "percentage of people who voted, i.e., the X-axis should be the Group Name and the Y-axis should be the percentage of people who voted. Each stack will be composed of the nonvoters and the voters and will sum to 100%."
   ]
  },
  {
   "cell_type": "code",
   "execution_count": 131,
   "metadata": {},
   "outputs": [],
   "source": [
    "sum_civic <- sum(group_civic)\n",
    "total_civic <- sum(AgeGroupsAndVotingDataFrame$civicduty)\n",
    "sum_hawthorne <- sum(group_hawthorne)\n",
    "total_hawthorne <- sum(AgeGroupsAndVotingDataFrame$hawthorne)\n",
    "sum_self <- sum(group_self)\n",
    "total_self <- sum(AgeGroupsAndVotingDataFrame$self)\n",
    "sum_neighbors <- sum(group_neighbors)\n",
    "total_neighbors <- sum(AgeGroupsAndVotingDataFrame$neighbors)\n",
    "sum_control <- sum(group_control)\n",
    "total_control <- sum(AgeGroupsAndVotingDataFrame$control)\n",
    "\n",
    "stackedValues = list(sum_civic, total_civic,sum_hawthorne, total_hawthorne,\n",
    "                     sum_self, total_self,\n",
    "                     sum_neighbors, total_neighbors,\n",
    "                     sum_control, total_control)"
   ]
  },
  {
   "cell_type": "code",
   "execution_count": 133,
   "metadata": {},
   "outputs": [
    {
     "data": {
      "image/png": "[encoded data removed]",
      "text/plain": [
       "plot without title"
      ]
     },
     "metadata": {
      "image/png": {
       "height": 420,
       "width": 420
      },
      "text/plain": {
       "height": 420,
       "width": 420
      }
     },
     "output_type": "display_data"
    }
   ],
   "source": [
    "ages <- c( rep(\"civic\",2), rep(\"hawthorn\",2), rep(\"self\",2), rep(\"neighbors\",2),rep(\"control\",2))\n",
    "condition <- rep(c(\"voted\", \"did not vote\"),5)\n",
    "value <- abs(as.numeric(stackedValues))\n",
    "\n",
    "ggplot_data_stacked_1 <- data.frame(ages,condition,value)\n",
    "\n",
    "ggplot(ggplot_data_stacked_1, aes(fill=condition, y=value, x=ages)) + \n",
    "    geom_bar(position=\"fill\", stat=\"identity\")"
   ]
  },
  {
   "cell_type": "markdown",
   "metadata": {},
   "source": [
    "# Task 3 - Modeling with logistic regression"
   ]
  },
  {
   "cell_type": "markdown",
   "metadata": {},
   "source": [
    "## Part 1- "
   ]
  },
  {
   "cell_type": "markdown",
   "metadata": {},
   "source": [
    "Build a logistic regression model for voting2006 using the give group variables as the independent variables as well as the age_group variable you created in Task 1."
   ]
  },
  {
   "cell_type": "code",
   "execution_count": 27,
   "metadata": {},
   "outputs": [],
   "source": [
    "unlisted_age_group = unlist(ageGroup)"
   ]
  },
  {
   "cell_type": "code",
   "execution_count": 28,
   "metadata": {},
   "outputs": [],
   "source": [
    "completeData$unlisted_age_group = unlisted_age_group"
   ]
  },
  {
   "cell_type": "code",
   "execution_count": 147,
   "metadata": {},
   "outputs": [],
   "source": [
    "LogisticRegression <- glm(voting2006 ~ civicduty + hawthorne + self + neighbors + control + unlisted_age_group, data = completeData, family = \"binomial\")"
   ]
  },
  {
   "cell_type": "code",
   "execution_count": 148,
   "metadata": {},
   "outputs": [
    {
     "data": {
      "text/plain": [
       "\n",
       "Call:\n",
       "glm(formula = voting2006 ~ civicduty + hawthorne + self + neighbors + \n",
       "    control + unlisted_age_group, family = \"binomial\", data = completeData)\n",
       "\n",
       "Deviance Residuals: \n",
       "    Min       1Q   Median       3Q      Max  \n",
       "-0.8696  -0.8358  -0.7322   1.5321   1.8346  \n",
       "\n",
       "Coefficients:\n",
       "                             Estimate Std. Error z value Pr(>|z|)    \n",
       "(Intercept)                  -1.11611    0.47575  -2.346 0.018975 *  \n",
       "civicduty                     0.18152    0.47527   0.382 0.702509    \n",
       "hawthorne                    -0.13130    0.47532  -0.276 0.782370    \n",
       "self                          0.13513    0.47527   0.284 0.776168    \n",
       "neighbors                     0.20363    0.47525   0.428 0.668309    \n",
       "control                      -0.34968    0.47535  -0.736 0.461961    \n",
       "unlisted_age_groupAge_31_40   0.13479    0.03476   3.878 0.000105 ***\n",
       "unlisted_age_groupAge_41_50   0.06793    0.03097   2.193 0.028289 *  \n",
       "unlisted_age_groupAge_51_65   0.10878    0.03020   3.602 0.000316 ***\n",
       "unlisted_age_groupAge_65_all -0.01159    0.03394  -0.342 0.732687    \n",
       "---\n",
       "Signif. codes:  0 '***' 0.001 '**' 0.01 '*' 0.05 '.' 0.1 ' ' 1\n",
       "\n",
       "(Dispersion parameter for binomial family taken to be 1)\n",
       "\n",
       "    Null deviance: 98381  on 85184  degrees of freedom\n",
       "Residual deviance: 97620  on 85175  degrees of freedom\n",
       "AIC: 97640\n",
       "\n",
       "Number of Fisher Scoring iterations: 4\n"
      ]
     },
     "metadata": {},
     "output_type": "display_data"
    }
   ],
   "source": [
    "summary(LogisticRegression)"
   ]
  },
  {
   "cell_type": "markdown",
   "metadata": {},
   "source": [
    "In the output above, we see the deviance residuals, which are a measure of model fit. This part of output shows the distribution of the deviance residuals for individual cases used in the model.\n",
    "\n",
    "Next it shows the coefficients, standard errors, the z-statistic, and the associated p-values, here we can see that the group values are not statistically significand, but every age value is (except for age 65+)\n",
    "\n"
   ]
  },
  {
   "cell_type": "markdown",
   "metadata": {},
   "source": [
    "We can use the confint function to obtain confidence intervals for the coefficient estimates."
   ]
  },
  {
   "cell_type": "code",
   "execution_count": 31,
   "metadata": {},
   "outputs": [
    {
     "name": "stderr",
     "output_type": "stream",
     "text": [
      "Waiting for profiling to be done...\n",
      "\n"
     ]
    },
    {
     "data": {
      "text/html": [
       "<table>\n",
       "<caption>A matrix: 10 × 2 of type dbl</caption>\n",
       "<thead>\n",
       "\t<tr><th></th><th scope=col>2.5 %</th><th scope=col>97.5 %</th></tr>\n",
       "</thead>\n",
       "<tbody>\n",
       "\t<tr><th scope=row>(Intercept)</th><td>-2.137056855</td><td>-0.23581222</td></tr>\n",
       "\t<tr><th scope=row>civicduty</th><td>-0.697752804</td><td> 1.20170442</td></tr>\n",
       "\t<tr><th scope=row>hawthorne</th><td>-1.010669767</td><td> 0.88895291</td></tr>\n",
       "\t<tr><th scope=row>self</th><td>-0.744142703</td><td> 1.15530277</td></tr>\n",
       "\t<tr><th scope=row>neighbors</th><td>-0.675597979</td><td> 1.22377635</td></tr>\n",
       "\t<tr><th scope=row>control</th><td>-1.229114846</td><td> 0.67062342</td></tr>\n",
       "\t<tr><th scope=row>unlisted_age_groupAge_31_40</th><td> 0.066746297</td><td> 0.20301334</td></tr>\n",
       "\t<tr><th scope=row>unlisted_age_groupAge_41_50</th><td> 0.007384053</td><td> 0.12879284</td></tr>\n",
       "\t<tr><th scope=row>unlisted_age_groupAge_51_65</th><td> 0.049761170</td><td> 0.16814798</td></tr>\n",
       "\t<tr><th scope=row>unlisted_age_groupAge_65_all</th><td>-0.078020966</td><td> 0.05503539</td></tr>\n",
       "</tbody>\n",
       "</table>\n"
      ],
      "text/latex": [
       "A matrix: 10 × 2 of type dbl\n",
       "\\begin{tabular}{r|ll}\n",
       "  & 2.5 \\% & 97.5 \\%\\\\\n",
       "\\hline\n",
       "\t(Intercept) & -2.137056855 & -0.23581222\\\\\n",
       "\tcivicduty & -0.697752804 &  1.20170442\\\\\n",
       "\thawthorne & -1.010669767 &  0.88895291\\\\\n",
       "\tself & -0.744142703 &  1.15530277\\\\\n",
       "\tneighbors & -0.675597979 &  1.22377635\\\\\n",
       "\tcontrol & -1.229114846 &  0.67062342\\\\\n",
       "\tunlisted\\_age\\_groupAge\\_31\\_40 &  0.066746297 &  0.20301334\\\\\n",
       "\tunlisted\\_age\\_groupAge\\_41\\_50 &  0.007384053 &  0.12879284\\\\\n",
       "\tunlisted\\_age\\_groupAge\\_51\\_65 &  0.049761170 &  0.16814798\\\\\n",
       "\tunlisted\\_age\\_groupAge\\_65\\_all & -0.078020966 &  0.05503539\\\\\n",
       "\\end{tabular}\n"
      ],
      "text/markdown": [
       "\n",
       "A matrix: 10 × 2 of type dbl\n",
       "\n",
       "| <!--/--> | 2.5 % | 97.5 % |\n",
       "|---|---|---|\n",
       "| (Intercept) | -2.137056855 | -0.23581222 |\n",
       "| civicduty | -0.697752804 |  1.20170442 |\n",
       "| hawthorne | -1.010669767 |  0.88895291 |\n",
       "| self | -0.744142703 |  1.15530277 |\n",
       "| neighbors | -0.675597979 |  1.22377635 |\n",
       "| control | -1.229114846 |  0.67062342 |\n",
       "| unlisted_age_groupAge_31_40 |  0.066746297 |  0.20301334 |\n",
       "| unlisted_age_groupAge_41_50 |  0.007384053 |  0.12879284 |\n",
       "| unlisted_age_groupAge_51_65 |  0.049761170 |  0.16814798 |\n",
       "| unlisted_age_groupAge_65_all | -0.078020966 |  0.05503539 |\n",
       "\n"
      ],
      "text/plain": [
       "                             2.5 %        97.5 %     \n",
       "(Intercept)                  -2.137056855 -0.23581222\n",
       "civicduty                    -0.697752804  1.20170442\n",
       "hawthorne                    -1.010669767  0.88895291\n",
       "self                         -0.744142703  1.15530277\n",
       "neighbors                    -0.675597979  1.22377635\n",
       "control                      -1.229114846  0.67062342\n",
       "unlisted_age_groupAge_31_40   0.066746297  0.20301334\n",
       "unlisted_age_groupAge_41_50   0.007384053  0.12879284\n",
       "unlisted_age_groupAge_51_65   0.049761170  0.16814798\n",
       "unlisted_age_groupAge_65_all -0.078020966  0.05503539"
      ]
     },
     "metadata": {},
     "output_type": "display_data"
    }
   ],
   "source": [
    "confint(LogisticRegression)"
   ]
  },
  {
   "cell_type": "markdown",
   "metadata": {},
   "source": [
    "**The coefficient with most significance in this regression model is the p-value Pr(>|z|), which indicates evidence against or for a Null hypothesis**"
   ]
  },
  {
   "cell_type": "markdown",
   "metadata": {},
   "source": [
    "## Part 2-  Using a threshold of 0.5, what is the accuracy of the logistic regression model?\n",
    "\n",
    "Taking the definition of [accuracy](https://en.wikipedia.org/wiki/Accuracy_and_precision) \n",
    "- Accuracy = (TP + TN)/(TP + TN + FP + FN)"
   ]
  },
  {
   "cell_type": "code",
   "execution_count": 155,
   "metadata": {},
   "outputs": [],
   "source": [
    "LogisticRegression_probabilities = predict(LogisticRegression,newdata = completeData)"
   ]
  },
  {
   "cell_type": "code",
   "execution_count": 158,
   "metadata": {},
   "outputs": [
    {
     "name": "stdout",
     "output_type": "stream",
     "text": [
      "[1] 0.7357516\n"
     ]
    }
   ],
   "source": [
    "count = 0\n",
    "for(i in seq(1,length(LogisticRegression_probabilities))){\n",
    "    if(LogisticRegression_probabilities[i] > 0.5){\n",
    "        if(completeData$voting2006[i] == 1){\n",
    "            count = count + 1\n",
    "        }\n",
    "    } else{\n",
    "        if(completeData$voting2006[i] == 0){\n",
    "            count = count + 1\n",
    "        }\n",
    "    }\n",
    "}\n",
    "print(count / length(LogisticRegression_probabilities))"
   ]
  },
  {
   "cell_type": "code",
   "execution_count": 157,
   "metadata": {
    "scrolled": true
   },
   "outputs": [
    {
     "name": "stdout",
     "output_type": "stream",
     "text": [
      "[1] 0.02568527\n"
     ]
    }
   ],
   "source": [
    "confMat <- table(completeData$voting2006,LogisticRegression_probabilities)\n",
    "accuracy <- sum(diag(confMat))/sum(confMat)\n",
    "print(accuracy) # This value "
   ]
  },
  {
   "cell_type": "markdown",
   "metadata": {},
   "source": [
    "Note: Using other measure of accuracy like (total values correcty predicted / total values, gives an accuracy of 73%). This is because noted that the model mostly predicts that a citizen did not vote. the most likely reason for this can be that our data is not properly distributed (it has 73% \"No_vote\" values)."
   ]
  },
  {
   "cell_type": "markdown",
   "metadata": {},
   "source": [
    "### Answer: the accuracy of the model is: 2.5%\n"
   ]
  },
  {
   "cell_type": "markdown",
   "metadata": {},
   "source": [
    "## Part 3- Plot the ROC curve for the model and compute the AUC of the model.\n",
    "\n"
   ]
  },
  {
   "cell_type": "code",
   "execution_count": 34,
   "metadata": {},
   "outputs": [
    {
     "name": "stderr",
     "output_type": "stream",
     "text": [
      "Type 'citation(\"pROC\")' for a citation.\n",
      "\n",
      "\n",
      "Attaching package: 'pROC'\n",
      "\n",
      "\n",
      "The following objects are masked from 'package:stats':\n",
      "\n",
      "    cov, smooth, var\n",
      "\n",
      "\n",
      "Setting levels: control = 0, case = 1\n",
      "\n",
      "Setting direction: controls < cases\n",
      "\n"
     ]
    },
    {
     "data": {
      "text/html": [
       "0.568027962575513"
      ],
      "text/latex": [
       "0.568027962575513"
      ],
      "text/markdown": [
       "0.568027962575513"
      ],
      "text/plain": [
       "Area under the curve: 0.568"
      ]
     },
     "metadata": {},
     "output_type": "display_data"
    }
   ],
   "source": [
    "library(pROC)\n",
    "roc_obj <- roc(completeData$voting2006, LogisticRegression_probabilities)\n",
    "auc(roc_obj)"
   ]
  },
  {
   "cell_type": "code",
   "execution_count": 35,
   "metadata": {},
   "outputs": [
    {
     "name": "stderr",
     "output_type": "stream",
     "text": [
      "Setting levels: control = 0, case = 1\n",
      "\n",
      "Setting direction: controls < cases\n",
      "\n",
      "Warning message in plot.ci.se(sens.ci, type = \"shape\", col = \"lightblue\"):\n",
      "\"Low definition shape.\"\n"
     ]
    },
    {
     "data": {
      "image/png": "[encoded data removed]",
      "text/plain": [
       "plot without title"
      ]
     },
     "metadata": {
      "image/png": {
       "height": 420,
       "width": 420
      },
      "text/plain": {
       "height": 420,
       "width": 420
      }
     },
     "output_type": "display_data"
    }
   ],
   "source": [
    "pROC_obj <- roc(completeData$voting2006,LogisticRegression_probabilities,\n",
    "            smoothed = TRUE,\n",
    "            # arguments for ci\n",
    "            ci=TRUE, ci.alpha=0.9, stratified=FALSE,\n",
    "            # arguments for plot\n",
    "            plot=TRUE, auc.polygon=TRUE, max.auc.polygon=TRUE, grid=TRUE,\n",
    "            print.auc=TRUE, show.thres=TRUE)\n",
    "\n",
    "\n",
    "sens.ci <- ci.se(pROC_obj)\n",
    "plot(sens.ci, type=\"shape\", col=\"lightblue\")\n",
    "\n",
    "## Warning in plot.ci.se(sens.ci, type = \"shape\", col = \"lightblue\"): Low\n",
    "## definition shape.\n",
    "\n",
    "plot(sens.ci, type=\"bars\")"
   ]
  },
  {
   "cell_type": "markdown",
   "metadata": {},
   "source": [
    "An ROC curve is a graph showing the performance of a classification model at all classification tresholds: it plots two parameters, \n",
    "- the True Positive Rate\n",
    "- False positive rate:\n"
   ]
  },
  {
   "attachments": {
    "image.png": {
     "image/png": "[encoded data removed]"
    }
   },
   "cell_type": "markdown",
   "metadata": {},
   "source": [
    "![image.png](attachment:image.png)"
   ]
  },
  {
   "cell_type": "markdown",
   "metadata": {},
   "source": [
    "An ROC curve plots TPR vs. FPR at different classification thresholds. "
   ]
  },
  {
   "attachments": {
    "image.png": {
     "image/png": "[encoded data removed]"
    }
   },
   "cell_type": "markdown",
   "metadata": {},
   "source": [
    "![image.png](attachment:image.png)"
   ]
  },
  {
   "cell_type": "markdown",
   "metadata": {},
   "source": [
    "images taken from [google](https://developers.google.com/machine-learning/crash-course/classification/roc-and-auc)"
   ]
  },
  {
   "cell_type": "markdown",
   "metadata": {},
   "source": [
    "On the other hand AUC measures the entire two-dimensional area underneath the entire ROC curve. AUC provides an aggregate measure of performance across all possible classification thresholds, AUC ranges in value from 0 to 1. A model whose predictions are 100% wrong has an AUC of 0.0; one whose predictions are 100% correct has an AUC of 1.0.\n",
    "\n",
    "Here we can see that our **AUC value is of 0.568**, which means that our model does not perform well, in the case of our curve we can see how at certain thresholds it moves agressively, this could mean that the model is getting stuck at some points and then overcompensating, this is motif for future analysis."
   ]
  },
  {
   "cell_type": "markdown",
   "metadata": {},
   "source": [
    "# Task 4 - Modeling with Trees"
   ]
  },
  {
   "cell_type": "markdown",
   "metadata": {},
   "source": [
    "## Part 1- Using the rpart function in R and leaving all the parameters at their default values use the option method=”class”, build the model and plot the tree."
   ]
  },
  {
   "cell_type": "code",
   "execution_count": 38,
   "metadata": {},
   "outputs": [],
   "source": [
    "#Grow the tree\n",
    "Tree_model = rpart(voting2006 ~ civicduty + hawthorne + self + neighbors + control + unlisted_age_group, data = completeData, method=\"class\")"
   ]
  },
  {
   "cell_type": "code",
   "execution_count": 39,
   "metadata": {},
   "outputs": [
    {
     "name": "stdout",
     "output_type": "stream",
     "text": [
      "\n",
      "Classification tree:\n",
      "rpart(formula = voting2006 ~ civicduty + hawthorne + self + neighbors + \n",
      "    control + unlisted_age_group, data = completeData, method = \"class\")\n",
      "\n",
      "Variables actually used in tree construction:\n",
      "[1] civicduty          control            hawthorne          neighbors         \n",
      "[5] self               unlisted_age_group\n",
      "\n",
      "Root node error: 22510/85185 = 0.26425\n",
      "\n",
      "n= 85185 \n",
      "\n",
      "        CP nsplit rel error  xerror      xstd\n",
      "1 0.039005      0   1.00000 1.00000 0.0057171\n",
      "2 0.010000     10   0.48925 0.48925 0.0043503\n",
      "Call:\n",
      "rpart(formula = voting2006 ~ civicduty + hawthorne + self + neighbors + \n",
      "    control + unlisted_age_group, data = completeData, method = \"class\")\n",
      "  n= 85185 \n",
      "\n",
      "          CP nsplit rel error    xerror        xstd\n",
      "1 0.03900489      0 1.0000000 1.0000000 0.005717127\n",
      "2 0.01000000     10 0.4892492 0.4892492 0.004350265\n",
      "\n",
      "Variable importance\n",
      "unlisted_age_group          civicduty          neighbors            control \n",
      "                42                 28                 28                  1 \n",
      "\n",
      "Node number 1: 85185 observations,    complexity param=0.03900489\n",
      "  predicted class=0  expected loss=0.2642484  P(node) =1\n",
      "    class counts: 62675 22510\n",
      "   probabilities: 0.736 0.264 \n",
      "  left son=2 (17299 obs) right son=3 (67886 obs)\n",
      "  Primary splits:\n",
      "      control   < 0.5 to the right, improve=180.75970, (0 missing)\n",
      "      neighbors < 0.5 to the left,  improve= 61.92901, (0 missing)\n",
      "      civicduty < 0.5 to the left,  improve= 43.43778, (0 missing)\n",
      "      hawthorne < 0.5 to the right, improve= 33.25486, (0 missing)\n",
      "      self      < 0.5 to the left,  improve= 22.71690, (0 missing)\n",
      "\n",
      "Node number 2: 17299 observations\n",
      "  predicted class=0  expected loss=0.1997225  P(node) =0.2030757\n",
      "    class counts: 13844  3455\n",
      "   probabilities: 0.800 0.200 \n",
      "\n",
      "Node number 3: 67886 observations,    complexity param=0.03900489\n",
      "  predicted class=0  expected loss=0.2806912  P(node) =0.7969243\n",
      "    class counts: 48831 19055\n",
      "   probabilities: 0.719 0.281 \n",
      "  left son=6 (16710 obs) right son=7 (51176 obs)\n",
      "  Primary splits:\n",
      "      hawthorne          < 0.5 to the right, improve=88.677750, (0 missing)\n",
      "      neighbors          < 0.5 to the left,  improve=20.768030, (0 missing)\n",
      "      unlisted_age_group splits as  LRRRL,   improve=15.065060, (0 missing)\n",
      "      civicduty          < 0.5 to the left,  improve=11.331600, (0 missing)\n",
      "      self               < 0.5 to the left,  improve= 2.023759, (0 missing)\n",
      "\n",
      "Node number 6: 16710 observations,    complexity param=0.03900489\n",
      "  predicted class=0  expected loss=0.2359665  P(node) =0.1961613\n",
      "    class counts: 12767  3943\n",
      "   probabilities: 0.764 0.236 \n",
      "  left son=12 (13064 obs) right son=13 (3646 obs)\n",
      "  Primary splits:\n",
      "      unlisted_age_group splits as  RRLLL, improve=3646.331, (0 missing)\n",
      "\n",
      "Node number 7: 51176 observations,    complexity param=0.03900489\n",
      "  predicted class=0  expected loss=0.2952947  P(node) =0.600763\n",
      "    class counts: 36064 15112\n",
      "   probabilities: 0.705 0.295 \n",
      "  left son=14 (11308 obs) right son=15 (39868 obs)\n",
      "  Primary splits:\n",
      "      unlisted_age_group splits as  LLRRR,   improve=1166.9780000, (0 missing)\n",
      "      self               < 0.5 to the right, improve=   3.1996870, (0 missing)\n",
      "      neighbors          < 0.5 to the left,  improve=   2.1221620, (0 missing)\n",
      "      civicduty          < 0.5 to the left,  improve=   0.1103534, (0 missing)\n",
      "\n",
      "Node number 12: 13064 observations\n",
      "  predicted class=0  expected loss=0.06146663  P(node) =0.1533603\n",
      "    class counts: 12261   803\n",
      "   probabilities: 0.939 0.061 \n",
      "\n",
      "Node number 13: 3646 observations\n",
      "  predicted class=1  expected loss=0.1387822  P(node) =0.04280096\n",
      "    class counts:   506  3140\n",
      "   probabilities: 0.139 0.861 \n",
      "\n",
      "Node number 14: 11308 observations\n",
      "  predicted class=0  expected loss=0.09480014  P(node) =0.1327464\n",
      "    class counts: 10236  1072\n",
      "   probabilities: 0.905 0.095 \n",
      "\n",
      "Node number 15: 39868 observations,    complexity param=0.03900489\n",
      "  predicted class=0  expected loss=0.3521621  P(node) =0.4680167\n",
      "    class counts: 25828 14040\n",
      "   probabilities: 0.648 0.352 \n",
      "  left son=30 (13275 obs) right son=31 (26593 obs)\n",
      "  Primary splits:\n",
      "      self               < 0.5 to the right, improve=6.0713860, (0 missing)\n",
      "      unlisted_age_group splits as  --LRL,   improve=4.4455690, (0 missing)\n",
      "      neighbors          < 0.5 to the left,  improve=2.2851480, (0 missing)\n",
      "      civicduty          < 0.5 to the left,  improve=0.9478503, (0 missing)\n",
      "  Surrogate splits:\n",
      "      neighbors < 0.5 to the left,  agree=0.677, adj=0.03, (0 split)\n",
      "\n",
      "Node number 30: 13275 observations,    complexity param=0.03900489\n",
      "  predicted class=0  expected loss=0.3398117  P(node) =0.1558373\n",
      "    class counts:  8764  4511\n",
      "   probabilities: 0.660 0.340 \n",
      "  left son=60 (10651 obs) right son=61 (2624 obs)\n",
      "  Primary splits:\n",
      "      unlisted_age_group splits as  --LLR, improve=2472.629, (0 missing)\n",
      "\n",
      "Node number 31: 26593 observations,    complexity param=0.03900489\n",
      "  predicted class=0  expected loss=0.3583274  P(node) =0.3121794\n",
      "    class counts: 17064  9529\n",
      "   probabilities: 0.642 0.358 \n",
      "  left son=62 (5347 obs) right son=63 (21246 obs)\n",
      "  Primary splits:\n",
      "      unlisted_age_group splits as  --RRL,   improve=1.391466e+03, (0 missing)\n",
      "      neighbors          < 0.5 to the left,  improve=8.522785e-02, (0 missing)\n",
      "      civicduty          < 0.5 to the right, improve=6.789766e-02, (0 missing)\n",
      "\n",
      "Node number 60: 10651 observations\n",
      "  predicted class=0  expected loss=0.1883391  P(node) =0.1250338\n",
      "    class counts:  8645  2006\n",
      "   probabilities: 0.812 0.188 \n",
      "\n",
      "Node number 61: 2624 observations\n",
      "  predicted class=1  expected loss=0.04535061  P(node) =0.03080355\n",
      "    class counts:   119  2505\n",
      "   probabilities: 0.045 0.955 \n",
      "\n",
      "Node number 62: 5347 observations\n",
      "  predicted class=0  expected loss=0.03590799  P(node) =0.06276927\n",
      "    class counts:  5155   192\n",
      "   probabilities: 0.964 0.036 \n",
      "\n",
      "Node number 63: 21246 observations,    complexity param=0.03900489\n",
      "  predicted class=0  expected loss=0.439471  P(node) =0.2494101\n",
      "    class counts: 11909  9337\n",
      "   probabilities: 0.561 0.439 \n",
      "  left son=126 (11739 obs) right son=127 (9507 obs)\n",
      "  Primary splits:\n",
      "      unlisted_age_group splits as  --RL-,   improve=57.008730000, (0 missing)\n",
      "      neighbors          < 0.5 to the left,  improve= 0.020036460, (0 missing)\n",
      "      civicduty          < 0.5 to the right, improve= 0.008322475, (0 missing)\n",
      "\n",
      "Node number 126: 11739 observations,    complexity param=0.03900489\n",
      "  predicted class=0  expected loss=0.4065082  P(node) =0.137806\n",
      "    class counts:  6967  4772\n",
      "   probabilities: 0.593 0.407 \n",
      "  left son=252 (5674 obs) right son=253 (6065 obs)\n",
      "  Primary splits:\n",
      "      neighbors < 0.5 to the left,  improve=2595.644, (0 missing)\n",
      "      civicduty < 0.5 to the right, improve=2595.214, (0 missing)\n",
      "  Surrogate splits:\n",
      "      civicduty < 0.5 to the right, agree=0.999, adj=0.999, (0 split)\n",
      "\n",
      "Node number 127: 9507 observations,    complexity param=0.03900489\n",
      "  predicted class=0  expected loss=0.4801725  P(node) =0.1116042\n",
      "    class counts:  4942  4565\n",
      "   probabilities: 0.520 0.480 \n",
      "  left son=254 (4925 obs) right son=255 (4582 obs)\n",
      "  Primary splits:\n",
      "      civicduty < 0.5 to the left,  improve=3190.294, (0 missing)\n",
      "      neighbors < 0.5 to the right, improve=3182.224, (0 missing)\n",
      "  Surrogate splits:\n",
      "      neighbors < 0.5 to the right, agree=0.999, adj=0.998, (0 split)\n",
      "\n",
      "Node number 252: 5674 observations\n",
      "  predicted class=0  expected loss=0.06274233  P(node) =0.06660797\n",
      "    class counts:  5318   356\n",
      "   probabilities: 0.937 0.063 \n",
      "\n",
      "Node number 253: 6065 observations\n",
      "  predicted class=1  expected loss=0.2718879  P(node) =0.07119798\n",
      "    class counts:  1649  4416\n",
      "   probabilities: 0.272 0.728 \n",
      "\n",
      "Node number 254: 4925 observations\n",
      "  predicted class=0  expected loss=0.08507614  P(node) =0.05781534\n",
      "    class counts:  4506   419\n",
      "   probabilities: 0.915 0.085 \n",
      "\n",
      "Node number 255: 4582 observations\n",
      "  predicted class=1  expected loss=0.09515495  P(node) =0.05378881\n",
      "    class counts:   436  4146\n",
      "   probabilities: 0.095 0.905 \n",
      "\n"
     ]
    },
    {
     "data": {
      "image/png": "[encoded data removed]",
      "text/plain": [
       "plot without title"
      ]
     },
     "metadata": {
      "image/png": {
       "height": 420,
       "width": 420
      },
      "text/plain": {
       "height": 420,
       "width": 420
      }
     },
     "output_type": "display_data"
    }
   ],
   "source": [
    "printcp(Tree_model) # display the results\n",
    "plotcp(Tree_model) # visualize cross-validation results\n",
    "summary(Tree_model) # detailed summary of splits"
   ]
  },
  {
   "cell_type": "code",
   "execution_count": 159,
   "metadata": {},
   "outputs": [
    {
     "ename": "ERROR",
     "evalue": "Error in postscript(file = filename, horizontal = horizontal, ...): cannot open file '/tree.ps'\n",
     "output_type": "error",
     "traceback": [
      "Error in postscript(file = filename, horizontal = horizontal, ...): cannot open file '/tree.ps'\nTraceback:\n",
      "1. post(Tree_model, file = \"/tree.ps\", title = \"Classification Tree\")",
      "2. post.rpart(Tree_model, file = \"/tree.ps\", title = \"Classification Tree\")",
      "3. postscript(file = filename, horizontal = horizontal, ...)"
     ]
    },
    {
     "data": {
      "image/png": "[encoded data removed]",
      "text/plain": [
       "Plot with title \"Classification Tree\""
      ]
     },
     "metadata": {
      "image/png": {
       "height": 420,
       "width": 420
      },
      "text/plain": {
       "height": 420,
       "width": 420
      }
     },
     "output_type": "display_data"
    }
   ],
   "source": [
    "# plot tree\n",
    "plot(Tree_model, uniform=TRUE,\n",
    "   main=\"Classification Tree\")\n",
    "text(Tree_model, use.n=TRUE, all=TRUE, cex=.8)\n",
    "\n",
    "# create attractive postscript plot of tree\n",
    "post(Tree_model, file = \"/tree.ps\",\n",
    "   title = \"Classification Tree\")"
   ]
  },
  {
   "cell_type": "markdown",
   "metadata": {},
   "source": [
    "### Questions - Does it give any insight into the structure of the data that the logistic regression did not? In particular, what is the interaction between the treatment type and age group?\n",
    "Trees are particularly useful at showing how the analysis developed we can see the \"Tree\" and its \"branches\", to analyze how the model developed, The interaction between the treatment type and age group takes the shape of the model calculating the treatment type and then building the branches with the age group variables.\n"
   ]
  },
  {
   "cell_type": "markdown",
   "metadata": {},
   "source": [
    "## Part 2- Now, calculate the accuracy of the model. How does it compare to the logistic regression model?If better or worse, why?"
   ]
  },
  {
   "cell_type": "code",
   "execution_count": 44,
   "metadata": {},
   "outputs": [],
   "source": [
    "tree_model_preds = predict(Tree_model,newdata = completeData, type = \"class\")"
   ]
  },
  {
   "cell_type": "code",
   "execution_count": 142,
   "metadata": {
    "collapsed": true
   },
   "outputs": [
    {
     "name": "stderr",
     "output_type": "stream",
     "text": [
      "Warning message in (TP + FP) * (TP + FN):\n",
      "\"NAs produced by integer overflow\"\n"
     ]
    },
    {
     "data": {
      "text/html": [
       "<dl>\n",
       "\t<dt>$PCC</dt>\n",
       "\t\t<dd>87.0716675471034</dd>\n",
       "\t<dt>$auc</dt>\n",
       "\t\t<dd>0.793951391900103</dd>\n",
       "\t<dt>$users.accuracy</dt>\n",
       "\t\t<dd><style>\n",
       ".dl-inline {width: auto; margin:0; padding: 0}\n",
       ".dl-inline>dt, .dl-inline>dd {float: none; width: auto; display: inline-block}\n",
       ".dl-inline>dt::after {content: \":\\0020\"; padding-right: .5ex}\n",
       ".dl-inline>dt:not(:first-of-type) {padding-left: .5ex}\n",
       "</style><dl class=dl-inline><dt>0</dt><dd>87.8</dd><dt>1</dt><dd>84</dd></dl>\n",
       "</dd>\n",
       "\t<dt>$producers.accuracy</dt>\n",
       "\t\t<dd><style>\n",
       ".dl-inline {width: auto; margin:0; padding: 0}\n",
       ".dl-inline>dt, .dl-inline>dd {float: none; width: auto; display: inline-block}\n",
       ".dl-inline>dt::after {content: \":\\0020\"; padding-right: .5ex}\n",
       ".dl-inline>dt:not(:first-of-type) {padding-left: .5ex}\n",
       "</style><dl class=dl-inline><dt>0</dt><dd>95.7</dd><dt>1</dt><dd>63.1</dd></dl>\n",
       "</dd>\n",
       "\t<dt>$kappa</dt>\n",
       "\t\t<dd>0.6388</dd>\n",
       "\t<dt>$true.skill</dt>\n",
       "\t\t<dd>0.718182511093293</dd>\n",
       "\t<dt>$sensitivity</dt>\n",
       "\t\t<dd>0.956761069006781</dd>\n",
       "\t<dt>$specificity</dt>\n",
       "\t\t<dd>0.631141714793425</dd>\n",
       "\t<dt>$plr</dt>\n",
       "\t\t<dd>2.593844593923</dd>\n",
       "\t<dt>$nlr</dt>\n",
       "\t\t<dd>0.0685090685336354</dd>\n",
       "\t<dt>$typeI.error</dt>\n",
       "\t\t<dd>0.368858285206575</dd>\n",
       "\t<dt>$typeII.error</dt>\n",
       "\t\t<dd>0.043238930993219</dd>\n",
       "\t<dt>$gini</dt>\n",
       "\t\t<dd>0.587902783800206</dd>\n",
       "\t<dt>$f.score</dt>\n",
       "\t\t<dd>0.915894702275036</dd>\n",
       "\t<dt>$gain</dt>\n",
       "\t\t<dd>1.00879703311445</dd>\n",
       "\t<dt>$matthews</dt>\n",
       "\t\t<dd>&lt;NA&gt;</dd>\n",
       "\t<dt>$confusion</dt>\n",
       "\t\t<dd><table>\n",
       "<caption>A matrix: 2 × 2 of type chr</caption>\n",
       "<thead>\n",
       "\t<tr><th></th><th scope=col>0</th><th scope=col>1</th></tr>\n",
       "</thead>\n",
       "<tbody>\n",
       "\t<tr><th scope=row>0</th><td>True positive(59965)</td><td>False positive(8303)</td></tr>\n",
       "\t<tr><th scope=row>1</th><td>False negative(2710)</td><td>True negative(14207)</td></tr>\n",
       "</tbody>\n",
       "</table>\n",
       "</dd>\n",
       "</dl>\n"
      ],
      "text/latex": [
       "\\begin{description}\n",
       "\\item[\\$PCC] 87.0716675471034\n",
       "\\item[\\$auc] 0.793951391900103\n",
       "\\item[\\$users.accuracy] \\begin{description*}\n",
       "\\item[0] 87.8\n",
       "\\item[1] 84\n",
       "\\end{description*}\n",
       "\n",
       "\\item[\\$producers.accuracy] \\begin{description*}\n",
       "\\item[0] 95.7\n",
       "\\item[1] 63.1\n",
       "\\end{description*}\n",
       "\n",
       "\\item[\\$kappa] 0.6388\n",
       "\\item[\\$true.skill] 0.718182511093293\n",
       "\\item[\\$sensitivity] 0.956761069006781\n",
       "\\item[\\$specificity] 0.631141714793425\n",
       "\\item[\\$plr] 2.593844593923\n",
       "\\item[\\$nlr] 0.0685090685336354\n",
       "\\item[\\$typeI.error] 0.368858285206575\n",
       "\\item[\\$typeII.error] 0.043238930993219\n",
       "\\item[\\$gini] 0.587902783800206\n",
       "\\item[\\$f.score] 0.915894702275036\n",
       "\\item[\\$gain] 1.00879703311445\n",
       "\\item[\\$matthews] <NA>\n",
       "\\item[\\$confusion] A matrix: 2 × 2 of type chr\n",
       "\\begin{tabular}{r|ll}\n",
       "  & 0 & 1\\\\\n",
       "\\hline\n",
       "\t0 & True positive(59965) & False positive(8303)\\\\\n",
       "\t1 & False negative(2710) & True negative(14207)\\\\\n",
       "\\end{tabular}\n",
       "\n",
       "\\end{description}\n"
      ],
      "text/markdown": [
       "$PCC\n",
       ":   87.0716675471034\n",
       "$auc\n",
       ":   0.793951391900103\n",
       "$users.accuracy\n",
       ":   0\n",
       ":   87.81\n",
       ":   84\n",
       "\n",
       "\n",
       "$producers.accuracy\n",
       ":   0\n",
       ":   95.71\n",
       ":   63.1\n",
       "\n",
       "\n",
       "$kappa\n",
       ":   0.6388\n",
       "$true.skill\n",
       ":   0.718182511093293\n",
       "$sensitivity\n",
       ":   0.956761069006781\n",
       "$specificity\n",
       ":   0.631141714793425\n",
       "$plr\n",
       ":   2.593844593923\n",
       "$nlr\n",
       ":   0.0685090685336354\n",
       "$typeI.error\n",
       ":   0.368858285206575\n",
       "$typeII.error\n",
       ":   0.043238930993219\n",
       "$gini\n",
       ":   0.587902783800206\n",
       "$f.score\n",
       ":   0.915894702275036\n",
       "$gain\n",
       ":   1.00879703311445\n",
       "$matthews\n",
       ":   &lt;NA&gt;\n",
       "$confusion\n",
       ":   \n",
       "A matrix: 2 × 2 of type chr\n",
       "\n",
       "| <!--/--> | 0 | 1 |\n",
       "|---|---|---|\n",
       "| 0 | True positive(59965) | False positive(8303) |\n",
       "| 1 | False negative(2710) | True negative(14207) |\n",
       "\n",
       "\n",
       "\n",
       "\n"
      ],
      "text/plain": [
       "Accuracy (PCC): 87.0716675471034% \n",
       "\n",
       "Cohen's Kappa: 0.6388 \n",
       "\n",
       "Area under the ROC curve: 0.7939514 \n",
       "\n",
       "Users accuracy: \n",
       "   0    1 \n",
       "87.8 84.0 \n",
       " \n",
       "\n",
       "Producers accuracy: \n",
       "   0    1 \n",
       "95.7 63.1 \n",
       " \n",
       "\n",
       "True Skill statistic: 0.7181825 \n",
       "\n",
       "Sensitivity (aka recall): 0.9567611 \n",
       "\n",
       "Specificity: 0.6311417 \n",
       "\n",
       "Gain (aka precision): 1.008797 \n",
       "\n",
       "Positive Likelihood Ratio: 2.593845 \n",
       "\n",
       "Negative Likelihood Ratio: 0.06850907 \n",
       "\n",
       "Type I error: 0.3688583 \n",
       "\n",
       "Type II error: 0.04323893 \n",
       "\n",
       "Gini Index: 0.5879028 \n",
       "\n",
       "F-score: 0.9158947 \n",
       "\n",
       "Matthews correlation coefficient: NA \n",
       "\n",
       "Confusion matrix \n",
       "  0                      1                     \n",
       "0 \"True positive(59965)\" \"False positive(8303)\"\n",
       "1 \"False negative(2710)\" \"True negative(14207)\""
      ]
     },
     "metadata": {},
     "output_type": "display_data"
    }
   ],
   "source": [
    "accuracy(table(completeData$voting2006,tree_model_preds))"
   ]
  },
  {
   "cell_type": "code",
   "execution_count": 46,
   "metadata": {},
   "outputs": [
    {
     "name": "stdout",
     "output_type": "stream",
     "text": [
      "[1] 0.8707167\n"
     ]
    }
   ],
   "source": [
    "confMat <- table(completeData$voting2006,tree_model_preds)\n",
    "accuracy_tree <- sum(diag(confMat))/sum(confMat)\n",
    "print(accuracy_tree)"
   ]
  },
  {
   "cell_type": "markdown",
   "metadata": {},
   "source": [
    "### Answers\n",
    "- The accuracy of the tree model is of 87%.\n",
    "- It is completely superior to the ~3% of the logistic regression data.\n",
    "- This is because of the advantages of the decision tree model, as well as the disadvantages of the logistic regression model\n",
    "    + The decision trees work specially well with data shaped like ours, the discrete categories allow for simple and efective branching. We must also note that not much data featuring is required to make useful decision trees.\n",
    "    + Logistic regression does not work well with our data because it aims to return probabilities of outcome, and it only has categorical values. Another caveat is that we did not process our data further (eg. equalize the number of voters and non-voters)"
   ]
  },
  {
   "cell_type": "markdown",
   "metadata": {},
   "source": [
    "### Sources\n",
    "https://www.statmethods.net/advstats/cart.html\n",
    "\n",
    "https://stats.idre.ucla.edu/r/dae/logit-regression/\n",
    "\n",
    "https://www.youtube.com/watch?v=4jRBRDbJemM\n",
    "\n",
    "https://developers.google.com/machine-learning/crash-course/classification/roc-and-auc\n",
    "\n",
    "https://en.wikipedia.org/wiki/Receiver_operating_characteristic\n",
    "\n",
    "https://en.wikipedia.org/wiki/Accuracy_and_precision"
   ]
  },
  {
   "cell_type": "code",
   "execution_count": null,
   "metadata": {},
   "outputs": [],
   "source": []
  }
 ],
 "metadata": {
  "kernelspec": {
   "display_name": "R",
   "language": "R",
   "name": "ir"
  },
  "language_info": {
   "codemirror_mode": "r",
   "file_extension": ".r",
   "mimetype": "text/x-r-source",
   "name": "R",
   "pygments_lexer": "r",
   "version": "4.0.1"
  }
 },
 "nbformat": 4,
 "nbformat_minor": 2
}
