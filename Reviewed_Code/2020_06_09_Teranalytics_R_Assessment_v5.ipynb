{
  "nbformat": 4,
  "nbformat_minor": 0,
  "metadata": {
    "kernelspec": {
      "display_name": "R",
      "language": "R",
      "name": "ir"
    },
    "language_info": {
      "codemirror_mode": "r",
      "file_extension": ".r",
      "mimetype": "text/x-r-source",
      "name": "R",
      "pygments_lexer": "r",
      "version": "4.0.1"
    },
    "colab": {
      "name": "2020_06_09-Teranalytics_R_Assessment_v4.ipynb",
      "provenance": [],
      "collapsed_sections": [
        "rwN7IU6J0MMs",
        "bf_u6HB60MNs",
        "jMDHT2mW0MN0",
        "LWjgUL9R0MOZ",
        "Gjc_nK1E0MOv",
        "V1Q3hoK90MO2"
      ]
    }
  },
  "cells": [
    {
      "cell_type": "code",
      "metadata": {
        "id": "BwxRl5_p1gNP",
        "colab_type": "code",
        "colab": {}
      },
      "source": [
        "install.packages(\"knitr\")\n",
        "install.packages(\"ggplot2\")\n",
        "install.packages(\"summarytools\")\n",
        "install.packages(\"GGally\")\n",
        "install.packages(\"corrplot\")\n",
        "install.packages(\"WVPlots\")\n",
        "install.packages(\"psych\")\n",
        "install.packages(\"mltools\")\n",
        "install.packages(\"caret\")\n",
        "install.packages(\"glmnet\")\n",
        "install.packages(\"rpart\")\n",
        "install.packages(\"rfUtilities\")\n"
      ],
      "execution_count": null,
      "outputs": []
    },
    {
      "cell_type": "code",
      "metadata": {
        "id": "mCnxb9JdXhQv",
        "colab_type": "code",
        "colab": {}
      },
      "source": [
        "install.packages(\"e1071\")"
      ],
      "execution_count": null,
      "outputs": []
    },
    {
      "cell_type": "code",
      "metadata": {
        "id": "M1tGoaC0XlwK",
        "colab_type": "code",
        "colab": {}
      },
      "source": [
        "library(e1071)"
      ],
      "execution_count": 128,
      "outputs": []
    },
    {
      "cell_type": "code",
      "metadata": {
        "id": "MOvqzmJt0MLu",
        "colab_type": "code",
        "colab": {}
      },
      "source": [
        "library(knitr)\n",
        "library(ggplot2)\n",
        "#library(summarytools)\n",
        "library(GGally)\n",
        "library(corrplot)\n",
        "library(WVPlots)\n",
        "#library(psych)\n",
        "library(mltools)\n",
        "library(caret)\n",
        "library(glmnet)\n",
        "library(rpart)\n",
        "library(rfUtilities)\n",
        "options(warn=-1) #Disable warnings"
      ],
      "execution_count": 129,
      "outputs": []
    },
    {
      "cell_type": "markdown",
      "metadata": {
        "id": "0ixZ49oH0ML5",
        "colab_type": "text"
      },
      "source": [
        "# Task 1 - Data exploration"
      ]
    },
    {
      "cell_type": "code",
      "metadata": {
        "id": "3KYqweL20ML8",
        "colab_type": "code",
        "colab": {}
      },
      "source": [
        "#Loading data\n",
        "groups <- read.csv(\"/content/groups.csv\", stringsAsFactors = F)\n",
        "voters <- read.csv(\"/content/voters.csv\", stringsAsFactors = F)"
      ],
      "execution_count": 182,
      "outputs": []
    },
    {
      "cell_type": "markdown",
      "metadata": {
        "id": "NfTxjQ_V0MMC",
        "colab_type": "text"
      },
      "source": [
        "## Question 1. Of the voters in the groups.csv file, how many of them are not in the voting record file."
      ]
    },
    {
      "cell_type": "code",
      "metadata": {
        "scrolled": true,
        "id": "WvHEptKQ0MMD",
        "colab_type": "code",
        "colab": {
          "base_uri": "https://localhost:8080/",
          "height": 52
        },
        "outputId": "8e67369d-b3f0-45b8-c838-b419d3b3c7c4"
      },
      "source": [
        "length(groups$voterid)\n",
        "length(voters$userid)"
      ],
      "execution_count": 183,
      "outputs": [
        {
          "output_type": "display_data",
          "data": {
            "text/plain": [
              "[1] 125108"
            ],
            "text/latex": "125108",
            "text/markdown": "125108",
            "text/html": [
              "125108"
            ]
          },
          "metadata": {
            "tags": []
          }
        },
        {
          "output_type": "display_data",
          "data": {
            "text/plain": [
              "[1] 135000"
            ],
            "text/latex": "135000",
            "text/markdown": "135000",
            "text/html": [
              "135000"
            ]
          },
          "metadata": {
            "tags": []
          }
        }
      ]
    },
    {
      "cell_type": "markdown",
      "metadata": {
        "id": "9Liukeip0MMU",
        "colab_type": "text"
      },
      "source": [
        "In this next section we transform the ID's from both our dataframes into a common value, so we can merge the data."
      ]
    },
    {
      "cell_type": "code",
      "metadata": {
        "id": "c4_L0xKZ0MMU",
        "colab_type": "code",
        "colab": {
          "base_uri": "https://localhost:8080/",
          "height": 36
        },
        "outputId": "ea127ad7-0efc-48c6-8d5c-a376cc956fe3"
      },
      "source": [
        "#Transform the voters id into a zero padded number \n",
        "pb <- txtProgressBar(min = 0, max = length(voters$userid), style = 3)\n",
        "for(i in seq(1,length(voters$userid))){\n",
        "    voters$userid[i] = as.numeric(formatC(as.numeric(voters$userid[i]), digits = 5, flag = \"0\"))\n",
        "    setTxtProgressBar(pb, i)\n",
        "}"
      ],
      "execution_count": 184,
      "outputs": [
        {
          "output_type": "stream",
          "text": [
            "  |======================================================================| 100%"
          ],
          "name": "stdout"
        }
      ]
    },
    {
      "cell_type": "code",
      "metadata": {
        "id": "AHnn-Qzq4x4M",
        "colab_type": "code",
        "colab": {
          "base_uri": "https://localhost:8080/",
          "height": 36
        },
        "outputId": "3d06bb33-a587-4877-dab3-8184e2dcf0ca"
      },
      "source": [
        "#Transform the voters id into a zero padded number \n",
        "pb <- txtProgressBar(min = 0, max = length(groups$voterid), style = 3)\n",
        "for(i in seq(1,length(groups$voterid))){\n",
        "    groups$voterid[i] = as.numeric(substr(groups$voterid[i],2,10000))\n",
        "    setTxtProgressBar(pb, i)\n",
        "}"
      ],
      "execution_count": 185,
      "outputs": [
        {
          "output_type": "stream",
          "text": [
            "  |======================================================================| 100%"
          ],
          "name": "stdout"
        }
      ]
    },
    {
      "cell_type": "code",
      "metadata": {
        "id": "t8rBsUHs0MMa",
        "colab_type": "code",
        "colab": {}
      },
      "source": [
        "#Renaming the dataframes so as to merge them\n",
        "colnames(groups)[1] <- \"ID\"\n",
        "colnames(voters)[1] <- \"ID\""
      ],
      "execution_count": 186,
      "outputs": []
    },
    {
      "cell_type": "code",
      "metadata": {
        "scrolled": true,
        "id": "RDK2Wj1B0MMe",
        "colab_type": "code",
        "colab": {
          "base_uri": "https://localhost:8080/",
          "height": 207
        },
        "outputId": "f33cd8af-52f9-4529-a770-424012f17395"
      },
      "source": [
        "head(voters)"
      ],
      "execution_count": 187,
      "outputs": [
        {
          "output_type": "display_data",
          "data": {
            "text/plain": [
              "  ID     first.name last.name   sex yob  voting2005 voting2006\n",
              "1   6860 Omar       el-Sham     1   1939 0          0         \n",
              "2  88596 Kyana      Chavez      1   1972 1          0         \n",
              "3 122580 Ramza      Okbamicael  1   1952 0          0         \n",
              "4  65331 Mazeeda    Tran        0   1966 0          1         \n",
              "5  91971 Tenai      Eun         0   1950 0          0         \n",
              "6 108590 Laaiqa     el-Sulaiman 0   1955 0          0         "
            ],
            "text/latex": "A data.frame: 6 × 7\n\\begin{tabular}{r|lllllll}\n  & ID & first.name & last.name & sex & yob & voting2005 & voting2006\\\\\n  & <dbl> & <chr> & <chr> & <int> & <int> & <int> & <int>\\\\\n\\hline\n\t1 &   6860 & Omar    & el-Sham     & 1 & 1939 & 0 & 0\\\\\n\t2 &  88596 & Kyana   & Chavez      & 1 & 1972 & 1 & 0\\\\\n\t3 & 122580 & Ramza   & Okbamicael  & 1 & 1952 & 0 & 0\\\\\n\t4 &  65331 & Mazeeda & Tran        & 0 & 1966 & 0 & 1\\\\\n\t5 &  91971 & Tenai   & Eun         & 0 & 1950 & 0 & 0\\\\\n\t6 & 108590 & Laaiqa  & el-Sulaiman & 0 & 1955 & 0 & 0\\\\\n\\end{tabular}\n",
            "text/markdown": "\nA data.frame: 6 × 7\n\n| <!--/--> | ID &lt;dbl&gt; | first.name &lt;chr&gt; | last.name &lt;chr&gt; | sex &lt;int&gt; | yob &lt;int&gt; | voting2005 &lt;int&gt; | voting2006 &lt;int&gt; |\n|---|---|---|---|---|---|---|---|\n| 1 |   6860 | Omar    | el-Sham     | 1 | 1939 | 0 | 0 |\n| 2 |  88596 | Kyana   | Chavez      | 1 | 1972 | 1 | 0 |\n| 3 | 122580 | Ramza   | Okbamicael  | 1 | 1952 | 0 | 0 |\n| 4 |  65331 | Mazeeda | Tran        | 0 | 1966 | 0 | 1 |\n| 5 |  91971 | Tenai   | Eun         | 0 | 1950 | 0 | 0 |\n| 6 | 108590 | Laaiqa  | el-Sulaiman | 0 | 1955 | 0 | 0 |\n\n",
            "text/html": [
              "<table>\n",
              "<caption>A data.frame: 6 × 7</caption>\n",
              "<thead>\n",
              "\t<tr><th></th><th scope=col>ID</th><th scope=col>first.name</th><th scope=col>last.name</th><th scope=col>sex</th><th scope=col>yob</th><th scope=col>voting2005</th><th scope=col>voting2006</th></tr>\n",
              "\t<tr><th></th><th scope=col>&lt;dbl&gt;</th><th scope=col>&lt;chr&gt;</th><th scope=col>&lt;chr&gt;</th><th scope=col>&lt;int&gt;</th><th scope=col>&lt;int&gt;</th><th scope=col>&lt;int&gt;</th><th scope=col>&lt;int&gt;</th></tr>\n",
              "</thead>\n",
              "<tbody>\n",
              "\t<tr><th scope=row>1</th><td>  6860</td><td>Omar   </td><td>el-Sham    </td><td>1</td><td>1939</td><td>0</td><td>0</td></tr>\n",
              "\t<tr><th scope=row>2</th><td> 88596</td><td>Kyana  </td><td>Chavez     </td><td>1</td><td>1972</td><td>1</td><td>0</td></tr>\n",
              "\t<tr><th scope=row>3</th><td>122580</td><td>Ramza  </td><td>Okbamicael </td><td>1</td><td>1952</td><td>0</td><td>0</td></tr>\n",
              "\t<tr><th scope=row>4</th><td> 65331</td><td>Mazeeda</td><td>Tran       </td><td>0</td><td>1966</td><td>0</td><td>1</td></tr>\n",
              "\t<tr><th scope=row>5</th><td> 91971</td><td>Tenai  </td><td>Eun        </td><td>0</td><td>1950</td><td>0</td><td>0</td></tr>\n",
              "\t<tr><th scope=row>6</th><td>108590</td><td>Laaiqa </td><td>el-Sulaiman</td><td>0</td><td>1955</td><td>0</td><td>0</td></tr>\n",
              "</tbody>\n",
              "</table>\n"
            ]
          },
          "metadata": {
            "tags": []
          }
        }
      ]
    },
    {
      "cell_type": "code",
      "metadata": {
        "id": "ZVRUYbu84e0g",
        "colab_type": "code",
        "colab": {
          "base_uri": "https://localhost:8080/",
          "height": 207
        },
        "outputId": "b046db20-763b-4935-f655-1e2f01d2e81a"
      },
      "source": [
        "head(groups)"
      ],
      "execution_count": 188,
      "outputs": [
        {
          "output_type": "display_data",
          "data": {
            "text/plain": [
              "  ID     civicduty hawthorne self neighbors control\n",
              "1 134582 0         0         0    0         1      \n",
              "2 137203 0         1         0    0         0      \n",
              "3 115089 1         0         0    0         0      \n",
              "4 61714  1         0         0    0         0      \n",
              "5 140039 0         0         0    0         1      \n",
              "6 23133  0         0         0    1         0      "
            ],
            "text/latex": "A data.frame: 6 × 6\n\\begin{tabular}{r|llllll}\n  & ID & civicduty & hawthorne & self & neighbors & control\\\\\n  & <chr> & <int> & <int> & <int> & <int> & <int>\\\\\n\\hline\n\t1 & 134582 & 0 & 0 & 0 & 0 & 1\\\\\n\t2 & 137203 & 0 & 1 & 0 & 0 & 0\\\\\n\t3 & 115089 & 1 & 0 & 0 & 0 & 0\\\\\n\t4 & 61714  & 1 & 0 & 0 & 0 & 0\\\\\n\t5 & 140039 & 0 & 0 & 0 & 0 & 1\\\\\n\t6 & 23133  & 0 & 0 & 0 & 1 & 0\\\\\n\\end{tabular}\n",
            "text/markdown": "\nA data.frame: 6 × 6\n\n| <!--/--> | ID &lt;chr&gt; | civicduty &lt;int&gt; | hawthorne &lt;int&gt; | self &lt;int&gt; | neighbors &lt;int&gt; | control &lt;int&gt; |\n|---|---|---|---|---|---|---|\n| 1 | 134582 | 0 | 0 | 0 | 0 | 1 |\n| 2 | 137203 | 0 | 1 | 0 | 0 | 0 |\n| 3 | 115089 | 1 | 0 | 0 | 0 | 0 |\n| 4 | 61714  | 1 | 0 | 0 | 0 | 0 |\n| 5 | 140039 | 0 | 0 | 0 | 0 | 1 |\n| 6 | 23133  | 0 | 0 | 0 | 1 | 0 |\n\n",
            "text/html": [
              "<table>\n",
              "<caption>A data.frame: 6 × 6</caption>\n",
              "<thead>\n",
              "\t<tr><th></th><th scope=col>ID</th><th scope=col>civicduty</th><th scope=col>hawthorne</th><th scope=col>self</th><th scope=col>neighbors</th><th scope=col>control</th></tr>\n",
              "\t<tr><th></th><th scope=col>&lt;chr&gt;</th><th scope=col>&lt;int&gt;</th><th scope=col>&lt;int&gt;</th><th scope=col>&lt;int&gt;</th><th scope=col>&lt;int&gt;</th><th scope=col>&lt;int&gt;</th></tr>\n",
              "</thead>\n",
              "<tbody>\n",
              "\t<tr><th scope=row>1</th><td>134582</td><td>0</td><td>0</td><td>0</td><td>0</td><td>1</td></tr>\n",
              "\t<tr><th scope=row>2</th><td>137203</td><td>0</td><td>1</td><td>0</td><td>0</td><td>0</td></tr>\n",
              "\t<tr><th scope=row>3</th><td>115089</td><td>1</td><td>0</td><td>0</td><td>0</td><td>0</td></tr>\n",
              "\t<tr><th scope=row>4</th><td>61714 </td><td>1</td><td>0</td><td>0</td><td>0</td><td>0</td></tr>\n",
              "\t<tr><th scope=row>5</th><td>140039</td><td>0</td><td>0</td><td>0</td><td>0</td><td>1</td></tr>\n",
              "\t<tr><th scope=row>6</th><td>23133 </td><td>0</td><td>0</td><td>0</td><td>1</td><td>0</td></tr>\n",
              "</tbody>\n",
              "</table>\n"
            ]
          },
          "metadata": {
            "tags": []
          }
        }
      ]
    },
    {
      "cell_type": "code",
      "metadata": {
        "id": "vR5-owQh0MMi",
        "colab_type": "code",
        "colab": {}
      },
      "source": [
        "completeData = merge(groups, voters, by =\"ID\")"
      ],
      "execution_count": 189,
      "outputs": []
    },
    {
      "cell_type": "code",
      "metadata": {
        "id": "gcB5MtnR4tiF",
        "colab_type": "code",
        "colab": {
          "base_uri": "https://localhost:8080/",
          "height": 207
        },
        "outputId": "eb1761ea-aa09-46be-e4fb-e3c4692c033c"
      },
      "source": [
        "head(completeData)"
      ],
      "execution_count": 190,
      "outputs": [
        {
          "output_type": "display_data",
          "data": {
            "text/plain": [
              "  ID     civicduty hawthorne self neighbors control first.name\n",
              "1 1      0         0         0    0         1       Lucas     \n",
              "2 100    1         0         0    0         0       Claire    \n",
              "3 10000  0         1         0    0         0       Edward    \n",
              "4 10001  0         1         0    0         0       Misbaah   \n",
              "5 10002  0         0         1    0         0       Lorna     \n",
              "6 100020 0         0         0    1         0       Jeremy    \n",
              "  last.name          sex yob  voting2005 voting2006\n",
              "1 Cervantes          1   1952 0          1         \n",
              "2 Her                0   1939 0          0         \n",
              "3 Bear-Flores        1   1952 0          0         \n",
              "4 Boyd               1   1977 0          1         \n",
              "5 Sandoval-Campuzano 1   1970 1          0         \n",
              "6 Suarez             0   1951 1          1         "
            ],
            "text/latex": "A data.frame: 6 × 12\n\\begin{tabular}{r|llllllllllll}\n  & ID & civicduty & hawthorne & self & neighbors & control & first.name & last.name & sex & yob & voting2005 & voting2006\\\\\n  & <chr> & <int> & <int> & <int> & <int> & <int> & <chr> & <chr> & <int> & <int> & <int> & <int>\\\\\n\\hline\n\t1 & 1      & 0 & 0 & 0 & 0 & 1 & Lucas   & Cervantes          & 1 & 1952 & 0 & 1\\\\\n\t2 & 100    & 1 & 0 & 0 & 0 & 0 & Claire  & Her                & 0 & 1939 & 0 & 0\\\\\n\t3 & 10000  & 0 & 1 & 0 & 0 & 0 & Edward  & Bear-Flores        & 1 & 1952 & 0 & 0\\\\\n\t4 & 10001  & 0 & 1 & 0 & 0 & 0 & Misbaah & Boyd               & 1 & 1977 & 0 & 1\\\\\n\t5 & 10002  & 0 & 0 & 1 & 0 & 0 & Lorna   & Sandoval-Campuzano & 1 & 1970 & 1 & 0\\\\\n\t6 & 100020 & 0 & 0 & 0 & 1 & 0 & Jeremy  & Suarez             & 0 & 1951 & 1 & 1\\\\\n\\end{tabular}\n",
            "text/markdown": "\nA data.frame: 6 × 12\n\n| <!--/--> | ID &lt;chr&gt; | civicduty &lt;int&gt; | hawthorne &lt;int&gt; | self &lt;int&gt; | neighbors &lt;int&gt; | control &lt;int&gt; | first.name &lt;chr&gt; | last.name &lt;chr&gt; | sex &lt;int&gt; | yob &lt;int&gt; | voting2005 &lt;int&gt; | voting2006 &lt;int&gt; |\n|---|---|---|---|---|---|---|---|---|---|---|---|---|\n| 1 | 1      | 0 | 0 | 0 | 0 | 1 | Lucas   | Cervantes          | 1 | 1952 | 0 | 1 |\n| 2 | 100    | 1 | 0 | 0 | 0 | 0 | Claire  | Her                | 0 | 1939 | 0 | 0 |\n| 3 | 10000  | 0 | 1 | 0 | 0 | 0 | Edward  | Bear-Flores        | 1 | 1952 | 0 | 0 |\n| 4 | 10001  | 0 | 1 | 0 | 0 | 0 | Misbaah | Boyd               | 1 | 1977 | 0 | 1 |\n| 5 | 10002  | 0 | 0 | 1 | 0 | 0 | Lorna   | Sandoval-Campuzano | 1 | 1970 | 1 | 0 |\n| 6 | 100020 | 0 | 0 | 0 | 1 | 0 | Jeremy  | Suarez             | 0 | 1951 | 1 | 1 |\n\n",
            "text/html": [
              "<table>\n",
              "<caption>A data.frame: 6 × 12</caption>\n",
              "<thead>\n",
              "\t<tr><th></th><th scope=col>ID</th><th scope=col>civicduty</th><th scope=col>hawthorne</th><th scope=col>self</th><th scope=col>neighbors</th><th scope=col>control</th><th scope=col>first.name</th><th scope=col>last.name</th><th scope=col>sex</th><th scope=col>yob</th><th scope=col>voting2005</th><th scope=col>voting2006</th></tr>\n",
              "\t<tr><th></th><th scope=col>&lt;chr&gt;</th><th scope=col>&lt;int&gt;</th><th scope=col>&lt;int&gt;</th><th scope=col>&lt;int&gt;</th><th scope=col>&lt;int&gt;</th><th scope=col>&lt;int&gt;</th><th scope=col>&lt;chr&gt;</th><th scope=col>&lt;chr&gt;</th><th scope=col>&lt;int&gt;</th><th scope=col>&lt;int&gt;</th><th scope=col>&lt;int&gt;</th><th scope=col>&lt;int&gt;</th></tr>\n",
              "</thead>\n",
              "<tbody>\n",
              "\t<tr><th scope=row>1</th><td>1     </td><td>0</td><td>0</td><td>0</td><td>0</td><td>1</td><td>Lucas  </td><td>Cervantes         </td><td>1</td><td>1952</td><td>0</td><td>1</td></tr>\n",
              "\t<tr><th scope=row>2</th><td>100   </td><td>1</td><td>0</td><td>0</td><td>0</td><td>0</td><td>Claire </td><td>Her               </td><td>0</td><td>1939</td><td>0</td><td>0</td></tr>\n",
              "\t<tr><th scope=row>3</th><td>10000 </td><td>0</td><td>1</td><td>0</td><td>0</td><td>0</td><td>Edward </td><td>Bear-Flores       </td><td>1</td><td>1952</td><td>0</td><td>0</td></tr>\n",
              "\t<tr><th scope=row>4</th><td>10001 </td><td>0</td><td>1</td><td>0</td><td>0</td><td>0</td><td>Misbaah</td><td>Boyd              </td><td>1</td><td>1977</td><td>0</td><td>1</td></tr>\n",
              "\t<tr><th scope=row>5</th><td>10002 </td><td>0</td><td>0</td><td>1</td><td>0</td><td>0</td><td>Lorna  </td><td>Sandoval-Campuzano</td><td>1</td><td>1970</td><td>1</td><td>0</td></tr>\n",
              "\t<tr><th scope=row>6</th><td>100020</td><td>0</td><td>0</td><td>0</td><td>1</td><td>0</td><td>Jeremy </td><td>Suarez            </td><td>0</td><td>1951</td><td>1</td><td>1</td></tr>\n",
              "</tbody>\n",
              "</table>\n"
            ]
          },
          "metadata": {
            "tags": []
          }
        }
      ]
    },
    {
      "cell_type": "code",
      "metadata": {
        "id": "6qGNystv6WO1",
        "colab_type": "code",
        "colab": {
          "base_uri": "https://localhost:8080/",
          "height": 34
        },
        "outputId": "f65e690f-95fa-49fe-f6c5-9e6f07b8a017"
      },
      "source": [
        "length(completeData$ID)"
      ],
      "execution_count": 191,
      "outputs": [
        {
          "output_type": "display_data",
          "data": {
            "text/plain": [
              "[1] 120217"
            ],
            "text/latex": "120217",
            "text/markdown": "120217",
            "text/html": [
              "120217"
            ]
          },
          "metadata": {
            "tags": []
          }
        }
      ]
    },
    {
      "cell_type": "code",
      "metadata": {
        "id": "bMfgmbzc7Oux",
        "colab_type": "code",
        "colab": {
          "base_uri": "https://localhost:8080/",
          "height": 34
        },
        "outputId": "491057c3-d594-4304-d525-427cda921a6f"
      },
      "source": [
        "length(completeData$ID)/length(groups$ID) * 100"
      ],
      "execution_count": 192,
      "outputs": [
        {
          "output_type": "display_data",
          "data": {
            "text/plain": [
              "[1] 96.09058"
            ],
            "text/latex": "96.0905777408319",
            "text/markdown": "96.0905777408319",
            "text/html": [
              "96.0905777408319"
            ]
          },
          "metadata": {
            "tags": []
          }
        }
      ]
    },
    {
      "cell_type": "markdown",
      "metadata": {
        "id": "MaH8EEkX0MMT",
        "colab_type": "text"
      },
      "source": [
        "### Answer: of the voters in the groups.csv file, 68% are in the voting record (so 32% are not.)\n",
        "\n",
        "I got this answer by getting the length of the merged database and the lenght of the groups id."
      ]
    },
    {
      "cell_type": "markdown",
      "metadata": {
        "id": "3XY0Lyb30MMn",
        "colab_type": "text"
      },
      "source": [
        "## Question 2, of the voters in the groups.csv file, for which we have a voting record, what percentage of them voted in 2006?\n"
      ]
    },
    {
      "cell_type": "code",
      "metadata": {
        "id": "oXeRJuQx0MMo",
        "colab_type": "code",
        "colab": {
          "base_uri": "https://localhost:8080/",
          "height": 36
        },
        "outputId": "722f9234-e5b3-4b69-8e66-fa23210ef620"
      },
      "source": [
        "percentage_of_2016_voters = sum(completeData$voting2006)/length(completeData$voting2006)\n",
        "print(percentage_of_2016_voters)"
      ],
      "execution_count": 193,
      "outputs": [
        {
          "output_type": "stream",
          "text": [
            "[1] 0.2638562\n"
          ],
          "name": "stdout"
        }
      ]
    },
    {
      "cell_type": "markdown",
      "metadata": {
        "id": "rwN7IU6J0MMs",
        "colab_type": "text"
      },
      "source": [
        "### ANSWER: Our percentage of voters was: 26%"
      ]
    },
    {
      "cell_type": "markdown",
      "metadata": {
        "id": "rT4_rTgV0MMt",
        "colab_type": "text"
      },
      "source": [
        "## Question 3 - Are the 5 groups exclusive of each other? How many voters for which we have voter records are listed as in multiple groups?\n"
      ]
    },
    {
      "cell_type": "code",
      "metadata": {
        "id": "sAzY-JBW0MMu",
        "colab_type": "code",
        "colab": {
          "base_uri": "https://localhost:8080/",
          "height": 36
        },
        "outputId": "31abfe9e-62da-48d7-c934-45b0675d4d32"
      },
      "source": [
        "#Basically if the sum of values is higher than 1. There are duplicates\n",
        "pb <- txtProgressBar(min = 0, max = length(completeData$control), style = 3)\n",
        "groups_with_more_than_1_value = list()\n",
        "for (i in seq(1,length(completeData$control))){\n",
        "    civicduty_val = completeData$civicduty[i]\n",
        "    hawthorne_val = completeData$hawthorne[i]\n",
        "    self_val = completeData$self[i]\n",
        "    neighbors_val = completeData$neighbors[i]\n",
        "    control_val = completeData$control[i]\n",
        "    \n",
        "    if(sum(civicduty_val,hawthorne_val,self_val,neighbors_val,control_val) > 1){\n",
        "        groups_with_more_than_1_value = append(groups_with_more_than_1_value, i)\n",
        "    }\n",
        "    setTxtProgressBar(pb, i)\n",
        "}"
      ],
      "execution_count": 194,
      "outputs": [
        {
          "output_type": "stream",
          "text": [
            "  |======================================================================| 100%"
          ],
          "name": "stdout"
        }
      ]
    },
    {
      "cell_type": "code",
      "metadata": {
        "id": "tmtv3yLk0MMy",
        "colab_type": "code",
        "colab": {
          "base_uri": "https://localhost:8080/",
          "height": 485
        },
        "outputId": "f9514f16-66f7-49a0-9733-122449a5e4ee"
      },
      "source": [
        "#Checking if our function worked\n",
        "completeData[as.numeric(groups_with_more_than_1_value),]"
      ],
      "execution_count": 195,
      "outputs": [
        {
          "output_type": "display_data",
          "data": {
            "text/plain": [
              "       ID     civicduty hawthorne self neighbors control first.name\n",
              "8662   10895  0         1         0    1         0       Nawf      \n",
              "14673  11538  0         0         1    0         1       Patricia  \n",
              "38233  139790 0         0         1    0         1       Pedro     \n",
              "38234  139790 0         0         1    0         1       Zachery   \n",
              "38235  139790 0         0         1    0         1       Tulaiha   \n",
              "38236  139790 0         0         1    0         1       Francisco \n",
              "38237  139790 0         0         1    0         1       Brian     \n",
              "38238  139790 0         0         1    0         1       Mckayla   \n",
              "38239  139790 0         0         1    0         1       Shawn     \n",
              "38240  139790 0         0         1    0         1       Cristal   \n",
              "49680  25515  0         0         1    0         1       Ricardo   \n",
              "56336  32559  0         1         0    1         0       Jennifer  \n",
              "83076  60728  0         1         0    1         0       Gloriana  \n",
              "84820  62553  1         1         0    0         0       Elizabeth \n",
              "91044  69113  1         1         0    0         0       Douglas   \n",
              "100111 78680  0         0         1    0         1       Tawfeeq   \n",
              "112863 92195  0         1         0    1         0       Joshua    \n",
              "116669 96258  0         1         0    1         0       Zohal     \n",
              "116831 96427  0         1         0    1         0       Dakota    \n",
              "       last.name         sex yob  voting2005 voting2006\n",
              "8662   Jamieson          0   1943 1          0         \n",
              "14673  Lor               1   1955 0          1         \n",
              "38233  Carroll           0   1961 1          0         \n",
              "38234  Flores            0   1967 1          0         \n",
              "38235  Dehaan            1   1952 1          1         \n",
              "38236  Briseno           0   1976 0          1         \n",
              "38237  Nguyen            1   1955 0          0         \n",
              "38238  Davis             1   1956 0          1         \n",
              "38239  al-Satter         0   1941 0          1         \n",
              "38240  Gay               1   1958 1          0         \n",
              "49680  Munoz             0   1962 0          0         \n",
              "56336  Nichols           0   1947 1          0         \n",
              "83076  Gonzalez Cardenas 0   1946 1          1         \n",
              "84820  Buford            1   1961 1          1         \n",
              "91044  Tecla             0   1947 0          0         \n",
              "100111 Earhart           1   1947 0          0         \n",
              "112863 al-Ghani          1   1941 0          0         \n",
              "116669 Louderback        1   1959 0          0         \n",
              "116831 Thompson Wilson   0   1955 1          0         "
            ],
            "text/latex": "A data.frame: 19 × 12\n\\begin{tabular}{r|llllllllllll}\n  & ID & civicduty & hawthorne & self & neighbors & control & first.name & last.name & sex & yob & voting2005 & voting2006\\\\\n  & <chr> & <int> & <int> & <int> & <int> & <int> & <chr> & <chr> & <int> & <int> & <int> & <int>\\\\\n\\hline\n\t8662 & 10895  & 0 & 1 & 0 & 1 & 0 & Nawf      & Jamieson          & 0 & 1943 & 1 & 0\\\\\n\t14673 & 11538  & 0 & 0 & 1 & 0 & 1 & Patricia  & Lor               & 1 & 1955 & 0 & 1\\\\\n\t38233 & 139790 & 0 & 0 & 1 & 0 & 1 & Pedro     & Carroll           & 0 & 1961 & 1 & 0\\\\\n\t38234 & 139790 & 0 & 0 & 1 & 0 & 1 & Zachery   & Flores            & 0 & 1967 & 1 & 0\\\\\n\t38235 & 139790 & 0 & 0 & 1 & 0 & 1 & Tulaiha   & Dehaan            & 1 & 1952 & 1 & 1\\\\\n\t38236 & 139790 & 0 & 0 & 1 & 0 & 1 & Francisco & Briseno           & 0 & 1976 & 0 & 1\\\\\n\t38237 & 139790 & 0 & 0 & 1 & 0 & 1 & Brian     & Nguyen            & 1 & 1955 & 0 & 0\\\\\n\t38238 & 139790 & 0 & 0 & 1 & 0 & 1 & Mckayla   & Davis             & 1 & 1956 & 0 & 1\\\\\n\t38239 & 139790 & 0 & 0 & 1 & 0 & 1 & Shawn     & al-Satter         & 0 & 1941 & 0 & 1\\\\\n\t38240 & 139790 & 0 & 0 & 1 & 0 & 1 & Cristal   & Gay               & 1 & 1958 & 1 & 0\\\\\n\t49680 & 25515  & 0 & 0 & 1 & 0 & 1 & Ricardo   & Munoz             & 0 & 1962 & 0 & 0\\\\\n\t56336 & 32559  & 0 & 1 & 0 & 1 & 0 & Jennifer  & Nichols           & 0 & 1947 & 1 & 0\\\\\n\t83076 & 60728  & 0 & 1 & 0 & 1 & 0 & Gloriana  & Gonzalez Cardenas & 0 & 1946 & 1 & 1\\\\\n\t84820 & 62553  & 1 & 1 & 0 & 0 & 0 & Elizabeth & Buford            & 1 & 1961 & 1 & 1\\\\\n\t91044 & 69113  & 1 & 1 & 0 & 0 & 0 & Douglas   & Tecla             & 0 & 1947 & 0 & 0\\\\\n\t100111 & 78680  & 0 & 0 & 1 & 0 & 1 & Tawfeeq   & Earhart           & 1 & 1947 & 0 & 0\\\\\n\t112863 & 92195  & 0 & 1 & 0 & 1 & 0 & Joshua    & al-Ghani          & 1 & 1941 & 0 & 0\\\\\n\t116669 & 96258  & 0 & 1 & 0 & 1 & 0 & Zohal     & Louderback        & 1 & 1959 & 0 & 0\\\\\n\t116831 & 96427  & 0 & 1 & 0 & 1 & 0 & Dakota    & Thompson Wilson   & 0 & 1955 & 1 & 0\\\\\n\\end{tabular}\n",
            "text/markdown": "\nA data.frame: 19 × 12\n\n| <!--/--> | ID &lt;chr&gt; | civicduty &lt;int&gt; | hawthorne &lt;int&gt; | self &lt;int&gt; | neighbors &lt;int&gt; | control &lt;int&gt; | first.name &lt;chr&gt; | last.name &lt;chr&gt; | sex &lt;int&gt; | yob &lt;int&gt; | voting2005 &lt;int&gt; | voting2006 &lt;int&gt; |\n|---|---|---|---|---|---|---|---|---|---|---|---|---|\n| 8662 | 10895  | 0 | 1 | 0 | 1 | 0 | Nawf      | Jamieson          | 0 | 1943 | 1 | 0 |\n| 14673 | 11538  | 0 | 0 | 1 | 0 | 1 | Patricia  | Lor               | 1 | 1955 | 0 | 1 |\n| 38233 | 139790 | 0 | 0 | 1 | 0 | 1 | Pedro     | Carroll           | 0 | 1961 | 1 | 0 |\n| 38234 | 139790 | 0 | 0 | 1 | 0 | 1 | Zachery   | Flores            | 0 | 1967 | 1 | 0 |\n| 38235 | 139790 | 0 | 0 | 1 | 0 | 1 | Tulaiha   | Dehaan            | 1 | 1952 | 1 | 1 |\n| 38236 | 139790 | 0 | 0 | 1 | 0 | 1 | Francisco | Briseno           | 0 | 1976 | 0 | 1 |\n| 38237 | 139790 | 0 | 0 | 1 | 0 | 1 | Brian     | Nguyen            | 1 | 1955 | 0 | 0 |\n| 38238 | 139790 | 0 | 0 | 1 | 0 | 1 | Mckayla   | Davis             | 1 | 1956 | 0 | 1 |\n| 38239 | 139790 | 0 | 0 | 1 | 0 | 1 | Shawn     | al-Satter         | 0 | 1941 | 0 | 1 |\n| 38240 | 139790 | 0 | 0 | 1 | 0 | 1 | Cristal   | Gay               | 1 | 1958 | 1 | 0 |\n| 49680 | 25515  | 0 | 0 | 1 | 0 | 1 | Ricardo   | Munoz             | 0 | 1962 | 0 | 0 |\n| 56336 | 32559  | 0 | 1 | 0 | 1 | 0 | Jennifer  | Nichols           | 0 | 1947 | 1 | 0 |\n| 83076 | 60728  | 0 | 1 | 0 | 1 | 0 | Gloriana  | Gonzalez Cardenas | 0 | 1946 | 1 | 1 |\n| 84820 | 62553  | 1 | 1 | 0 | 0 | 0 | Elizabeth | Buford            | 1 | 1961 | 1 | 1 |\n| 91044 | 69113  | 1 | 1 | 0 | 0 | 0 | Douglas   | Tecla             | 0 | 1947 | 0 | 0 |\n| 100111 | 78680  | 0 | 0 | 1 | 0 | 1 | Tawfeeq   | Earhart           | 1 | 1947 | 0 | 0 |\n| 112863 | 92195  | 0 | 1 | 0 | 1 | 0 | Joshua    | al-Ghani          | 1 | 1941 | 0 | 0 |\n| 116669 | 96258  | 0 | 1 | 0 | 1 | 0 | Zohal     | Louderback        | 1 | 1959 | 0 | 0 |\n| 116831 | 96427  | 0 | 1 | 0 | 1 | 0 | Dakota    | Thompson Wilson   | 0 | 1955 | 1 | 0 |\n\n",
            "text/html": [
              "<table>\n",
              "<caption>A data.frame: 19 × 12</caption>\n",
              "<thead>\n",
              "\t<tr><th></th><th scope=col>ID</th><th scope=col>civicduty</th><th scope=col>hawthorne</th><th scope=col>self</th><th scope=col>neighbors</th><th scope=col>control</th><th scope=col>first.name</th><th scope=col>last.name</th><th scope=col>sex</th><th scope=col>yob</th><th scope=col>voting2005</th><th scope=col>voting2006</th></tr>\n",
              "\t<tr><th></th><th scope=col>&lt;chr&gt;</th><th scope=col>&lt;int&gt;</th><th scope=col>&lt;int&gt;</th><th scope=col>&lt;int&gt;</th><th scope=col>&lt;int&gt;</th><th scope=col>&lt;int&gt;</th><th scope=col>&lt;chr&gt;</th><th scope=col>&lt;chr&gt;</th><th scope=col>&lt;int&gt;</th><th scope=col>&lt;int&gt;</th><th scope=col>&lt;int&gt;</th><th scope=col>&lt;int&gt;</th></tr>\n",
              "</thead>\n",
              "<tbody>\n",
              "\t<tr><th scope=row>8662</th><td>10895 </td><td>0</td><td>1</td><td>0</td><td>1</td><td>0</td><td>Nawf     </td><td>Jamieson         </td><td>0</td><td>1943</td><td>1</td><td>0</td></tr>\n",
              "\t<tr><th scope=row>14673</th><td>11538 </td><td>0</td><td>0</td><td>1</td><td>0</td><td>1</td><td>Patricia </td><td>Lor              </td><td>1</td><td>1955</td><td>0</td><td>1</td></tr>\n",
              "\t<tr><th scope=row>38233</th><td>139790</td><td>0</td><td>0</td><td>1</td><td>0</td><td>1</td><td>Pedro    </td><td>Carroll          </td><td>0</td><td>1961</td><td>1</td><td>0</td></tr>\n",
              "\t<tr><th scope=row>38234</th><td>139790</td><td>0</td><td>0</td><td>1</td><td>0</td><td>1</td><td>Zachery  </td><td>Flores           </td><td>0</td><td>1967</td><td>1</td><td>0</td></tr>\n",
              "\t<tr><th scope=row>38235</th><td>139790</td><td>0</td><td>0</td><td>1</td><td>0</td><td>1</td><td>Tulaiha  </td><td>Dehaan           </td><td>1</td><td>1952</td><td>1</td><td>1</td></tr>\n",
              "\t<tr><th scope=row>38236</th><td>139790</td><td>0</td><td>0</td><td>1</td><td>0</td><td>1</td><td>Francisco</td><td>Briseno          </td><td>0</td><td>1976</td><td>0</td><td>1</td></tr>\n",
              "\t<tr><th scope=row>38237</th><td>139790</td><td>0</td><td>0</td><td>1</td><td>0</td><td>1</td><td>Brian    </td><td>Nguyen           </td><td>1</td><td>1955</td><td>0</td><td>0</td></tr>\n",
              "\t<tr><th scope=row>38238</th><td>139790</td><td>0</td><td>0</td><td>1</td><td>0</td><td>1</td><td>Mckayla  </td><td>Davis            </td><td>1</td><td>1956</td><td>0</td><td>1</td></tr>\n",
              "\t<tr><th scope=row>38239</th><td>139790</td><td>0</td><td>0</td><td>1</td><td>0</td><td>1</td><td>Shawn    </td><td>al-Satter        </td><td>0</td><td>1941</td><td>0</td><td>1</td></tr>\n",
              "\t<tr><th scope=row>38240</th><td>139790</td><td>0</td><td>0</td><td>1</td><td>0</td><td>1</td><td>Cristal  </td><td>Gay              </td><td>1</td><td>1958</td><td>1</td><td>0</td></tr>\n",
              "\t<tr><th scope=row>49680</th><td>25515 </td><td>0</td><td>0</td><td>1</td><td>0</td><td>1</td><td>Ricardo  </td><td>Munoz            </td><td>0</td><td>1962</td><td>0</td><td>0</td></tr>\n",
              "\t<tr><th scope=row>56336</th><td>32559 </td><td>0</td><td>1</td><td>0</td><td>1</td><td>0</td><td>Jennifer </td><td>Nichols          </td><td>0</td><td>1947</td><td>1</td><td>0</td></tr>\n",
              "\t<tr><th scope=row>83076</th><td>60728 </td><td>0</td><td>1</td><td>0</td><td>1</td><td>0</td><td>Gloriana </td><td>Gonzalez Cardenas</td><td>0</td><td>1946</td><td>1</td><td>1</td></tr>\n",
              "\t<tr><th scope=row>84820</th><td>62553 </td><td>1</td><td>1</td><td>0</td><td>0</td><td>0</td><td>Elizabeth</td><td>Buford           </td><td>1</td><td>1961</td><td>1</td><td>1</td></tr>\n",
              "\t<tr><th scope=row>91044</th><td>69113 </td><td>1</td><td>1</td><td>0</td><td>0</td><td>0</td><td>Douglas  </td><td>Tecla            </td><td>0</td><td>1947</td><td>0</td><td>0</td></tr>\n",
              "\t<tr><th scope=row>100111</th><td>78680 </td><td>0</td><td>0</td><td>1</td><td>0</td><td>1</td><td>Tawfeeq  </td><td>Earhart          </td><td>1</td><td>1947</td><td>0</td><td>0</td></tr>\n",
              "\t<tr><th scope=row>112863</th><td>92195 </td><td>0</td><td>1</td><td>0</td><td>1</td><td>0</td><td>Joshua   </td><td>al-Ghani         </td><td>1</td><td>1941</td><td>0</td><td>0</td></tr>\n",
              "\t<tr><th scope=row>116669</th><td>96258 </td><td>0</td><td>1</td><td>0</td><td>1</td><td>0</td><td>Zohal    </td><td>Louderback       </td><td>1</td><td>1959</td><td>0</td><td>0</td></tr>\n",
              "\t<tr><th scope=row>116831</th><td>96427 </td><td>0</td><td>1</td><td>0</td><td>1</td><td>0</td><td>Dakota   </td><td>Thompson Wilson  </td><td>0</td><td>1955</td><td>1</td><td>0</td></tr>\n",
              "</tbody>\n",
              "</table>\n"
            ]
          },
          "metadata": {
            "tags": []
          }
        }
      ]
    },
    {
      "cell_type": "code",
      "metadata": {
        "scrolled": true,
        "id": "zhhyzVfj0MM4",
        "colab_type": "code",
        "colab": {
          "base_uri": "https://localhost:8080/",
          "height": 52
        },
        "outputId": "47c6de50-0d77-4311-aee5-d4a5c27a3c5f"
      },
      "source": [
        "length(groups_with_more_than_1_value)\n",
        "length(completeData$control)"
      ],
      "execution_count": 196,
      "outputs": [
        {
          "output_type": "display_data",
          "data": {
            "text/plain": [
              "[1] 19"
            ],
            "text/latex": "19",
            "text/markdown": "19",
            "text/html": [
              "19"
            ]
          },
          "metadata": {
            "tags": []
          }
        },
        {
          "output_type": "display_data",
          "data": {
            "text/plain": [
              "[1] 120217"
            ],
            "text/latex": "120217",
            "text/markdown": "120217",
            "text/html": [
              "120217"
            ]
          },
          "metadata": {
            "tags": []
          }
        }
      ]
    },
    {
      "cell_type": "markdown",
      "metadata": {
        "id": "sHusm1lp0MM7",
        "colab_type": "text"
      },
      "source": [
        "### ANSWER: There were 11 voter listed as duplicates"
      ]
    },
    {
      "cell_type": "markdown",
      "metadata": {
        "id": "nCumIr460MM7",
        "colab_type": "text"
      },
      "source": [
        "Now we delete the rows where there are typos"
      ]
    },
    {
      "cell_type": "code",
      "metadata": {
        "id": "3KhKJ7tF0MM8",
        "colab_type": "code",
        "colab": {}
      },
      "source": [
        "completeData <- completeData[-c(as.numeric(groups_with_more_than_1_value)),] "
      ],
      "execution_count": 197,
      "outputs": []
    },
    {
      "cell_type": "code",
      "metadata": {
        "id": "eCP6K6ve0MNA",
        "colab_type": "code",
        "colab": {
          "base_uri": "https://localhost:8080/",
          "height": 34
        },
        "outputId": "965f389b-1c64-4e9a-b823-aa8e1b5f8cdd"
      },
      "source": [
        "length(completeData$control)"
      ],
      "execution_count": 198,
      "outputs": [
        {
          "output_type": "display_data",
          "data": {
            "text/plain": [
              "[1] 120198"
            ],
            "text/latex": "120198",
            "text/markdown": "120198",
            "text/html": [
              "120198"
            ]
          },
          "metadata": {
            "tags": []
          }
        }
      ]
    },
    {
      "cell_type": "markdown",
      "metadata": {
        "id": "En0JMA7A0MND",
        "colab_type": "text"
      },
      "source": [
        "## Question 4 - Of the remaining voters, what percentage of them are in each of the following age groups:"
      ]
    },
    {
      "cell_type": "code",
      "metadata": {
        "id": "mHGXnuLt0MNE",
        "colab_type": "code",
        "colab": {
          "base_uri": "https://localhost:8080/",
          "height": 36
        },
        "outputId": "294fda37-9cb5-4c95-f31f-8020edb99379"
      },
      "source": [
        "\n",
        "pb <- txtProgressBar(min = 0, max = length(completeData$control), style = 3)\n",
        "\n",
        "# Get the age of the voters as age not year\n",
        "newAgeColumn = list()\n",
        "for (i in seq(1,length(completeData$control))){\n",
        "    age = 2006 - completeData$yob[i]\n",
        "    newAgeColumn = append(newAgeColumn,age)    \n",
        "    setTxtProgressBar(pb, i)\n",
        "}\n"
      ],
      "execution_count": 199,
      "outputs": [
        {
          "output_type": "stream",
          "text": [
            "  |======================================================================| 100%"
          ],
          "name": "stdout"
        }
      ]
    },
    {
      "cell_type": "code",
      "metadata": {
        "id": "nTr8zmNF0MNH",
        "colab_type": "code",
        "colab": {}
      },
      "source": [
        "#get the new values into the data\n",
        "completeData$age = newAgeColumn"
      ],
      "execution_count": 200,
      "outputs": []
    },
    {
      "cell_type": "code",
      "metadata": {
        "id": "dgeuHyuX0MNK",
        "colab_type": "code",
        "colab": {
          "base_uri": "https://localhost:8080/",
          "height": 80
        },
        "outputId": "2c82a18d-bdf3-4c68-d53b-9e5bcf72a5a4"
      },
      "source": [
        "#Check if it worked\n",
        "completeData$age[1:2]"
      ],
      "execution_count": 201,
      "outputs": [
        {
          "output_type": "display_data",
          "data": {
            "text/plain": [
              "[[1]]\n",
              "[1] 54\n",
              "\n",
              "[[2]]\n",
              "[1] 67\n"
            ],
            "text/latex": "\\begin{enumerate}\n\\item 54\n\\item 67\n\\end{enumerate}\n",
            "text/markdown": "1. 54\n2. 67\n\n\n",
            "text/html": [
              "<ol>\n",
              "\t<li>54</li>\n",
              "\t<li>67</li>\n",
              "</ol>\n"
            ]
          },
          "metadata": {
            "tags": []
          }
        }
      ]
    },
    {
      "cell_type": "code",
      "metadata": {
        "id": "QOJjDl640MNN",
        "colab_type": "code",
        "colab": {
          "base_uri": "https://localhost:8080/",
          "height": 36
        },
        "outputId": "053ee84c-76cc-4b9d-b81f-0108ea20f4d8"
      },
      "source": [
        "#This code is a bit \"hacky\", this list will be used to \n",
        "    # calculate the percentages of each ageGroup\n",
        "Age_18_30 = list()\n",
        "Age_31_40 = list()\n",
        "Age_41_50 = list()\n",
        "Age_51_65 = list()\n",
        "Age_65_all = list()\n",
        "\n",
        "pb <- txtProgressBar(min = 0, max = length(completeData$control), style = 3)\n",
        "for (i in seq(1,length(completeData$control))){\n",
        "    age = completeData$age[i]\n",
        "    #This can definetly be automated\n",
        "    if(age < 31){\n",
        "        Age_18_30 = append(Age_18_30,1)\n",
        "        Age_31_40 = append(Age_31_40,0)\n",
        "        Age_41_50 = append(Age_41_50,0)\n",
        "        Age_51_65 = append(Age_51_65,0)\n",
        "        Age_65_all = append(Age_65_all,0)\n",
        "    }else if (age < 41){\n",
        "        Age_18_30 = append(Age_18_30,0)\n",
        "        Age_31_40 = append(Age_31_40,1)\n",
        "        Age_41_50 = append(Age_41_50,0)\n",
        "        Age_51_65 = append(Age_51_65,0)\n",
        "        Age_65_all = append(Age_65_all,0)\n",
        "    }else if (age < 51){\n",
        "        Age_18_30 = append(Age_18_30,0)\n",
        "        Age_31_40 = append(Age_31_40,0)\n",
        "        Age_41_50 = append(Age_41_50,1)\n",
        "        Age_51_65 = append(Age_51_65,0)\n",
        "        Age_65_all = append(Age_65_all,0)\n",
        "    }else if (age < 65){\n",
        "        Age_18_30 = append(Age_18_30,0)\n",
        "        Age_31_40 = append(Age_31_40,0)\n",
        "        Age_41_50 = append(Age_41_50,0)\n",
        "        Age_51_65 = append(Age_51_65,1)\n",
        "        Age_65_all = append(Age_65_all,0)\n",
        "    }else{\n",
        "        Age_18_30 = append(Age_18_30,0)\n",
        "        Age_31_40 = append(Age_31_40,0)\n",
        "        Age_41_50 = append(Age_41_50,0)\n",
        "        Age_51_65 = append(Age_51_65,0)\n",
        "        Age_65_all = append(Age_65_all,1)\n",
        "    }\n",
        "    \n",
        "    setTxtProgressBar(pb, i)\n",
        "}\n"
      ],
      "execution_count": 202,
      "outputs": [
        {
          "output_type": "stream",
          "text": [
            "  |======================================================================| 100%"
          ],
          "name": "stdout"
        }
      ]
    },
    {
      "cell_type": "code",
      "metadata": {
        "id": "rDkNqtiW0MNQ",
        "colab_type": "code",
        "colab": {
          "base_uri": "https://localhost:8080/",
          "height": 110
        },
        "outputId": "82659a8e-1ebd-488c-99d4-10e656992be8"
      },
      "source": [
        "#Sum the values in the age groups, over the total length of the data\n",
        "percentage_18 = sum(as.numeric(Age_18_30)) / length(completeData$control)\n",
        "percentage_31 = sum(as.numeric(Age_31_40)) / length(completeData$control)\n",
        "percentage_41 = sum(as.numeric(Age_41_50)) / length(completeData$control)\n",
        "percentage_51 = sum(as.numeric(Age_51_65)) / length(completeData$control)\n",
        "percentage_65 = sum(as.numeric(Age_65_all)) / length(completeData$control)\n",
        "\n",
        "print(percentage_18)\n",
        "print(percentage_31)\n",
        "print(percentage_41)\n",
        "print(percentage_51)\n",
        "print(percentage_65)"
      ],
      "execution_count": 203,
      "outputs": [
        {
          "output_type": "stream",
          "text": [
            "[1] 0.08424433\n",
            "[1] 0.125884\n",
            "[1] 0.2805621\n",
            "[1] 0.3561956\n",
            "[1] 0.153114\n"
          ],
          "name": "stdout"
        }
      ]
    },
    {
      "cell_type": "markdown",
      "metadata": {
        "id": "EX_3kWk00MNU",
        "colab_type": "text"
      },
      "source": [
        "### Answer - The percentages of voters per age group are:\n",
        "* 18-30: 8%\n",
        "* 31-40: 13%\n",
        "* 41-50: 28%\n",
        "* 51-65: 36%\n",
        "* 65-all: 15%"
      ]
    },
    {
      "cell_type": "code",
      "metadata": {
        "id": "FE7QFQEn0MNV",
        "colab_type": "code",
        "colab": {
          "base_uri": "https://localhost:8080/",
          "height": 36
        },
        "outputId": "6cdc643e-af64-406f-b1ee-398bf649e9ae"
      },
      "source": [
        "#Here we pass the data as categorical values\n",
        "ageGroup = list()\n",
        "\n",
        "pb <- txtProgressBar(min = 0, max = length(completeData$control), style = 3)\n",
        "for (i in seq(1,length(completeData$age))){\n",
        "    age = completeData$age[i]\n",
        "    #This can definetly be automated\n",
        "    if(age < 31){\n",
        "        ageGroup = append(ageGroup,\"Age_18_30\")\n",
        "    } else if (age < 41){\n",
        "        ageGroup = append(ageGroup,\"Age_31_40\")\n",
        "    } else if (age < 51){\n",
        "        ageGroup = append(ageGroup,\"Age_41_50\")\n",
        "    } else if (age < 65){\n",
        "        ageGroup = append(ageGroup,\"Age_51_65\")\n",
        "    }else{\n",
        "        ageGroup = append(ageGroup,\"Age_65_all\")\n",
        "    }\n",
        "    setTxtProgressBar(pb, i)\n",
        "}\n"
      ],
      "execution_count": 204,
      "outputs": [
        {
          "output_type": "stream",
          "text": [
            "  |======================================================================| 100%"
          ],
          "name": "stdout"
        }
      ]
    },
    {
      "cell_type": "code",
      "metadata": {
        "id": "pBuZw-2S0MNX",
        "colab_type": "code",
        "colab": {}
      },
      "source": [
        "completeData$age_group = ageGroup"
      ],
      "execution_count": 205,
      "outputs": []
    },
    {
      "cell_type": "code",
      "metadata": {
        "scrolled": true,
        "id": "63APAx210MNb",
        "colab_type": "code",
        "colab": {
          "base_uri": "https://localhost:8080/",
          "height": 207
        },
        "outputId": "cdacfa45-170a-40b1-84d3-c0e8108c3cfb"
      },
      "source": [
        "head(completeData)"
      ],
      "execution_count": 206,
      "outputs": [
        {
          "output_type": "display_data",
          "data": {
            "text/plain": [
              "  ID     civicduty hawthorne self neighbors control first.name\n",
              "1 1      0         0         0    0         1       Lucas     \n",
              "2 100    1         0         0    0         0       Claire    \n",
              "3 10000  0         1         0    0         0       Edward    \n",
              "4 10001  0         1         0    0         0       Misbaah   \n",
              "5 10002  0         0         1    0         0       Lorna     \n",
              "6 100020 0         0         0    1         0       Jeremy    \n",
              "  last.name          sex yob  voting2005 voting2006 age age_group \n",
              "1 Cervantes          1   1952 0          1          54  Age_51_65 \n",
              "2 Her                0   1939 0          0          67  Age_65_all\n",
              "3 Bear-Flores        1   1952 0          0          54  Age_51_65 \n",
              "4 Boyd               1   1977 0          1          29  Age_18_30 \n",
              "5 Sandoval-Campuzano 1   1970 1          0          36  Age_31_40 \n",
              "6 Suarez             0   1951 1          1          55  Age_51_65 "
            ],
            "text/latex": "A data.frame: 6 × 14\n\\begin{tabular}{r|llllllllllllll}\n  & ID & civicduty & hawthorne & self & neighbors & control & first.name & last.name & sex & yob & voting2005 & voting2006 & age & age\\_group\\\\\n  & <chr> & <int> & <int> & <int> & <int> & <int> & <chr> & <chr> & <int> & <int> & <int> & <int> & <list> & <list>\\\\\n\\hline\n\t1 & 1      & 0 & 0 & 0 & 0 & 1 & Lucas   & Cervantes          & 1 & 1952 & 0 & 1 & 54 & Age\\_51\\_65\\\\\n\t2 & 100    & 1 & 0 & 0 & 0 & 0 & Claire  & Her                & 0 & 1939 & 0 & 0 & 67 & Age\\_65\\_all\\\\\n\t3 & 10000  & 0 & 1 & 0 & 0 & 0 & Edward  & Bear-Flores        & 1 & 1952 & 0 & 0 & 54 & Age\\_51\\_65\\\\\n\t4 & 10001  & 0 & 1 & 0 & 0 & 0 & Misbaah & Boyd               & 1 & 1977 & 0 & 1 & 29 & Age\\_18\\_30\\\\\n\t5 & 10002  & 0 & 0 & 1 & 0 & 0 & Lorna   & Sandoval-Campuzano & 1 & 1970 & 1 & 0 & 36 & Age\\_31\\_40\\\\\n\t6 & 100020 & 0 & 0 & 0 & 1 & 0 & Jeremy  & Suarez             & 0 & 1951 & 1 & 1 & 55 & Age\\_51\\_65\\\\\n\\end{tabular}\n",
            "text/markdown": "\nA data.frame: 6 × 14\n\n| <!--/--> | ID &lt;chr&gt; | civicduty &lt;int&gt; | hawthorne &lt;int&gt; | self &lt;int&gt; | neighbors &lt;int&gt; | control &lt;int&gt; | first.name &lt;chr&gt; | last.name &lt;chr&gt; | sex &lt;int&gt; | yob &lt;int&gt; | voting2005 &lt;int&gt; | voting2006 &lt;int&gt; | age &lt;list&gt; | age_group &lt;list&gt; |\n|---|---|---|---|---|---|---|---|---|---|---|---|---|---|---|\n| 1 | 1      | 0 | 0 | 0 | 0 | 1 | Lucas   | Cervantes          | 1 | 1952 | 0 | 1 | 54 | Age_51_65 |\n| 2 | 100    | 1 | 0 | 0 | 0 | 0 | Claire  | Her                | 0 | 1939 | 0 | 0 | 67 | Age_65_all |\n| 3 | 10000  | 0 | 1 | 0 | 0 | 0 | Edward  | Bear-Flores        | 1 | 1952 | 0 | 0 | 54 | Age_51_65 |\n| 4 | 10001  | 0 | 1 | 0 | 0 | 0 | Misbaah | Boyd               | 1 | 1977 | 0 | 1 | 29 | Age_18_30 |\n| 5 | 10002  | 0 | 0 | 1 | 0 | 0 | Lorna   | Sandoval-Campuzano | 1 | 1970 | 1 | 0 | 36 | Age_31_40 |\n| 6 | 100020 | 0 | 0 | 0 | 1 | 0 | Jeremy  | Suarez             | 0 | 1951 | 1 | 1 | 55 | Age_51_65 |\n\n",
            "text/html": [
              "<table>\n",
              "<caption>A data.frame: 6 × 14</caption>\n",
              "<thead>\n",
              "\t<tr><th></th><th scope=col>ID</th><th scope=col>civicduty</th><th scope=col>hawthorne</th><th scope=col>self</th><th scope=col>neighbors</th><th scope=col>control</th><th scope=col>first.name</th><th scope=col>last.name</th><th scope=col>sex</th><th scope=col>yob</th><th scope=col>voting2005</th><th scope=col>voting2006</th><th scope=col>age</th><th scope=col>age_group</th></tr>\n",
              "\t<tr><th></th><th scope=col>&lt;chr&gt;</th><th scope=col>&lt;int&gt;</th><th scope=col>&lt;int&gt;</th><th scope=col>&lt;int&gt;</th><th scope=col>&lt;int&gt;</th><th scope=col>&lt;int&gt;</th><th scope=col>&lt;chr&gt;</th><th scope=col>&lt;chr&gt;</th><th scope=col>&lt;int&gt;</th><th scope=col>&lt;int&gt;</th><th scope=col>&lt;int&gt;</th><th scope=col>&lt;int&gt;</th><th scope=col>&lt;list&gt;</th><th scope=col>&lt;list&gt;</th></tr>\n",
              "</thead>\n",
              "<tbody>\n",
              "\t<tr><th scope=row>1</th><td>1     </td><td>0</td><td>0</td><td>0</td><td>0</td><td>1</td><td>Lucas  </td><td>Cervantes         </td><td>1</td><td>1952</td><td>0</td><td>1</td><td>54</td><td>Age_51_65</td></tr>\n",
              "\t<tr><th scope=row>2</th><td>100   </td><td>1</td><td>0</td><td>0</td><td>0</td><td>0</td><td>Claire </td><td>Her               </td><td>0</td><td>1939</td><td>0</td><td>0</td><td>67</td><td>Age_65_all</td></tr>\n",
              "\t<tr><th scope=row>3</th><td>10000 </td><td>0</td><td>1</td><td>0</td><td>0</td><td>0</td><td>Edward </td><td>Bear-Flores       </td><td>1</td><td>1952</td><td>0</td><td>0</td><td>54</td><td>Age_51_65</td></tr>\n",
              "\t<tr><th scope=row>4</th><td>10001 </td><td>0</td><td>1</td><td>0</td><td>0</td><td>0</td><td>Misbaah</td><td>Boyd              </td><td>1</td><td>1977</td><td>0</td><td>1</td><td>29</td><td>Age_18_30</td></tr>\n",
              "\t<tr><th scope=row>5</th><td>10002 </td><td>0</td><td>0</td><td>1</td><td>0</td><td>0</td><td>Lorna  </td><td>Sandoval-Campuzano</td><td>1</td><td>1970</td><td>1</td><td>0</td><td>36</td><td>Age_31_40</td></tr>\n",
              "\t<tr><th scope=row>6</th><td>100020</td><td>0</td><td>0</td><td>0</td><td>1</td><td>0</td><td>Jeremy </td><td>Suarez            </td><td>0</td><td>1951</td><td>1</td><td>1</td><td>55</td><td>Age_51_65</td></tr>\n",
              "</tbody>\n",
              "</table>\n"
            ]
          },
          "metadata": {
            "tags": []
          }
        }
      ]
    },
    {
      "cell_type": "code",
      "metadata": {
        "id": "v0FmEhUQ0MNe",
        "colab_type": "code",
        "colab": {
          "base_uri": "https://localhost:8080/",
          "height": 34
        },
        "outputId": "9eca37ed-9b46-4a6c-c393-529f85e6edcc"
      },
      "source": [
        "length(Age_18_30[1:length(Age_18_30)])"
      ],
      "execution_count": 207,
      "outputs": [
        {
          "output_type": "display_data",
          "data": {
            "text/plain": [
              "[1] 120198"
            ],
            "text/latex": "120198",
            "text/markdown": "120198",
            "text/html": [
              "120198"
            ]
          },
          "metadata": {
            "tags": []
          }
        }
      ]
    },
    {
      "cell_type": "code",
      "metadata": {
        "id": "TFCEcLev0MNh",
        "colab_type": "code",
        "colab": {}
      },
      "source": [
        "one_hot_encoded_data <- completeData\n",
        "one_hot_encoded_data$Age_18_30 <- Age_18_30[1:length(Age_18_30)]\n",
        "one_hot_encoded_data$Age_31_40 <- Age_31_40[1:length(Age_31_40)]\n",
        "one_hot_encoded_data$Age_41_50 <- Age_41_50[1:length(Age_41_50)]\n",
        "one_hot_encoded_data$Age_51_65 <- Age_51_65[1:length(Age_51_65)]\n",
        "one_hot_encoded_data$Age_65_all <- Age_65_all[1:length(Age_65_all)]"
      ],
      "execution_count": 208,
      "outputs": []
    },
    {
      "cell_type": "markdown",
      "metadata": {
        "id": "dFHbNs_b0MNk",
        "colab_type": "text"
      },
      "source": [
        "## Question - For each age group, what percentage of people voted in 2006? Which age group had the largest percentage of people vote?"
      ]
    },
    {
      "cell_type": "code",
      "metadata": {
        "id": "-e93Vdga0MNk",
        "colab_type": "code",
        "colab": {}
      },
      "source": [
        "#Creating a dataframe to group age_groups (one_hot) and if they voted\n",
        "AgeGroupsAndVotingDataFrame <- completeData\n",
        "AgeGroupsAndVotingDataFrame$Age_18_30 <- Age_18_30[1:length(Age_18_30)]\n",
        "AgeGroupsAndVotingDataFrame$Age_31_40 <- Age_31_40[1:length(Age_31_40)]\n",
        "AgeGroupsAndVotingDataFrame$Age_41_50 <- Age_41_50[1:length(Age_41_50)]\n",
        "AgeGroupsAndVotingDataFrame$Age_51_65 <- Age_51_65[1:length(Age_51_65)]\n",
        "AgeGroupsAndVotingDataFrame$Age_65_all <- Age_65_all[1:length(Age_65_all)]\n",
        "\n",
        "AgeGroupsAndVotingDataFrame$civicduty <- completeData$civicduty\n",
        "AgeGroupsAndVotingDataFrame$hawthorne <- completeData$hawthorne\n",
        "AgeGroupsAndVotingDataFrame$self <- completeData$self\n",
        "AgeGroupsAndVotingDataFrame$neighbors <- completeData$neighbors\n",
        "AgeGroupsAndVotingDataFrame$control <- completeData$control\n",
        "AgeGroupsAndVotingDataFrame$voted2006 <- completeData$voting2006\n"
      ],
      "execution_count": 209,
      "outputs": []
    },
    {
      "cell_type": "code",
      "metadata": {
        "id": "eBzDUMti0MNm",
        "colab_type": "code",
        "colab": {}
      },
      "source": [
        "#Get how many voters there are in each age bracket. by multiplying the matrices\n",
        "voters_18 <- as.numeric(AgeGroupsAndVotingDataFrame$Age_18_30) * as.numeric(AgeGroupsAndVotingDataFrame$voted2006)\n",
        "voters_31 <- as.numeric(AgeGroupsAndVotingDataFrame$Age_31_40) * as.numeric(AgeGroupsAndVotingDataFrame$voted2006)\n",
        "voters_41 <- as.numeric(AgeGroupsAndVotingDataFrame$Age_41_50) * as.numeric(AgeGroupsAndVotingDataFrame$voted2006)\n",
        "voters_51 <- as.numeric(AgeGroupsAndVotingDataFrame$Age_51_65) * as.numeric(AgeGroupsAndVotingDataFrame$voted2006)\n",
        "voters_65 <- as.numeric(AgeGroupsAndVotingDataFrame$Age_65_all) * as.numeric(AgeGroupsAndVotingDataFrame$voted2006)"
      ],
      "execution_count": 210,
      "outputs": []
    },
    {
      "cell_type": "code",
      "metadata": {
        "id": "U7kFS-q80MNq",
        "colab_type": "code",
        "colab": {
          "base_uri": "https://localhost:8080/",
          "height": 110
        },
        "outputId": "dfa5e0f5-84f3-4ae9-f570-df9df8d4cfb0"
      },
      "source": [
        "# If you want it of the total voters you use this formula.\n",
        "percentage_18 = sum(as.numeric(voters_18)) / length(completeData$control)\n",
        "percentage_31 = sum(as.numeric(voters_31)) / length(completeData$control)\n",
        "percentage_41 = sum(as.numeric(voters_41)) / length(completeData$control)\n",
        "percentage_51 = sum(as.numeric(voters_51)) / length(completeData$control)\n",
        "percentage_65 = sum(as.numeric(voters_65)) / length(completeData$control)\n",
        "\n",
        "# If you want it whithin itself you use this formula\n",
        "percentage_18 = sum(as.numeric(voters_18)) / sum(as.numeric(AgeGroupsAndVotingDataFrame$Age_18_30))\n",
        "percentage_31 = sum(as.numeric(voters_31)) / sum(as.numeric(AgeGroupsAndVotingDataFrame$Age_31_40))\n",
        "percentage_41 = sum(as.numeric(voters_41)) / sum(as.numeric(AgeGroupsAndVotingDataFrame$Age_41_50))\n",
        "percentage_51 = sum(as.numeric(voters_51)) / sum(as.numeric(AgeGroupsAndVotingDataFrame$Age_51_65))\n",
        "percentage_65 = sum(as.numeric(voters_65)) / sum(as.numeric(AgeGroupsAndVotingDataFrame$Age_65_all))\n",
        "\n",
        "print(percentage_18)\n",
        "print(percentage_31)\n",
        "print(percentage_41)\n",
        "print(percentage_51)\n",
        "print(percentage_65)"
      ],
      "execution_count": 211,
      "outputs": [
        {
          "output_type": "stream",
          "text": [
            "[1] 0.2583449\n",
            "[1] 0.276981\n",
            "[1] 0.2622246\n",
            "[1] 0.2670388\n",
            "[1] 0.2515757\n"
          ],
          "name": "stdout"
        }
      ]
    },
    {
      "cell_type": "markdown",
      "metadata": {
        "id": "bf_u6HB60MNs",
        "colab_type": "text"
      },
      "source": [
        "### Answer - The percentages of voters in 2006 per age group are:\n",
        "(Percentage of total citizens of the age group that vote)\n",
        "* 18-30:- 26% \n",
        "* 31-40:- 28%\n",
        "* 41-50: - 27%\n",
        "* 51-65:  - 27%\n",
        "* 65-all:  - 24%\n",
        "\n",
        "\n",
        "The age group with largest voting percentage was: the ages 51 to 65, one must notice that this group is also the group with the largest age range, which possibly contributes to this result. <- ONLY OF TOTAL VOTERS\n",
        "\n",
        "The first value is the voters of total, the second one is the percentage within itself.\n",
        "\n",
        "**The group with the highest voter percentage is 31-40 (whithin itself), of the total is 51-60** "
      ]
    },
    {
      "cell_type": "markdown",
      "metadata": {
        "id": "dGaMzn2Q0MNu",
        "colab_type": "text"
      },
      "source": [
        "## Question - For each treatment group, what percentage of people voted in 2006? Which treatment group had the largest percentage of people vote?\n",
        "\n"
      ]
    },
    {
      "cell_type": "code",
      "metadata": {
        "id": "0_YdFviw0MNv",
        "colab_type": "code",
        "colab": {
          "base_uri": "https://localhost:8080/",
          "height": 110
        },
        "outputId": "d583287b-d837-42af-e040-ff9d96b434b9"
      },
      "source": [
        "#Creating a dataframe to group age_groups (one_hot) and if they voted\n",
        "group_civic <- AgeGroupsAndVotingDataFrame$civicduty * AgeGroupsAndVotingDataFrame$voted2006\n",
        "group_hawthorne <- AgeGroupsAndVotingDataFrame$hawthorne * AgeGroupsAndVotingDataFrame$voted2006\n",
        "group_self <- AgeGroupsAndVotingDataFrame$self * AgeGroupsAndVotingDataFrame$voted2006\n",
        "group_neighbors <- AgeGroupsAndVotingDataFrame$neighbors * AgeGroupsAndVotingDataFrame$voted2006\n",
        "group_control <- AgeGroupsAndVotingDataFrame$control * AgeGroupsAndVotingDataFrame$voted2006\n",
        "\n",
        "percentage_civic = sum(as.numeric(group_civic)) / length(completeData$control)\n",
        "percentage_hawthorne = sum(as.numeric(group_hawthorne)) / length(completeData$control)\n",
        "percentage_self = sum(as.numeric(group_self)) / length(completeData$control)\n",
        "percentage_neighbors = sum(as.numeric(group_neighbors)) / length(completeData$control)\n",
        "percentage_control = sum(as.numeric(group_control)) / length(completeData$control)\n",
        "\n",
        "percentage_civic = sum(as.numeric(group_civic)) / sum(as.numeric(AgeGroupsAndVotingDataFrame$civicduty))\n",
        "percentage_hawthorne = sum(as.numeric(group_hawthorne)) / sum(as.numeric(AgeGroupsAndVotingDataFrame$hawthorne))\n",
        "percentage_self = sum(as.numeric(group_self)) / sum(as.numeric(AgeGroupsAndVotingDataFrame$self))\n",
        "percentage_neighbors = sum(as.numeric(group_neighbors)) / sum(as.numeric(AgeGroupsAndVotingDataFrame$neighbors))\n",
        "percentage_control = sum(as.numeric(group_control)) / sum(as.numeric(AgeGroupsAndVotingDataFrame$control))\n",
        "\n",
        "print(percentage_civic)\n",
        "print(percentage_hawthorne)\n",
        "print(percentage_self)\n",
        "print(percentage_neighbors)\n",
        "print(percentage_control)\n"
      ],
      "execution_count": 212,
      "outputs": [
        {
          "output_type": "stream",
          "text": [
            "[1] 0.289153\n",
            "[1] 0.2426766\n",
            "[1] 0.2797868\n",
            "[1] 0.290069\n",
            "[1] 0.2168625\n"
          ],
          "name": "stdout"
        }
      ]
    },
    {
      "cell_type": "markdown",
      "metadata": {
        "id": "jMDHT2mW0MN0",
        "colab_type": "text"
      },
      "source": [
        "### Answer - The percentages of voters in 2006 per age group are:\n",
        "* civic: - 30%\n",
        "* hawthorne:  - 23%\n",
        "* self:  - 29%\n",
        "* neighbors:  - 30%\n",
        "* control: - 20%\n",
        "\n",
        "The age group with largest voting in 2006 percentage was: the Neighbhors.\n",
        "\n",
        "The first value is the voters of total, the second one is the percentage within itself."
      ]
    },
    {
      "cell_type": "markdown",
      "metadata": {
        "id": "xP4wEDne0MN0",
        "colab_type": "text"
      },
      "source": [
        "# Task 2 - Data visualization"
      ]
    },
    {
      "cell_type": "markdown",
      "metadata": {
        "id": "oSRshIzs0MN0",
        "colab_type": "text"
      },
      "source": [
        "Note: we only used data for 2006 voters, so as not to confuse our audience when there is 2005 or 2006 data"
      ]
    },
    {
      "cell_type": "markdown",
      "metadata": {
        "id": "Yci9caKT0MN1",
        "colab_type": "text"
      },
      "source": [
        "## 1. Stacked bar chart - voter breakdown\n",
        "showing the breakdown by age group (18-30, 31-40, 41-50, 51-64, 65+)\n",
        "of the number of voters vs non-voters, i.e., the X-axis should be the Age Group, the Y-axis should be the count of people with voting records. Each stack will be composed of the non-voters and the voters and will sum to the number of people in the age group."
      ]
    },
    {
      "cell_type": "code",
      "metadata": {
        "id": "5NjNe9wm0MN1",
        "colab_type": "code",
        "colab": {}
      },
      "source": [
        "#We take the total and substract the total_voters to get non-voters\n",
        "sum_vote_18 <- sum(voters_18)\n",
        "total_18 <- sum(as.numeric(AgeGroupsAndVotingDataFrame$Age_18_30)) - sum_vote_18\n",
        "sum_vote_31 <- sum(voters_31)\n",
        "total_31 <- sum(as.numeric(AgeGroupsAndVotingDataFrame$Age_31_40)) - sum_vote_31\n",
        "sum_vote_41 <- sum(voters_41)\n",
        "total_41 <- sum(as.numeric(AgeGroupsAndVotingDataFrame$Age_41_50)) - sum_vote_41\n",
        "sum_vote_51 <- sum(voters_51)\n",
        "total_51 <- sum(as.numeric(AgeGroupsAndVotingDataFrame$Age_51_65)) - sum_vote_51\n",
        "sum_vote_65 <- sum(voters_65)\n",
        "total_65 <- sum(as.numeric(AgeGroupsAndVotingDataFrame$Age_65_all)) - sum_vote_65\n",
        "\n",
        "stackedValues = list(sum_vote_18, total_18, sum_vote_31, total_31,\n",
        "                     sum_vote_41, total_41,\n",
        "                     sum_vote_51, total_51,\n",
        "                     sum_vote_65, total_65)"
      ],
      "execution_count": 213,
      "outputs": []
    },
    {
      "cell_type": "code",
      "metadata": {
        "id": "ktP_F38L0MN4",
        "colab_type": "code",
        "colab": {
          "base_uri": "https://localhost:8080/",
          "height": 437
        },
        "outputId": "d580354f-5d58-41da-e9f1-d9e9820663c2"
      },
      "source": [
        "ages <- c( rep(\"18\",2), rep(\"31\",2), rep(\"41\",2), rep(\"51\",2),rep(\"65\",2))\n",
        "condition <- rep(c(\"voted\", \"did not vote\"),5)\n",
        "value <- abs(as.numeric(stackedValues))\n",
        "\n",
        "ggplot_data_stacked_1 <- data.frame(ages,condition,value)\n",
        "\n",
        "ggplot(ggplot_data_stacked_1, aes(fill=condition, y=value, x=ages)) + \n",
        "    geom_bar(position=\"stack\", stat=\"identity\")"
      ],
      "execution_count": 214,
      "outputs": [
        {
          "output_type": "display_data",
          "data": {
            "image/png": "[encoded data removed]",
            "text/plain": [
              "plot without title"
            ]
          },
          "metadata": {
            "tags": [],
            "image/png": {
              "width": 420,
              "height": 420
            },
            "text/plain": {
              "width": 420,
              "height": 420
            }
          }
        }
      ]
    },
    {
      "cell_type": "markdown",
      "metadata": {
        "id": "06TFqDqs0MN6",
        "colab_type": "text"
      },
      "source": [
        "## 2. Stacked bar chart - group breakdown\n",
        "showing the breakdown by Groups (treatments + control) of the\n",
        "percentage of people who voted, i.e., the X-axis should be the Group Name and the Y-axis should be the percentage of people who voted. Each stack will be composed of the nonvoters and the voters and will sum to 100%."
      ]
    },
    {
      "cell_type": "code",
      "metadata": {
        "id": "WxfZsSyU0MN7",
        "colab_type": "code",
        "colab": {}
      },
      "source": [
        "sum_civic <- sum(group_civic)\n",
        "total_civic <- sum(AgeGroupsAndVotingDataFrame$civicduty) - sum_civic\n",
        "sum_hawthorne <- sum(group_hawthorne)\n",
        "total_hawthorne <- sum(AgeGroupsAndVotingDataFrame$hawthorne) - sum_hawthorne\n",
        "sum_self <- sum(group_self)\n",
        "total_self <- sum(AgeGroupsAndVotingDataFrame$self) - sum_self\n",
        "sum_neighbors <- sum(group_neighbors)\n",
        "total_neighbors <- sum(AgeGroupsAndVotingDataFrame$neighbors) - sum_neighbors\n",
        "sum_control <- sum(group_control)\n",
        "total_control <- sum(AgeGroupsAndVotingDataFrame$control) - sum_control\n",
        "\n",
        "stackedValues = list(sum_civic, total_civic,sum_hawthorne, total_hawthorne,\n",
        "                     sum_self, total_self,\n",
        "                     sum_neighbors, total_neighbors,\n",
        "                     sum_control, total_control)"
      ],
      "execution_count": 215,
      "outputs": []
    },
    {
      "cell_type": "code",
      "metadata": {
        "id": "ScZuV9wY0MN-",
        "colab_type": "code",
        "colab": {
          "base_uri": "https://localhost:8080/",
          "height": 437
        },
        "outputId": "81eb3e7b-cc7b-4474-d06b-78c99bd21db1"
      },
      "source": [
        "group <- c( rep(\"civic\",2), rep(\"hawthorn\",2), rep(\"self\",2), rep(\"neighbors\",2),rep(\"control\",2))\n",
        "condition <- rep(c(\"voted\", \"did not vote\"),5)\n",
        "value <- abs(as.numeric(stackedValues))\n",
        "\n",
        "ggplot_data_stacked_1 <- data.frame(group,condition,value)\n",
        "\n",
        "ggplot(ggplot_data_stacked_1, aes(fill=condition, y=value, x=group)) + \n",
        "    geom_bar(position=\"fill\", stat=\"identity\")"
      ],
      "execution_count": 216,
      "outputs": [
        {
          "output_type": "display_data",
          "data": {
            "image/png": "[encoded data removed]",
            "text/plain": [
              "plot without title"
            ]
          },
          "metadata": {
            "tags": [],
            "image/png": {
              "width": 420,
              "height": 420
            },
            "text/plain": {
              "width": 420,
              "height": 420
            }
          }
        }
      ]
    },
    {
      "cell_type": "markdown",
      "metadata": {
        "id": "ufCREk700MOB",
        "colab_type": "text"
      },
      "source": [
        "# Task 3 - Modeling with logistic regression"
      ]
    },
    {
      "cell_type": "markdown",
      "metadata": {
        "id": "zgJ-orga0MOB",
        "colab_type": "text"
      },
      "source": [
        "## Part 1- "
      ]
    },
    {
      "cell_type": "markdown",
      "metadata": {
        "id": "f5R-Z2Z90MOC",
        "colab_type": "text"
      },
      "source": [
        "Build a logistic regression model for voting2006 using the give group variables as the independent variables as well as the age_group variable you created in Task 1."
      ]
    },
    {
      "cell_type": "code",
      "metadata": {
        "id": "Uz6NnFVA0MOC",
        "colab_type": "code",
        "colab": {}
      },
      "source": [
        "unlisted_age_group = unlist(ageGroup)"
      ],
      "execution_count": 217,
      "outputs": []
    },
    {
      "cell_type": "code",
      "metadata": {
        "id": "bgmoQRsT0MOE",
        "colab_type": "code",
        "colab": {}
      },
      "source": [
        "#I did this because it gave an error because lists have a value first and it did\n",
        " # Not fit the model\n",
        "completeData$unlisted_age_group = unlisted_age_group"
      ],
      "execution_count": 218,
      "outputs": []
    },
    {
      "cell_type": "code",
      "metadata": {
        "id": "IyDfbvP30MOG",
        "colab_type": "code",
        "colab": {}
      },
      "source": [
        "LogisticRegression <- glm(voting2006 ~ civicduty + hawthorne + self + neighbors + control + unlisted_age_group, data = completeData, family = \"binomial\")"
      ],
      "execution_count": 219,
      "outputs": []
    },
    {
      "cell_type": "code",
      "metadata": {
        "id": "-2IS-v5k0MOI",
        "colab_type": "code",
        "colab": {
          "base_uri": "https://localhost:8080/",
          "height": 596
        },
        "outputId": "6f6e341c-e40f-4f29-ea8e-e30810c97806"
      },
      "source": [
        "summary(LogisticRegression)"
      ],
      "execution_count": 220,
      "outputs": [
        {
          "output_type": "display_data",
          "data": {
            "text/plain": [
              "\n",
              "Call:\n",
              "glm(formula = voting2006 ~ civicduty + hawthorne + self + neighbors + \n",
              "    control + unlisted_age_group, family = \"binomial\", data = completeData)\n",
              "\n",
              "Deviance Residuals: \n",
              "    Min       1Q   Median       3Q      Max  \n",
              "-0.8507  -0.8178  -0.7436   1.5634   1.7794  \n",
              "\n",
              "Coefficients:\n",
              "                             Estimate Std. Error z value Pr(>|z|)    \n",
              "(Intercept)                  -1.31694    0.42818  -3.076 0.002100 ** \n",
              "civicduty                     0.37081    0.42791   0.867 0.386193    \n",
              "hawthorne                     0.13186    0.42794   0.308 0.757993    \n",
              "self                          0.32439    0.42791   0.758 0.448398    \n",
              "neighbors                     0.37484    0.42790   0.876 0.381021    \n",
              "control                      -0.01649    0.42796  -0.039 0.969256    \n",
              "unlisted_age_groupAge_31_40   0.11188    0.02915   3.839 0.000124 ***\n",
              "unlisted_age_groupAge_41_50   0.04081    0.02593   1.574 0.115497    \n",
              "unlisted_age_groupAge_51_65   0.06897    0.02527   2.729 0.006345 ** \n",
              "unlisted_age_groupAge_65_all -0.01985    0.02842  -0.698 0.484880    \n",
              "---\n",
              "Signif. codes:  0 ‘***’ 0.001 ‘**’ 0.01 ‘*’ 0.05 ‘.’ 0.1 ‘ ’ 1\n",
              "\n",
              "(Dispersion parameter for binomial family taken to be 1)\n",
              "\n",
              "    Null deviance: 138717  on 120197  degrees of freedom\n",
              "Residual deviance: 138143  on 120188  degrees of freedom\n",
              "AIC: 138163\n",
              "\n",
              "Number of Fisher Scoring iterations: 4\n"
            ]
          },
          "metadata": {
            "tags": []
          }
        }
      ]
    },
    {
      "cell_type": "markdown",
      "metadata": {
        "id": "RuMSz3zt0MOL",
        "colab_type": "text"
      },
      "source": [
        "In the output above, we see the deviance residuals, which are a measure of model fit. This part of output shows the distribution of the deviance residuals for individual cases used in the model.\n",
        "\n",
        "Next it shows the coefficients, standard errors, the z-statistic, and the associated p-values, here we can see that the group values are not statistically significand, but every age value is (except for age 65+)\n",
        "\n"
      ]
    },
    {
      "cell_type": "markdown",
      "metadata": {
        "id": "3BGaKGaC0MOO",
        "colab_type": "text"
      },
      "source": [
        "**The coefficient with most significance in this regression model is the p-value Pr(>|z|), which indicates evidence against or for a Null hypothesis**"
      ]
    },
    {
      "cell_type": "markdown",
      "metadata": {
        "id": "jD2TPBOC0MOO",
        "colab_type": "text"
      },
      "source": [
        "## Part 2-  Using a threshold of 0.5, what is the accuracy of the logistic regression model?\n",
        "\n",
        "Taking the definition of [accuracy](https://en.wikipedia.org/wiki/Accuracy_and_precision) \n",
        "- Accuracy = (TP + TN)/(TP + TN + FP + FN)"
      ]
    },
    {
      "cell_type": "code",
      "metadata": {
        "id": "ZjfVb6l70MOO",
        "colab_type": "code",
        "colab": {}
      },
      "source": [
        "LogisticRegression_probabilities = predict(LogisticRegression,newdata = completeData)"
      ],
      "execution_count": 221,
      "outputs": []
    },
    {
      "cell_type": "code",
      "metadata": {
        "id": "32_EWgUR0MOR",
        "colab_type": "code",
        "colab": {
          "base_uri": "https://localhost:8080/",
          "height": 36
        },
        "outputId": "1b3ea859-eab8-4eef-a096-2302f39e3b51"
      },
      "source": [
        "count = 0\n",
        "for(i in seq(1,length(LogisticRegression_probabilities))){\n",
        "    if(LogisticRegression_probabilities[i] > 0.5){\n",
        "        if(completeData$voting2006[i] == 1){\n",
        "            count = count + 1\n",
        "        }\n",
        "    } else{\n",
        "        if(completeData$voting2006[i] == 0){\n",
        "            count = count + 1\n",
        "        }\n",
        "    }\n",
        "}\n",
        "print(count / length(LogisticRegression_probabilities))"
      ],
      "execution_count": 222,
      "outputs": [
        {
          "output_type": "stream",
          "text": [
            "[1] 0.7361603\n"
          ],
          "name": "stdout"
        }
      ]
    },
    {
      "cell_type": "code",
      "metadata": {
        "id": "-YuNQB1ySnl5",
        "colab_type": "code",
        "colab": {
          "base_uri": "https://localhost:8080/",
          "height": 36
        },
        "outputId": "94a168f6-1932-49c0-de67-d2f328b07620"
      },
      "source": [
        "#Build a list with the predictions\n",
        "log_reg_predictions = list()\n",
        "pb <- txtProgressBar(min = 0, max = length(LogisticRegression_probabilities), style = 3)\n",
        "for(i in seq(1,length(LogisticRegression_probabilities))){\n",
        "    if(LogisticRegression_probabilities[i] > 0.5){\n",
        "      log_reg_predictions = append(log_reg_predictions,1)\n",
        "    } else{\n",
        "      log_reg_predictions = append(log_reg_predictions,0)\n",
        "    }\n",
        "    setTxtProgressBar(pb, i)\n",
        "}"
      ],
      "execution_count": 223,
      "outputs": [
        {
          "output_type": "stream",
          "text": [
            "  |======================================================================| 100%"
          ],
          "name": "stdout"
        }
      ]
    },
    {
      "cell_type": "code",
      "metadata": {
        "scrolled": true,
        "id": "OZ_Fav3f0MOU",
        "colab_type": "code",
        "colab": {
          "base_uri": "https://localhost:8080/",
          "height": 36
        },
        "outputId": "f6a68dff-6efa-48e3-89bc-3b2ff62ec383"
      },
      "source": [
        "confMat <- table(completeData$voting2006,as.numeric(log_reg_predictions))\n",
        "accuracy <- sum(diag(confMat))/sum(confMat)\n",
        "print(accuracy) "
      ],
      "execution_count": 224,
      "outputs": [
        {
          "output_type": "stream",
          "text": [
            "[1] 0.7361603\n"
          ],
          "name": "stdout"
        }
      ]
    },
    {
      "cell_type": "markdown",
      "metadata": {
        "id": "LWjgUL9R0MOZ",
        "colab_type": "text"
      },
      "source": [
        "### Answer: the accuracy of the model is: 73%\n",
        "\n",
        "\n"
      ]
    },
    {
      "cell_type": "markdown",
      "metadata": {
        "id": "uacOtqOB0MOa",
        "colab_type": "text"
      },
      "source": [
        "## Part 3- Plot the ROC curve for the model and compute the AUC of the model.\n",
        "\n"
      ]
    },
    {
      "cell_type": "code",
      "metadata": {
        "id": "gBSN1pw1Y_Aq",
        "colab_type": "code",
        "colab": {}
      },
      "source": [
        "library(pROC)"
      ],
      "execution_count": 225,
      "outputs": []
    },
    {
      "cell_type": "code",
      "metadata": {
        "id": "-kgaeZGuW-Ej",
        "colab_type": "code",
        "colab": {
          "base_uri": "https://localhost:8080/",
          "height": 109
        },
        "outputId": "b3130227-2f56-4f60-ee74-4d98fa5e245d"
      },
      "source": [
        "#roc_obj_2 <- roc(completeData$voting2006, as.numeric(log_reg_predictions))\n",
        "roc_obj_2 <- roc(completeData$voting2006, LogisticRegression_probabilities)\n",
        "auc(roc_obj_2)"
      ],
      "execution_count": 226,
      "outputs": [
        {
          "output_type": "stream",
          "text": [
            "Setting levels: control = 0, case = 1\n",
            "\n",
            "Setting direction: controls < cases\n",
            "\n"
          ],
          "name": "stderr"
        },
        {
          "output_type": "display_data",
          "data": {
            "text/plain": [
              "Area under the curve: 0.5504"
            ],
            "text/latex": "0.550422499828906",
            "text/markdown": "0.550422499828906",
            "text/html": [
              "0.550422499828906"
            ]
          },
          "metadata": {
            "tags": []
          }
        }
      ]
    },
    {
      "cell_type": "code",
      "metadata": {
        "id": "9Q-RCXu-V5Sy",
        "colab_type": "code",
        "colab": {
          "base_uri": "https://localhost:8080/",
          "height": 512
        },
        "outputId": "a9087a63-8fbc-4b76-f6c2-4d164323ea65"
      },
      "source": [
        "pROC_obj <- roc(completeData$voting2006,LogisticRegression_probabilities,\n",
        "            smoothed = TRUE,\n",
        "            # arguments for ci\n",
        "            ci=TRUE, ci.alpha=0.9, stratified=FALSE,\n",
        "            # arguments for plot\n",
        "            plot=TRUE, auc.polygon=TRUE, max.auc.polygon=TRUE, grid=TRUE,\n",
        "            print.auc=TRUE, show.thres=TRUE)\n",
        "\n",
        "\n",
        "sens.ci <- ci.se(pROC_obj)\n",
        "plot(sens.ci, type=\"shape\", col=\"lightblue\")\n",
        "\n",
        "## Warning in plot.ci.se(sens.ci, type = \"shape\", col = \"lightblue\"): Low\n",
        "## definition shape.\n",
        "\n",
        "plot(sens.ci, type=\"bars\")\n",
        "#Sensitivity = Ratio of true positives\n",
        "#Specificity = Ratio of true negatives"
      ],
      "execution_count": 227,
      "outputs": [
        {
          "output_type": "stream",
          "text": [
            "Setting levels: control = 0, case = 1\n",
            "\n",
            "Setting direction: controls < cases\n",
            "\n"
          ],
          "name": "stderr"
        },
        {
          "output_type": "display_data",
          "data": {
            "image/png": "[encoded data removed]",
            "text/plain": [
              "plot without title"
            ]
          },
          "metadata": {
            "tags": [],
            "image/png": {
              "width": 420,
              "height": 420
            },
            "text/plain": {
              "width": 420,
              "height": 420
            }
          }
        }
      ]
    },
    {
      "cell_type": "markdown",
      "metadata": {
        "id": "88_YSbVv0MOh",
        "colab_type": "text"
      },
      "source": [
        "An ROC curve is a graph showing the performance of a classification model at all classification tresholds: it plots two parameters, \n",
        "- the True Positive Rate\n",
        "- False positive rate:\n"
      ]
    },
    {
      "cell_type": "markdown",
      "metadata": {
        "id": "_Dvc6L-50MOi",
        "colab_type": "text"
      },
      "source": [
        "![image.png](attachment:image.png)"
      ]
    },
    {
      "cell_type": "markdown",
      "metadata": {
        "id": "O5P03vsF0MOj",
        "colab_type": "text"
      },
      "source": [
        "An ROC curve plots TPR vs. FPR at different classification thresholds. "
      ]
    },
    {
      "cell_type": "markdown",
      "metadata": {
        "id": "My1BaJzl0MOk",
        "colab_type": "text"
      },
      "source": [
        "![image.png](attachment:image.png)"
      ]
    },
    {
      "cell_type": "markdown",
      "metadata": {
        "id": "ZeGjcY0X0MOk",
        "colab_type": "text"
      },
      "source": [
        "images taken from [google](https://developers.google.com/machine-learning/crash-course/classification/roc-and-auc)"
      ]
    },
    {
      "cell_type": "markdown",
      "metadata": {
        "id": "ITANbICK0MOk",
        "colab_type": "text"
      },
      "source": [
        "On the other hand AUC measures the entire two-dimensional area underneath the entire ROC curve. AUC provides an aggregate measure of performance across all possible classification thresholds, AUC ranges in value from 0 to 1. A model whose predictions are 100% wrong has an AUC of 0.0; one whose predictions are 100% correct has an AUC of 1.0.\n",
        "\n",
        "Here we can see that our **AUC value is of 0.568**, which means that our model does not perform well, in the case of our curve we can see how at certain thresholds it moves agressively, this could mean that the model is getting stuck at some points and then overcompensating, this is motif for future analysis."
      ]
    },
    {
      "cell_type": "markdown",
      "metadata": {
        "id": "sKxC89XI0MOm",
        "colab_type": "text"
      },
      "source": [
        "# Task 4 - Modeling with Trees"
      ]
    },
    {
      "cell_type": "markdown",
      "metadata": {
        "id": "QKxkVNnU0MOm",
        "colab_type": "text"
      },
      "source": [
        "## Part 1- Using the rpart function in R and leaving all the parameters at their default values use the option method=”class”, build the model and plot the tree."
      ]
    },
    {
      "cell_type": "code",
      "metadata": {
        "id": "_SZ6xKZm0MOn",
        "colab_type": "code",
        "colab": {}
      },
      "source": [
        "#Grow the tree\n",
        "Tree_model = rpart(voting2006 ~ civicduty + hawthorne + self + neighbors + control + unlisted_age_group, data = completeData, method=\"class\")"
      ],
      "execution_count": 228,
      "outputs": []
    },
    {
      "cell_type": "code",
      "metadata": {
        "id": "2ECSplDt0MOp",
        "colab_type": "code",
        "colab": {
          "base_uri": "https://localhost:8080/",
          "height": 1000
        },
        "outputId": "a96400ec-c7f7-4faa-831a-4255eba67d31"
      },
      "source": [
        "printcp(Tree_model) # display the results\n",
        "plotcp(Tree_model) # visualize cross-validation results\n",
        "summary(Tree_model) # detailed summary of splits"
      ],
      "execution_count": 229,
      "outputs": [
        {
          "output_type": "stream",
          "text": [
            "\n",
            "Classification tree:\n",
            "rpart(formula = voting2006 ~ civicduty + hawthorne + self + neighbors + \n",
            "    control + unlisted_age_group, data = completeData, method = \"class\")\n",
            "\n",
            "Variables actually used in tree construction:\n",
            "[1] civicduty          control            hawthorne          self              \n",
            "[5] unlisted_age_group\n",
            "\n",
            "Root node error: 31713/120198 = 0.26384\n",
            "\n",
            "n= 120198 \n",
            "\n",
            "        CP nsplit rel error  xerror      xstd\n",
            "1 0.022914      0   1.00000 1.00000 0.0048180\n",
            "2 0.010000     10   0.71822 0.71832 0.0042846\n",
            "Call:\n",
            "rpart(formula = voting2006 ~ civicduty + hawthorne + self + neighbors + \n",
            "    control + unlisted_age_group, data = completeData, method = \"class\")\n",
            "  n= 120198 \n",
            "\n",
            "          CP nsplit rel error    xerror        xstd\n",
            "1 0.02291384      0 1.0000000 1.0000000 0.004818008\n",
            "2 0.01000000     10 0.7182228 0.7183174 0.004284602\n",
            "\n",
            "Variable importance\n",
            "unlisted_age_group          civicduty          neighbors            control \n",
            "                43                 28                 28                  1 \n",
            "\n",
            "Node number 1: 120198 observations,    complexity param=0.02291384\n",
            "  predicted class=0  expected loss=0.2638397  P(node) =1\n",
            "    class counts: 88485 31713\n",
            "   probabilities: 0.736 0.264 \n",
            "  left son=2 (24338 obs) right son=3 (95860 obs)\n",
            "  Primary splits:\n",
            "      control   < 0.5 to the right, improve=134.69390, (0 missing)\n",
            "      neighbors < 0.5 to the left,  improve= 43.57079, (0 missing)\n",
            "      civicduty < 0.5 to the left,  improve= 37.21539, (0 missing)\n",
            "      hawthorne < 0.5 to the right, improve= 25.72313, (0 missing)\n",
            "      self      < 0.5 to the left,  improve= 15.40904, (0 missing)\n",
            "\n",
            "Node number 2: 24338 observations\n",
            "  predicted class=0  expected loss=0.2168625  P(node) =0.2024826\n",
            "    class counts: 19060  5278\n",
            "   probabilities: 0.783 0.217 \n",
            "\n",
            "Node number 3: 95860 observations,    complexity param=0.02291384\n",
            "  predicted class=0  expected loss=0.2757667  P(node) =0.7975174\n",
            "    class counts: 69425 26435\n",
            "   probabilities: 0.724 0.276 \n",
            "  left son=6 (23179 obs) right son=7 (72681 obs)\n",
            "  Primary splits:\n",
            "      hawthorne          < 0.5 to the right, improve=66.948300, (0 missing)\n",
            "      neighbors          < 0.5 to the left,  improve=13.883420, (0 missing)\n",
            "      unlisted_age_group splits as  LRRRL,   improve=12.094070, (0 missing)\n",
            "      civicduty          < 0.5 to the left,  improve=11.087520, (0 missing)\n",
            "      self               < 0.5 to the left,  improve= 1.046135, (0 missing)\n",
            "\n",
            "Node number 6: 23179 observations,    complexity param=0.02291384\n",
            "  predicted class=0  expected loss=0.2426766  P(node) =0.1928401\n",
            "    class counts: 17554  5625\n",
            "   probabilities: 0.757 0.243 \n",
            "  left son=12 (18195 obs) right son=13 (4984 obs)\n",
            "  Primary splits:\n",
            "      unlisted_age_group splits as  RRLLL, improve=2877.445, (0 missing)\n",
            "\n",
            "Node number 7: 72681 observations,    complexity param=0.02291384\n",
            "  predicted class=0  expected loss=0.2863197  P(node) =0.6046773\n",
            "    class counts: 51871 20810\n",
            "   probabilities: 0.714 0.286 \n",
            "  left son=14 (15852 obs) right son=15 (56829 obs)\n",
            "  Primary splits:\n",
            "      unlisted_age_group splits as  LLRRR,   improve=852.6608000, (0 missing)\n",
            "      self               < 0.5 to the right, improve=  3.0961980, (0 missing)\n",
            "      neighbors          < 0.5 to the left,  improve=  1.0755380, (0 missing)\n",
            "      civicduty          < 0.5 to the left,  improve=  0.5537152, (0 missing)\n",
            "\n",
            "Node number 12: 18195 observations\n",
            "  predicted class=0  expected loss=0.1122836  P(node) =0.1513752\n",
            "    class counts: 16152  2043\n",
            "   probabilities: 0.888 0.112 \n",
            "\n",
            "Node number 13: 4984 observations\n",
            "  predicted class=1  expected loss=0.2813002  P(node) =0.04146492\n",
            "    class counts:  1402  3582\n",
            "   probabilities: 0.281 0.719 \n",
            "\n",
            "Node number 14: 15852 observations\n",
            "  predicted class=0  expected loss=0.1413071  P(node) =0.1318824\n",
            "    class counts: 13612  2240\n",
            "   probabilities: 0.859 0.141 \n",
            "\n",
            "Node number 15: 56829 observations,    complexity param=0.02291384\n",
            "  predicted class=0  expected loss=0.3267698  P(node) =0.4727949\n",
            "    class counts: 38259 18570\n",
            "   probabilities: 0.673 0.327 \n",
            "  left son=30 (18971 obs) right son=31 (37858 obs)\n",
            "  Primary splits:\n",
            "      self               < 0.5 to the right, improve=4.9103810, (0 missing)\n",
            "      unlisted_age_group splits as  --RRL,   improve=2.7723880, (0 missing)\n",
            "      civicduty          < 0.5 to the left,  improve=1.8345060, (0 missing)\n",
            "      neighbors          < 0.5 to the left,  improve=0.8010089, (0 missing)\n",
            "  Surrogate splits:\n",
            "      neighbors < 0.5 to the left,  agree=0.678, adj=0.035, (0 split)\n",
            "\n",
            "Node number 30: 18971 observations,    complexity param=0.02291384\n",
            "  predicted class=0  expected loss=0.3174846  P(node) =0.1578312\n",
            "    class counts: 12948  6023\n",
            "   probabilities: 0.683 0.317 \n",
            "  left son=60 (15249 obs) right son=61 (3722 obs)\n",
            "  Primary splits:\n",
            "      unlisted_age_group splits as  --LLR, improve=1898.753, (0 missing)\n",
            "\n",
            "Node number 31: 37858 observations,    complexity param=0.02291384\n",
            "  predicted class=0  expected loss=0.3314227  P(node) =0.3149636\n",
            "    class counts: 25311 12547\n",
            "   probabilities: 0.669 0.331 \n",
            "  left son=62 (7527 obs) right son=63 (30331 obs)\n",
            "  Primary splits:\n",
            "      unlisted_age_group splits as  --RRL,   improve=1.071702e+03, (0 missing)\n",
            "      civicduty          < 0.5 to the left,  improve=9.864659e-02, (0 missing)\n",
            "      neighbors          < 0.5 to the right, improve=7.886206e-02, (0 missing)\n",
            "\n",
            "Node number 60: 15249 observations\n",
            "  predicted class=0  expected loss=0.2069644  P(node) =0.1268657\n",
            "    class counts: 12093  3156\n",
            "   probabilities: 0.793 0.207 \n",
            "\n",
            "Node number 61: 3722 observations\n",
            "  predicted class=1  expected loss=0.2297152  P(node) =0.03096557\n",
            "    class counts:   855  2867\n",
            "   probabilities: 0.230 0.770 \n",
            "\n",
            "Node number 62: 7527 observations\n",
            "  predicted class=0  expected loss=0.09259997  P(node) =0.06262167\n",
            "    class counts:  6830   697\n",
            "   probabilities: 0.907 0.093 \n",
            "\n",
            "Node number 63: 30331 observations,    complexity param=0.02291384\n",
            "  predicted class=0  expected loss=0.3906894  P(node) =0.252342\n",
            "    class counts: 18481 11850\n",
            "   probabilities: 0.609 0.391 \n",
            "  left son=126 (16844 obs) right son=127 (13487 obs)\n",
            "  Primary splits:\n",
            "      unlisted_age_group splits as  --RL-,   improve=48.4072700, (0 missing)\n",
            "      civicduty          < 0.5 to the left,  improve= 0.2042546, (0 missing)\n",
            "      neighbors          < 0.5 to the right, improve= 0.1598781, (0 missing)\n",
            "\n",
            "Node number 126: 16844 observations,    complexity param=0.02291384\n",
            "  predicted class=0  expected loss=0.365412  P(node) =0.1401354\n",
            "    class counts: 10689  6155\n",
            "   probabilities: 0.635 0.365 \n",
            "  left son=252 (8102 obs) right son=253 (8742 obs)\n",
            "  Primary splits:\n",
            "      civicduty < 0.5 to the right, improve=1928.434, (0 missing)\n",
            "      neighbors < 0.5 to the left,  improve=1927.600, (0 missing)\n",
            "  Surrogate splits:\n",
            "      neighbors < 0.5 to the left,  agree=0.999, adj=0.999, (0 split)\n",
            "\n",
            "Node number 127: 13487 observations,    complexity param=0.02291384\n",
            "  predicted class=0  expected loss=0.4222585  P(node) =0.1122065\n",
            "    class counts:  7792  5695\n",
            "   probabilities: 0.578 0.422 \n",
            "  left son=254 (6981 obs) right son=255 (6506 obs)\n",
            "  Primary splits:\n",
            "      civicduty < 0.5 to the left,  improve=2473.482, (0 missing)\n",
            "      neighbors < 0.5 to the right, improve=2464.378, (0 missing)\n",
            "  Surrogate splits:\n",
            "      neighbors < 0.5 to the right, agree=0.999, adj=0.998, (0 split)\n",
            "\n",
            "Node number 252: 8102 observations\n",
            "  predicted class=0  expected loss=0.1168847  P(node) =0.06740545\n",
            "    class counts:  7155   947\n",
            "   probabilities: 0.883 0.117 \n",
            "\n",
            "Node number 253: 8742 observations\n",
            "  predicted class=1  expected loss=0.4042553  P(node) =0.07273\n",
            "    class counts:  3534  5208\n",
            "   probabilities: 0.404 0.596 \n",
            "\n",
            "Node number 254: 6981 observations\n",
            "  predicted class=0  expected loss=0.1299241  P(node) =0.05807917\n",
            "    class counts:  6074   907\n",
            "   probabilities: 0.870 0.130 \n",
            "\n",
            "Node number 255: 6506 observations\n",
            "  predicted class=1  expected loss=0.2640639  P(node) =0.05412736\n",
            "    class counts:  1718  4788\n",
            "   probabilities: 0.264 0.736 \n",
            "\n"
          ],
          "name": "stdout"
        },
        {
          "output_type": "display_data",
          "data": {
            "image/png": "[encoded data removed]",
            "text/plain": [
              "plot without title"
            ]
          },
          "metadata": {
            "tags": [],
            "image/png": {
              "width": 420,
              "height": 420
            },
            "text/plain": {
              "width": 420,
              "height": 420
            }
          }
        }
      ]
    },
    {
      "cell_type": "code",
      "metadata": {
        "id": "734-PrWl0MOs",
        "colab_type": "code",
        "colab": {
          "base_uri": "https://localhost:8080/",
          "height": 437
        },
        "outputId": "9f732be9-786f-430a-8c4f-199d327a578f"
      },
      "source": [
        "# plot tree\n",
        "plot(Tree_model, uniform=TRUE,\n",
        "   main=\"Classification Tree\")\n",
        "text(Tree_model, use.n=TRUE, all=TRUE, cex=.8)\n",
        "\n",
        "# create attractive postscript plot of tree\n",
        "post(Tree_model, file = \"/tree.ps\",\n",
        "   title = \"Classification Tree\")"
      ],
      "execution_count": 230,
      "outputs": [
        {
          "output_type": "display_data",
          "data": {
            "image/png": "[encoded data removed]",
            "text/plain": [
              "Plot with title “Classification Tree”"
            ]
          },
          "metadata": {
            "tags": [],
            "image/png": {
              "width": 420,
              "height": 420
            },
            "text/plain": {
              "width": 420,
              "height": 420
            }
          }
        }
      ]
    },
    {
      "cell_type": "markdown",
      "metadata": {
        "id": "Gjc_nK1E0MOv",
        "colab_type": "text"
      },
      "source": [
        "### Questions - Does it give any insight into the structure of the data that the logistic regression did not? In particular, what is the interaction between the treatment type and age group?\n",
        "Trees are particularly useful at showing how the analysis developed we can see the \"Tree\" and its \"branches\", to analyze how the model developed, The interaction between the treatment type and age group takes the shape of the model calculating the treatment type and then building the branches with the age group variables.\n"
      ]
    },
    {
      "cell_type": "markdown",
      "metadata": {
        "id": "FXHFaeUu0MOv",
        "colab_type": "text"
      },
      "source": [
        "## Part 2- Now, calculate the accuracy of the model. How does it compare to the logistic regression model?If better or worse, why?"
      ]
    },
    {
      "cell_type": "code",
      "metadata": {
        "id": "AZi5c6ag0MOv",
        "colab_type": "code",
        "colab": {}
      },
      "source": [
        "tree_model_preds = predict(Tree_model,newdata = completeData, type = \"class\")"
      ],
      "execution_count": 231,
      "outputs": []
    },
    {
      "cell_type": "code",
      "metadata": {
        "collapsed": true,
        "id": "kaaoVHk-0MOx",
        "colab_type": "code",
        "colab": {
          "base_uri": "https://localhost:8080/",
          "height": 702
        },
        "outputId": "fa5a37cb-507c-41dd-fc20-d3339eacfb04"
      },
      "source": [
        "accuracy(table(completeData$voting2006,tree_model_preds))"
      ],
      "execution_count": 232,
      "outputs": [
        {
          "output_type": "display_data",
          "data": {
            "text/plain": [
              "Accuracy (PCC): 81.0504334514717% \n",
              "\n",
              "Cohen's Kappa: 0.4706 \n",
              "\n",
              "Area under the ROC curve: 0.7168476 \n",
              "\n",
              "Users accuracy: \n",
              "   0    1 \n",
              "84.1 68.7 \n",
              " \n",
              "\n",
              "Producers accuracy: \n",
              "   0    1 \n",
              "91.5 51.9 \n",
              " \n",
              "\n",
              "True Skill statistic: NA \n",
              "\n",
              "Sensitivity (aka recall): 0.9151382 \n",
              "\n",
              "Specificity: 0.5185571 \n",
              "\n",
              "Gain (aka precision): 1.038072 \n",
              "\n",
              "Positive Likelihood Ratio: 1.900824 \n",
              "\n",
              "Negative Likelihood Ratio: 0.16365 \n",
              "\n",
              "Type I error: 0.4814429 \n",
              "\n",
              "Type II error: 0.08486184 \n",
              "\n",
              "Gini Index: 0.4336952 \n",
              "\n",
              "F-score: 0.8767005 \n",
              "\n",
              "Matthews correlation coefficient: NA \n",
              "\n",
              "Confusion matrix \n",
              "  0                      1                      \n",
              "0 \"True positive(80976)\" \"False positive(15268)\"\n",
              "1 \"False negative(7509)\" \"True negative(16445)\" "
            ],
            "text/latex": "\\begin{description}\n\\item[\\$PCC] 81.0504334514717\n\\item[\\$auc] 0.716847608814748\n\\item[\\$users.accuracy] \\begin{description*}\n\\item[0] 84.1\n\\item[1] 68.7\n\\end{description*}\n\n\\item[\\$producers.accuracy] \\begin{description*}\n\\item[0] 91.5\n\\item[1] 51.9\n\\end{description*}\n\n\\item[\\$kappa] 0.4706\n\\item[\\$true.skill] <NA>\n\\item[\\$sensitivity] 0.915138159010002\n\\item[\\$specificity] 0.518557058619494\n\\item[\\$plr] 1.90082371212236\n\\item[\\$nlr] 0.163649958243589\n\\item[\\$typeI.error] 0.481442941380506\n\\item[\\$typeII.error] 0.0848618409899983\n\\item[\\$gini] 0.433695217629495\n\\item[\\$f.score] 0.876700463922828\n\\item[\\$gain] 1.03807160997405\n\\item[\\$matthews] <NA>\n\\item[\\$confusion] A matrix: 2 × 2 of type chr\n\\begin{tabular}{r|ll}\n  & 0 & 1\\\\\n\\hline\n\t0 & True positive(80976) & False positive(15268)\\\\\n\t1 & False negative(7509) & True negative(16445) \\\\\n\\end{tabular}\n\n\\end{description}\n",
            "text/markdown": "$PCC\n:   81.0504334514717\n$auc\n:   0.716847608814748\n$users.accuracy\n:   0\n:   84.11\n:   68.7\n\n\n$producers.accuracy\n:   0\n:   91.51\n:   51.9\n\n\n$kappa\n:   0.4706\n$true.skill\n:   &lt;NA&gt;\n$sensitivity\n:   0.915138159010002\n$specificity\n:   0.518557058619494\n$plr\n:   1.90082371212236\n$nlr\n:   0.163649958243589\n$typeI.error\n:   0.481442941380506\n$typeII.error\n:   0.0848618409899983\n$gini\n:   0.433695217629495\n$f.score\n:   0.876700463922828\n$gain\n:   1.03807160997405\n$matthews\n:   &lt;NA&gt;\n$confusion\n:   \nA matrix: 2 × 2 of type chr\n\n| <!--/--> | 0 | 1 |\n|---|---|---|\n| 0 | True positive(80976) | False positive(15268) |\n| 1 | False negative(7509) | True negative(16445)  |\n\n\n\n\n",
            "text/html": [
              "<dl>\n",
              "\t<dt>$PCC</dt>\n",
              "\t\t<dd>81.0504334514717</dd>\n",
              "\t<dt>$auc</dt>\n",
              "\t\t<dd>0.716847608814748</dd>\n",
              "\t<dt>$users.accuracy</dt>\n",
              "\t\t<dd><style>\n",
              ".dl-inline {width: auto; margin:0; padding: 0}\n",
              ".dl-inline>dt, .dl-inline>dd {float: none; width: auto; display: inline-block}\n",
              ".dl-inline>dt::after {content: \":\\0020\"; padding-right: .5ex}\n",
              ".dl-inline>dt:not(:first-of-type) {padding-left: .5ex}\n",
              "</style><dl class=dl-inline><dt>0</dt><dd>84.1</dd><dt>1</dt><dd>68.7</dd></dl>\n",
              "</dd>\n",
              "\t<dt>$producers.accuracy</dt>\n",
              "\t\t<dd><style>\n",
              ".dl-inline {width: auto; margin:0; padding: 0}\n",
              ".dl-inline>dt, .dl-inline>dd {float: none; width: auto; display: inline-block}\n",
              ".dl-inline>dt::after {content: \":\\0020\"; padding-right: .5ex}\n",
              ".dl-inline>dt:not(:first-of-type) {padding-left: .5ex}\n",
              "</style><dl class=dl-inline><dt>0</dt><dd>91.5</dd><dt>1</dt><dd>51.9</dd></dl>\n",
              "</dd>\n",
              "\t<dt>$kappa</dt>\n",
              "\t\t<dd>0.4706</dd>\n",
              "\t<dt>$true.skill</dt>\n",
              "\t\t<dd>&lt;NA&gt;</dd>\n",
              "\t<dt>$sensitivity</dt>\n",
              "\t\t<dd>0.915138159010002</dd>\n",
              "\t<dt>$specificity</dt>\n",
              "\t\t<dd>0.518557058619494</dd>\n",
              "\t<dt>$plr</dt>\n",
              "\t\t<dd>1.90082371212236</dd>\n",
              "\t<dt>$nlr</dt>\n",
              "\t\t<dd>0.163649958243589</dd>\n",
              "\t<dt>$typeI.error</dt>\n",
              "\t\t<dd>0.481442941380506</dd>\n",
              "\t<dt>$typeII.error</dt>\n",
              "\t\t<dd>0.0848618409899983</dd>\n",
              "\t<dt>$gini</dt>\n",
              "\t\t<dd>0.433695217629495</dd>\n",
              "\t<dt>$f.score</dt>\n",
              "\t\t<dd>0.876700463922828</dd>\n",
              "\t<dt>$gain</dt>\n",
              "\t\t<dd>1.03807160997405</dd>\n",
              "\t<dt>$matthews</dt>\n",
              "\t\t<dd>&lt;NA&gt;</dd>\n",
              "\t<dt>$confusion</dt>\n",
              "\t\t<dd><table>\n",
              "<caption>A matrix: 2 × 2 of type chr</caption>\n",
              "<thead>\n",
              "\t<tr><th></th><th scope=col>0</th><th scope=col>1</th></tr>\n",
              "</thead>\n",
              "<tbody>\n",
              "\t<tr><th scope=row>0</th><td>True positive(80976)</td><td>False positive(15268)</td></tr>\n",
              "\t<tr><th scope=row>1</th><td>False negative(7509)</td><td>True negative(16445) </td></tr>\n",
              "</tbody>\n",
              "</table>\n",
              "</dd>\n",
              "</dl>\n"
            ]
          },
          "metadata": {
            "tags": []
          }
        }
      ]
    },
    {
      "cell_type": "code",
      "metadata": {
        "id": "dfKl1iRX0MO0",
        "colab_type": "code",
        "colab": {
          "base_uri": "https://localhost:8080/",
          "height": 36
        },
        "outputId": "dea6e866-9b94-43bf-e552-23e5437911c2"
      },
      "source": [
        "confMat <- table(completeData$voting2006,tree_model_preds)\n",
        "accuracy_tree <- sum(diag(confMat))/sum(confMat)\n",
        "print(accuracy_tree)"
      ],
      "execution_count": 233,
      "outputs": [
        {
          "output_type": "stream",
          "text": [
            "[1] 0.8105043\n"
          ],
          "name": "stdout"
        }
      ]
    },
    {
      "cell_type": "code",
      "metadata": {
        "id": "gFDMi5upGM6J",
        "colab_type": "code",
        "colab": {
          "base_uri": "https://localhost:8080/",
          "height": 92
        },
        "outputId": "8f4d40ad-870a-41eb-e9fa-b906b44c2b2e"
      },
      "source": [
        "confMat"
      ],
      "execution_count": 234,
      "outputs": [
        {
          "output_type": "display_data",
          "data": {
            "text/plain": [
              "   tree_model_preds\n",
              "        0     1\n",
              "  0 80976  7509\n",
              "  1 15268 16445"
            ]
          },
          "metadata": {
            "tags": []
          }
        }
      ]
    },
    {
      "cell_type": "markdown",
      "metadata": {
        "id": "V1Q3hoK90MO2",
        "colab_type": "text"
      },
      "source": [
        "### Answers\n",
        "- The accuracy of the tree model is of 87%.\n",
        "- It is superior to the ~73% of the logistic regression data.\n",
        "- This is because of the advantages of the decision tree model, as well as the disadvantages of the logistic regression model\n",
        "    + The decision trees work specially well with data shaped like ours, the discrete categories allow for simple and efective branching. We must also note that not much data featuring is required to make useful decision trees.\n",
        "    + Trees allow for relationships between the data to have an impact on the prediction.\n",
        "    + Logistic regression does not work well with our data because the maximum likelyhood method tends to just minimize a function across all our categories, without really \"analyzing\" the relationship between them. Another caveat is that we did not process our data further (eg. equalize the number of voters and non-voters)"
      ]
    },
    {
      "cell_type": "markdown",
      "metadata": {
        "id": "kdNI4XTZ0MO3",
        "colab_type": "text"
      },
      "source": [
        "### Sources\n",
        "https://www.statmethods.net/advstats/cart.html\n",
        "\n",
        "https://stats.idre.ucla.edu/r/dae/logit-regression/\n",
        "\n",
        "https://www.youtube.com/watch?v=4jRBRDbJemM\n",
        "\n",
        "https://developers.google.com/machine-learning/crash-course/classification/roc-and-auc\n",
        "\n",
        "https://en.wikipedia.org/wiki/Receiver_operating_characteristic\n",
        "\n",
        "https://en.wikipedia.org/wiki/Accuracy_and_precision"
      ]
    },
    {
      "cell_type": "code",
      "metadata": {
        "id": "sWBGlW-_0MO3",
        "colab_type": "code",
        "colab": {}
      },
      "source": [
        ""
      ],
      "execution_count": 235,
      "outputs": []
    }
  ]
}