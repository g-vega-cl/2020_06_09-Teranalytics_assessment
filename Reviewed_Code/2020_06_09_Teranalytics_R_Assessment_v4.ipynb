{
  "nbformat": 4,
  "nbformat_minor": 0,
  "metadata": {
    "kernelspec": {
      "display_name": "R",
      "language": "R",
      "name": "ir"
    },
    "language_info": {
      "codemirror_mode": "r",
      "file_extension": ".r",
      "mimetype": "text/x-r-source",
      "name": "R",
      "pygments_lexer": "r",
      "version": "4.0.1"
    },
    "colab": {
      "name": "2020_06_09-Teranalytics_R_Assessment_v4.ipynb",
      "provenance": [],
      "collapsed_sections": [
        "rwN7IU6J0MMs",
        "bf_u6HB60MNs",
        "jMDHT2mW0MN0",
        "LWjgUL9R0MOZ",
        "Gjc_nK1E0MOv",
        "V1Q3hoK90MO2",
        "kdNI4XTZ0MO3"
      ]
    }
  },
  "cells": [
    {
      "cell_type": "code",
      "metadata": {
        "id": "BwxRl5_p1gNP",
        "colab_type": "code",
        "colab": {}
      },
      "source": [
        "install.packages(\"knitr\")\n",
        "install.packages(\"ggplot2\")\n",
        "install.packages(\"summarytools\")\n",
        "install.packages(\"GGally\")\n",
        "install.packages(\"corrplot\")\n",
        "install.packages(\"WVPlots\")\n",
        "install.packages(\"psych\")\n",
        "install.packages(\"mltools\")\n",
        "install.packages(\"caret\")\n",
        "install.packages(\"glmnet\")\n",
        "install.packages(\"rpart\")\n",
        "install.packages(\"rfUtilities\")\n"
      ],
      "execution_count": null,
      "outputs": []
    },
    {
      "cell_type": "code",
      "metadata": {
        "id": "mCnxb9JdXhQv",
        "colab_type": "code",
        "colab": {
          "base_uri": "https://localhost:8080/",
          "height": 73
        },
        "outputId": "e8862cdb-2c50-4089-b29e-fb40f7efe12b"
      },
      "source": [
        "install.packages(\"e1071\")"
      ],
      "execution_count": 126,
      "outputs": [
        {
          "output_type": "stream",
          "text": [
            "Installing package into ‘/usr/local/lib/R/site-library’\n",
            "(as ‘lib’ is unspecified)\n",
            "\n"
          ],
          "name": "stderr"
        }
      ]
    },
    {
      "cell_type": "code",
      "metadata": {
        "id": "M1tGoaC0XlwK",
        "colab_type": "code",
        "colab": {
          "base_uri": "https://localhost:8080/",
          "height": 185
        },
        "outputId": "197efad6-ee76-46d9-fdef-debbb68d8508"
      },
      "source": [
        "library(e1071)"
      ],
      "execution_count": 127,
      "outputs": [
        {
          "output_type": "stream",
          "text": [
            "\n",
            "Attaching package: ‘e1071’\n",
            "\n",
            "\n",
            "The following object is masked from ‘package:mltools’:\n",
            "\n",
            "    skewness\n",
            "\n",
            "\n"
          ],
          "name": "stderr"
        }
      ]
    },
    {
      "cell_type": "code",
      "metadata": {
        "collapsed": true,
        "id": "MOvqzmJt0MLu",
        "colab_type": "code",
        "colab": {}
      },
      "source": [
        "library(knitr)\n",
        "library(ggplot2)\n",
        "#library(summarytools)\n",
        "library(GGally)\n",
        "library(corrplot)\n",
        "library(WVPlots)\n",
        "#library(psych)\n",
        "library(mltools)\n",
        "library(caret)\n",
        "library(glmnet)\n",
        "library(rpart)\n",
        "library(rfUtilities)\n",
        "options(warn=-1) #Disable warnings"
      ],
      "execution_count": null,
      "outputs": []
    },
    {
      "cell_type": "markdown",
      "metadata": {
        "id": "0ixZ49oH0ML5",
        "colab_type": "text"
      },
      "source": [
        "# Task 1 - Data exploration"
      ]
    },
    {
      "cell_type": "code",
      "metadata": {
        "id": "3KYqweL20ML8",
        "colab_type": "code",
        "colab": {}
      },
      "source": [
        "#Loading data\n",
        "groups <- read.csv(\"/content/groups.csv\", stringsAsFactors = F)\n",
        "voters <- read.csv(\"/content/voters.csv\", stringsAsFactors = F)"
      ],
      "execution_count": 7,
      "outputs": []
    },
    {
      "cell_type": "markdown",
      "metadata": {
        "id": "NfTxjQ_V0MMC",
        "colab_type": "text"
      },
      "source": [
        "## Question 1. Of the voters in the groups.csv file, how many of them are not in the voting record file."
      ]
    },
    {
      "cell_type": "code",
      "metadata": {
        "scrolled": true,
        "id": "WvHEptKQ0MMD",
        "colab_type": "code",
        "colab": {
          "base_uri": "https://localhost:8080/",
          "height": 52
        },
        "outputId": "db0cf085-aa4b-4c59-d0f9-57c34207486e"
      },
      "source": [
        "length(groups$voterid)\n",
        "length(voters$userid)"
      ],
      "execution_count": 8,
      "outputs": [
        {
          "output_type": "display_data",
          "data": {
            "text/plain": [
              "[1] 125108"
            ],
            "text/latex": "125108",
            "text/markdown": "125108",
            "text/html": [
              "125108"
            ]
          },
          "metadata": {
            "tags": []
          }
        },
        {
          "output_type": "display_data",
          "data": {
            "text/plain": [
              "[1] 135000"
            ],
            "text/latex": "135000",
            "text/markdown": "135000",
            "text/html": [
              "135000"
            ]
          },
          "metadata": {
            "tags": []
          }
        }
      ]
    },
    {
      "cell_type": "markdown",
      "metadata": {
        "id": "9Liukeip0MMU",
        "colab_type": "text"
      },
      "source": [
        "In this next section we transform the ID's from both our dataframes into a common value, so we can merge the data."
      ]
    },
    {
      "cell_type": "code",
      "metadata": {
        "id": "c4_L0xKZ0MMU",
        "colab_type": "code",
        "colab": {
          "base_uri": "https://localhost:8080/",
          "height": 36
        },
        "outputId": "4baf0329-65e8-4126-8866-64434896b4ac"
      },
      "source": [
        "#Transform the voters id into a zero padded number \n",
        "pb <- txtProgressBar(min = 0, max = length(voters$userid), style = 3)\n",
        "for(i in seq(1,length(voters$userid))){\n",
        "    voters$userid[i] = formatC(as.numeric(voters$userid[i]), digits = 5, flag = \"0\")\n",
        "    setTxtProgressBar(pb, i)\n",
        "}"
      ],
      "execution_count": 9,
      "outputs": [
        {
          "output_type": "stream",
          "text": [
            "  |======================================================================| 100%"
          ],
          "name": "stdout"
        }
      ]
    },
    {
      "cell_type": "code",
      "metadata": {
        "id": "AHnn-Qzq4x4M",
        "colab_type": "code",
        "colab": {
          "base_uri": "https://localhost:8080/",
          "height": 36
        },
        "outputId": "668ce347-c679-4d2c-888a-1998006ad882"
      },
      "source": [
        "#Transform the voters id into a zero padded number \n",
        "pb <- txtProgressBar(min = 0, max = length(groups$voterid), style = 3)\n",
        "for(i in seq(1,length(groups$voterid))){\n",
        "    groups$voterid[i] = substr(groups$voterid[i],2,10000)\n",
        "    setTxtProgressBar(pb, i)\n",
        "}"
      ],
      "execution_count": 25,
      "outputs": [
        {
          "output_type": "stream",
          "text": [
            "  |======================================================================| 100%"
          ],
          "name": "stdout"
        }
      ]
    },
    {
      "cell_type": "code",
      "metadata": {
        "id": "t8rBsUHs0MMa",
        "colab_type": "code",
        "colab": {}
      },
      "source": [
        "#Renaming the dataframes so as to merge them\n",
        "colnames(groups)[1] <- \"ID\"\n",
        "colnames(voters)[1] <- \"ID\""
      ],
      "execution_count": 26,
      "outputs": []
    },
    {
      "cell_type": "code",
      "metadata": {
        "scrolled": true,
        "id": "RDK2Wj1B0MMe",
        "colab_type": "code",
        "colab": {
          "base_uri": "https://localhost:8080/",
          "height": 207
        },
        "outputId": "709c23fa-b628-4923-d6f0-a8aa7fb417cc"
      },
      "source": [
        "head(voters)"
      ],
      "execution_count": 27,
      "outputs": [
        {
          "output_type": "display_data",
          "data": {
            "text/plain": [
              "  ID         first.name last.name   sex yob  voting2005 voting2006\n",
              "1 006860     Omar       el-Sham     1   1939 0          0         \n",
              "2 088596     Kyana      Chavez      1   1972 1          0         \n",
              "3 1.2258e+05 Ramza      Okbamicael  1   1952 0          0         \n",
              "4 065331     Mazeeda    Tran        0   1966 0          1         \n",
              "5 091971     Tenai      Eun         0   1950 0          0         \n",
              "6 1.0859e+05 Laaiqa     el-Sulaiman 0   1955 0          0         "
            ],
            "text/latex": "A data.frame: 6 × 7\n\\begin{tabular}{r|lllllll}\n  & ID & first.name & last.name & sex & yob & voting2005 & voting2006\\\\\n  & <chr> & <chr> & <chr> & <int> & <int> & <int> & <int>\\\\\n\\hline\n\t1 & 006860     & Omar    & el-Sham     & 1 & 1939 & 0 & 0\\\\\n\t2 & 088596     & Kyana   & Chavez      & 1 & 1972 & 1 & 0\\\\\n\t3 & 1.2258e+05 & Ramza   & Okbamicael  & 1 & 1952 & 0 & 0\\\\\n\t4 & 065331     & Mazeeda & Tran        & 0 & 1966 & 0 & 1\\\\\n\t5 & 091971     & Tenai   & Eun         & 0 & 1950 & 0 & 0\\\\\n\t6 & 1.0859e+05 & Laaiqa  & el-Sulaiman & 0 & 1955 & 0 & 0\\\\\n\\end{tabular}\n",
            "text/markdown": "\nA data.frame: 6 × 7\n\n| <!--/--> | ID &lt;chr&gt; | first.name &lt;chr&gt; | last.name &lt;chr&gt; | sex &lt;int&gt; | yob &lt;int&gt; | voting2005 &lt;int&gt; | voting2006 &lt;int&gt; |\n|---|---|---|---|---|---|---|---|\n| 1 | 006860     | Omar    | el-Sham     | 1 | 1939 | 0 | 0 |\n| 2 | 088596     | Kyana   | Chavez      | 1 | 1972 | 1 | 0 |\n| 3 | 1.2258e+05 | Ramza   | Okbamicael  | 1 | 1952 | 0 | 0 |\n| 4 | 065331     | Mazeeda | Tran        | 0 | 1966 | 0 | 1 |\n| 5 | 091971     | Tenai   | Eun         | 0 | 1950 | 0 | 0 |\n| 6 | 1.0859e+05 | Laaiqa  | el-Sulaiman | 0 | 1955 | 0 | 0 |\n\n",
            "text/html": [
              "<table>\n",
              "<caption>A data.frame: 6 × 7</caption>\n",
              "<thead>\n",
              "\t<tr><th></th><th scope=col>ID</th><th scope=col>first.name</th><th scope=col>last.name</th><th scope=col>sex</th><th scope=col>yob</th><th scope=col>voting2005</th><th scope=col>voting2006</th></tr>\n",
              "\t<tr><th></th><th scope=col>&lt;chr&gt;</th><th scope=col>&lt;chr&gt;</th><th scope=col>&lt;chr&gt;</th><th scope=col>&lt;int&gt;</th><th scope=col>&lt;int&gt;</th><th scope=col>&lt;int&gt;</th><th scope=col>&lt;int&gt;</th></tr>\n",
              "</thead>\n",
              "<tbody>\n",
              "\t<tr><th scope=row>1</th><td>006860    </td><td>Omar   </td><td>el-Sham    </td><td>1</td><td>1939</td><td>0</td><td>0</td></tr>\n",
              "\t<tr><th scope=row>2</th><td>088596    </td><td>Kyana  </td><td>Chavez     </td><td>1</td><td>1972</td><td>1</td><td>0</td></tr>\n",
              "\t<tr><th scope=row>3</th><td>1.2258e+05</td><td>Ramza  </td><td>Okbamicael </td><td>1</td><td>1952</td><td>0</td><td>0</td></tr>\n",
              "\t<tr><th scope=row>4</th><td>065331    </td><td>Mazeeda</td><td>Tran       </td><td>0</td><td>1966</td><td>0</td><td>1</td></tr>\n",
              "\t<tr><th scope=row>5</th><td>091971    </td><td>Tenai  </td><td>Eun        </td><td>0</td><td>1950</td><td>0</td><td>0</td></tr>\n",
              "\t<tr><th scope=row>6</th><td>1.0859e+05</td><td>Laaiqa </td><td>el-Sulaiman</td><td>0</td><td>1955</td><td>0</td><td>0</td></tr>\n",
              "</tbody>\n",
              "</table>\n"
            ]
          },
          "metadata": {
            "tags": []
          }
        }
      ]
    },
    {
      "cell_type": "code",
      "metadata": {
        "id": "ZVRUYbu84e0g",
        "colab_type": "code",
        "colab": {
          "base_uri": "https://localhost:8080/",
          "height": 207
        },
        "outputId": "c70f9fa4-e108-4a4e-97a7-4ffcaedc6750"
      },
      "source": [
        "head(groups)"
      ],
      "execution_count": 28,
      "outputs": [
        {
          "output_type": "display_data",
          "data": {
            "text/plain": [
              "  ID     civicduty hawthorne self neighbors control\n",
              "1 134582 0         0         0    0         1      \n",
              "2 137203 0         1         0    0         0      \n",
              "3 115089 1         0         0    0         0      \n",
              "4 061714 1         0         0    0         0      \n",
              "5 140039 0         0         0    0         1      \n",
              "6 023133 0         0         0    1         0      "
            ],
            "text/latex": "A data.frame: 6 × 6\n\\begin{tabular}{r|llllll}\n  & ID & civicduty & hawthorne & self & neighbors & control\\\\\n  & <chr> & <int> & <int> & <int> & <int> & <int>\\\\\n\\hline\n\t1 & 134582 & 0 & 0 & 0 & 0 & 1\\\\\n\t2 & 137203 & 0 & 1 & 0 & 0 & 0\\\\\n\t3 & 115089 & 1 & 0 & 0 & 0 & 0\\\\\n\t4 & 061714 & 1 & 0 & 0 & 0 & 0\\\\\n\t5 & 140039 & 0 & 0 & 0 & 0 & 1\\\\\n\t6 & 023133 & 0 & 0 & 0 & 1 & 0\\\\\n\\end{tabular}\n",
            "text/markdown": "\nA data.frame: 6 × 6\n\n| <!--/--> | ID &lt;chr&gt; | civicduty &lt;int&gt; | hawthorne &lt;int&gt; | self &lt;int&gt; | neighbors &lt;int&gt; | control &lt;int&gt; |\n|---|---|---|---|---|---|---|\n| 1 | 134582 | 0 | 0 | 0 | 0 | 1 |\n| 2 | 137203 | 0 | 1 | 0 | 0 | 0 |\n| 3 | 115089 | 1 | 0 | 0 | 0 | 0 |\n| 4 | 061714 | 1 | 0 | 0 | 0 | 0 |\n| 5 | 140039 | 0 | 0 | 0 | 0 | 1 |\n| 6 | 023133 | 0 | 0 | 0 | 1 | 0 |\n\n",
            "text/html": [
              "<table>\n",
              "<caption>A data.frame: 6 × 6</caption>\n",
              "<thead>\n",
              "\t<tr><th></th><th scope=col>ID</th><th scope=col>civicduty</th><th scope=col>hawthorne</th><th scope=col>self</th><th scope=col>neighbors</th><th scope=col>control</th></tr>\n",
              "\t<tr><th></th><th scope=col>&lt;chr&gt;</th><th scope=col>&lt;int&gt;</th><th scope=col>&lt;int&gt;</th><th scope=col>&lt;int&gt;</th><th scope=col>&lt;int&gt;</th><th scope=col>&lt;int&gt;</th></tr>\n",
              "</thead>\n",
              "<tbody>\n",
              "\t<tr><th scope=row>1</th><td>134582</td><td>0</td><td>0</td><td>0</td><td>0</td><td>1</td></tr>\n",
              "\t<tr><th scope=row>2</th><td>137203</td><td>0</td><td>1</td><td>0</td><td>0</td><td>0</td></tr>\n",
              "\t<tr><th scope=row>3</th><td>115089</td><td>1</td><td>0</td><td>0</td><td>0</td><td>0</td></tr>\n",
              "\t<tr><th scope=row>4</th><td>061714</td><td>1</td><td>0</td><td>0</td><td>0</td><td>0</td></tr>\n",
              "\t<tr><th scope=row>5</th><td>140039</td><td>0</td><td>0</td><td>0</td><td>0</td><td>1</td></tr>\n",
              "\t<tr><th scope=row>6</th><td>023133</td><td>0</td><td>0</td><td>0</td><td>1</td><td>0</td></tr>\n",
              "</tbody>\n",
              "</table>\n"
            ]
          },
          "metadata": {
            "tags": []
          }
        }
      ]
    },
    {
      "cell_type": "code",
      "metadata": {
        "id": "vR5-owQh0MMi",
        "colab_type": "code",
        "colab": {}
      },
      "source": [
        "completeData = merge(groups, voters, by =\"ID\")"
      ],
      "execution_count": 29,
      "outputs": []
    },
    {
      "cell_type": "code",
      "metadata": {
        "id": "gcB5MtnR4tiF",
        "colab_type": "code",
        "colab": {
          "base_uri": "https://localhost:8080/",
          "height": 207
        },
        "outputId": "f288f47c-3587-45e2-ed4f-5d983021f2d5"
      },
      "source": [
        "head(completeData)"
      ],
      "execution_count": 31,
      "outputs": [
        {
          "output_type": "display_data",
          "data": {
            "text/plain": [
              "  ID     civicduty hawthorne self neighbors control first.name last.name sex\n",
              "1 000001 0         0         0    0         1       Lucas      Cervantes 1  \n",
              "2 000002 1         0         0    0         0       Kelsy      Douglas   0  \n",
              "3 000005 0         0         0    0         1       Oyate      Chen      0  \n",
              "4 000006 0         0         0    1         0       Derrick    Peoples   0  \n",
              "5 000007 0         0         0    0         1       Yevanit    Thai      0  \n",
              "6 000008 1         0         0    0         0       Mikkayla   al-Yousef 1  \n",
              "  yob  voting2005 voting2006\n",
              "1 1952 0          1         \n",
              "2 1947 0          0         \n",
              "3 1970 1          1         \n",
              "4 1948 0          1         \n",
              "5 1922 0          0         \n",
              "6 1976 0          0         "
            ],
            "text/latex": "A data.frame: 6 × 12\n\\begin{tabular}{r|llllllllllll}\n  & ID & civicduty & hawthorne & self & neighbors & control & first.name & last.name & sex & yob & voting2005 & voting2006\\\\\n  & <chr> & <int> & <int> & <int> & <int> & <int> & <chr> & <chr> & <int> & <int> & <int> & <int>\\\\\n\\hline\n\t1 & 000001 & 0 & 0 & 0 & 0 & 1 & Lucas    & Cervantes & 1 & 1952 & 0 & 1\\\\\n\t2 & 000002 & 1 & 0 & 0 & 0 & 0 & Kelsy    & Douglas   & 0 & 1947 & 0 & 0\\\\\n\t3 & 000005 & 0 & 0 & 0 & 0 & 1 & Oyate    & Chen      & 0 & 1970 & 1 & 1\\\\\n\t4 & 000006 & 0 & 0 & 0 & 1 & 0 & Derrick  & Peoples   & 0 & 1948 & 0 & 1\\\\\n\t5 & 000007 & 0 & 0 & 0 & 0 & 1 & Yevanit  & Thai      & 0 & 1922 & 0 & 0\\\\\n\t6 & 000008 & 1 & 0 & 0 & 0 & 0 & Mikkayla & al-Yousef & 1 & 1976 & 0 & 0\\\\\n\\end{tabular}\n",
            "text/markdown": "\nA data.frame: 6 × 12\n\n| <!--/--> | ID &lt;chr&gt; | civicduty &lt;int&gt; | hawthorne &lt;int&gt; | self &lt;int&gt; | neighbors &lt;int&gt; | control &lt;int&gt; | first.name &lt;chr&gt; | last.name &lt;chr&gt; | sex &lt;int&gt; | yob &lt;int&gt; | voting2005 &lt;int&gt; | voting2006 &lt;int&gt; |\n|---|---|---|---|---|---|---|---|---|---|---|---|---|\n| 1 | 000001 | 0 | 0 | 0 | 0 | 1 | Lucas    | Cervantes | 1 | 1952 | 0 | 1 |\n| 2 | 000002 | 1 | 0 | 0 | 0 | 0 | Kelsy    | Douglas   | 0 | 1947 | 0 | 0 |\n| 3 | 000005 | 0 | 0 | 0 | 0 | 1 | Oyate    | Chen      | 0 | 1970 | 1 | 1 |\n| 4 | 000006 | 0 | 0 | 0 | 1 | 0 | Derrick  | Peoples   | 0 | 1948 | 0 | 1 |\n| 5 | 000007 | 0 | 0 | 0 | 0 | 1 | Yevanit  | Thai      | 0 | 1922 | 0 | 0 |\n| 6 | 000008 | 1 | 0 | 0 | 0 | 0 | Mikkayla | al-Yousef | 1 | 1976 | 0 | 0 |\n\n",
            "text/html": [
              "<table>\n",
              "<caption>A data.frame: 6 × 12</caption>\n",
              "<thead>\n",
              "\t<tr><th></th><th scope=col>ID</th><th scope=col>civicduty</th><th scope=col>hawthorne</th><th scope=col>self</th><th scope=col>neighbors</th><th scope=col>control</th><th scope=col>first.name</th><th scope=col>last.name</th><th scope=col>sex</th><th scope=col>yob</th><th scope=col>voting2005</th><th scope=col>voting2006</th></tr>\n",
              "\t<tr><th></th><th scope=col>&lt;chr&gt;</th><th scope=col>&lt;int&gt;</th><th scope=col>&lt;int&gt;</th><th scope=col>&lt;int&gt;</th><th scope=col>&lt;int&gt;</th><th scope=col>&lt;int&gt;</th><th scope=col>&lt;chr&gt;</th><th scope=col>&lt;chr&gt;</th><th scope=col>&lt;int&gt;</th><th scope=col>&lt;int&gt;</th><th scope=col>&lt;int&gt;</th><th scope=col>&lt;int&gt;</th></tr>\n",
              "</thead>\n",
              "<tbody>\n",
              "\t<tr><th scope=row>1</th><td>000001</td><td>0</td><td>0</td><td>0</td><td>0</td><td>1</td><td>Lucas   </td><td>Cervantes</td><td>1</td><td>1952</td><td>0</td><td>1</td></tr>\n",
              "\t<tr><th scope=row>2</th><td>000002</td><td>1</td><td>0</td><td>0</td><td>0</td><td>0</td><td>Kelsy   </td><td>Douglas  </td><td>0</td><td>1947</td><td>0</td><td>0</td></tr>\n",
              "\t<tr><th scope=row>3</th><td>000005</td><td>0</td><td>0</td><td>0</td><td>0</td><td>1</td><td>Oyate   </td><td>Chen     </td><td>0</td><td>1970</td><td>1</td><td>1</td></tr>\n",
              "\t<tr><th scope=row>4</th><td>000006</td><td>0</td><td>0</td><td>0</td><td>1</td><td>0</td><td>Derrick </td><td>Peoples  </td><td>0</td><td>1948</td><td>0</td><td>1</td></tr>\n",
              "\t<tr><th scope=row>5</th><td>000007</td><td>0</td><td>0</td><td>0</td><td>0</td><td>1</td><td>Yevanit </td><td>Thai     </td><td>0</td><td>1922</td><td>0</td><td>0</td></tr>\n",
              "\t<tr><th scope=row>6</th><td>000008</td><td>1</td><td>0</td><td>0</td><td>0</td><td>0</td><td>Mikkayla</td><td>al-Yousef</td><td>1</td><td>1976</td><td>0</td><td>0</td></tr>\n",
              "</tbody>\n",
              "</table>\n"
            ]
          },
          "metadata": {
            "tags": []
          }
        }
      ]
    },
    {
      "cell_type": "code",
      "metadata": {
        "id": "6qGNystv6WO1",
        "colab_type": "code",
        "colab": {
          "base_uri": "https://localhost:8080/",
          "height": 34
        },
        "outputId": "d447445d-2508-40ec-e7e2-17dcba25599b"
      },
      "source": [
        "length(completeData$ID)"
      ],
      "execution_count": 33,
      "outputs": [
        {
          "output_type": "display_data",
          "data": {
            "text/plain": [
              "[1] 85196"
            ],
            "text/latex": "85196",
            "text/markdown": "85196",
            "text/html": [
              "85196"
            ]
          },
          "metadata": {
            "tags": []
          }
        }
      ]
    },
    {
      "cell_type": "code",
      "metadata": {
        "id": "bMfgmbzc7Oux",
        "colab_type": "code",
        "colab": {
          "base_uri": "https://localhost:8080/",
          "height": 34
        },
        "outputId": "7deda8d3-56e4-45cb-b0ee-2352c67056d2"
      },
      "source": [
        "length(completeData$ID)/length(groups$ID) * 100"
      ],
      "execution_count": 35,
      "outputs": [
        {
          "output_type": "display_data",
          "data": {
            "text/plain": [
              "[1] 68.09796"
            ],
            "text/latex": "68.0979633596573",
            "text/markdown": "68.0979633596573",
            "text/html": [
              "68.0979633596573"
            ]
          },
          "metadata": {
            "tags": []
          }
        }
      ]
    },
    {
      "cell_type": "markdown",
      "metadata": {
        "id": "MaH8EEkX0MMT",
        "colab_type": "text"
      },
      "source": [
        "### Answer: of the voters in the groups.csv file, 68% are in the voting record (so 32% are not.)\n",
        "\n",
        "I got this answer by getting the length of the merged database and the lenght of the groups id."
      ]
    },
    {
      "cell_type": "markdown",
      "metadata": {
        "id": "3XY0Lyb30MMn",
        "colab_type": "text"
      },
      "source": [
        "## Question 2, of the voters in the groups.csv file, for which we have a voting record, what percentage of them voted in 2006?\n"
      ]
    },
    {
      "cell_type": "code",
      "metadata": {
        "id": "oXeRJuQx0MMo",
        "colab_type": "code",
        "colab": {
          "base_uri": "https://localhost:8080/",
          "height": 36
        },
        "outputId": "995eac2e-2410-43e6-c0c8-2dec0dc81c21"
      },
      "source": [
        "percentage_of_2016_voters = sum(completeData$voting2006)/length(completeData$voting2006)\n",
        "print(percentage_of_2016_voters)"
      ],
      "execution_count": 36,
      "outputs": [
        {
          "output_type": "stream",
          "text": [
            "[1] 0.2642495\n"
          ],
          "name": "stdout"
        }
      ]
    },
    {
      "cell_type": "markdown",
      "metadata": {
        "id": "rwN7IU6J0MMs",
        "colab_type": "text"
      },
      "source": [
        "### ANSWER: Our percentage of voters was: 26%"
      ]
    },
    {
      "cell_type": "markdown",
      "metadata": {
        "id": "rT4_rTgV0MMt",
        "colab_type": "text"
      },
      "source": [
        "## Question 3 - Are the 5 groups exclusive of each other? How many voters for which we have voter records are listed as in multiple groups?\n"
      ]
    },
    {
      "cell_type": "code",
      "metadata": {
        "id": "sAzY-JBW0MMu",
        "colab_type": "code",
        "colab": {
          "base_uri": "https://localhost:8080/",
          "height": 36
        },
        "outputId": "8dc333fd-34f5-45d1-c0ef-89df1f8a9c43"
      },
      "source": [
        "#Basically if the sum of values is higher than 1. There are duplicates\n",
        "pb <- txtProgressBar(min = 0, max = length(completeData$control), style = 3)\n",
        "groups_with_more_than_1_value = list()\n",
        "for (i in seq(1,length(completeData$control))){\n",
        "    civicduty_val = completeData$civicduty[i]\n",
        "    hawthorne_val = completeData$hawthorne[i]\n",
        "    self_val = completeData$self[i]\n",
        "    neighbors_val = completeData$neighbors[i]\n",
        "    control_val = completeData$control[i]\n",
        "    \n",
        "    if(sum(civicduty_val,hawthorne_val,self_val,neighbors_val,control_val) > 1){\n",
        "        groups_with_more_than_1_value = append(groups_with_more_than_1_value, i)\n",
        "    }\n",
        "    setTxtProgressBar(pb, i)\n",
        "}"
      ],
      "execution_count": 37,
      "outputs": [
        {
          "output_type": "stream",
          "text": [
            "  |======================================================================| 100%"
          ],
          "name": "stdout"
        }
      ]
    },
    {
      "cell_type": "code",
      "metadata": {
        "id": "tmtv3yLk0MMy",
        "colab_type": "code",
        "colab": {
          "base_uri": "https://localhost:8080/",
          "height": 314
        },
        "outputId": "14007085-f6d4-4b74-f037-acac74866e46"
      },
      "source": [
        "#Checking if our function worked\n",
        "completeData[as.numeric(groups_with_more_than_1_value),]"
      ],
      "execution_count": 39,
      "outputs": [
        {
          "output_type": "display_data",
          "data": {
            "text/plain": [
              "      ID     civicduty hawthorne self neighbors control first.name\n",
              "9269  010895 0         1         0    1         0       Nawf      \n",
              "9805  011538 0         0         1    0         1       Patricia  \n",
              "21689 025515 0         0         1    0         1       Ricardo   \n",
              "27677 032559 0         1         0    1         0       Jennifer  \n",
              "51736 060728 0         1         0    1         0       Gloriana  \n",
              "53300 062553 1         1         0    0         0       Elizabeth \n",
              "58900 069113 1         1         0    0         0       Douglas   \n",
              "67053 078680 0         0         1    0         1       Tawfeeq   \n",
              "78558 092195 0         1         0    1         0       Joshua    \n",
              "81990 096258 0         1         0    1         0       Zohal     \n",
              "82140 096427 0         1         0    1         0       Dakota    \n",
              "      last.name         sex yob  voting2005 voting2006\n",
              "9269  Jamieson          0   1943 1          0         \n",
              "9805  Lor               1   1955 0          1         \n",
              "21689 Munoz             0   1962 0          0         \n",
              "27677 Nichols           0   1947 1          0         \n",
              "51736 Gonzalez Cardenas 0   1946 1          1         \n",
              "53300 Buford            1   1961 1          1         \n",
              "58900 Tecla             0   1947 0          0         \n",
              "67053 Earhart           1   1947 0          0         \n",
              "78558 al-Ghani          1   1941 0          0         \n",
              "81990 Louderback        1   1959 0          0         \n",
              "82140 Thompson Wilson   0   1955 1          0         "
            ],
            "text/latex": "A data.frame: 11 × 12\n\\begin{tabular}{r|llllllllllll}\n  & ID & civicduty & hawthorne & self & neighbors & control & first.name & last.name & sex & yob & voting2005 & voting2006\\\\\n  & <chr> & <int> & <int> & <int> & <int> & <int> & <chr> & <chr> & <int> & <int> & <int> & <int>\\\\\n\\hline\n\t9269 & 010895 & 0 & 1 & 0 & 1 & 0 & Nawf      & Jamieson          & 0 & 1943 & 1 & 0\\\\\n\t9805 & 011538 & 0 & 0 & 1 & 0 & 1 & Patricia  & Lor               & 1 & 1955 & 0 & 1\\\\\n\t21689 & 025515 & 0 & 0 & 1 & 0 & 1 & Ricardo   & Munoz             & 0 & 1962 & 0 & 0\\\\\n\t27677 & 032559 & 0 & 1 & 0 & 1 & 0 & Jennifer  & Nichols           & 0 & 1947 & 1 & 0\\\\\n\t51736 & 060728 & 0 & 1 & 0 & 1 & 0 & Gloriana  & Gonzalez Cardenas & 0 & 1946 & 1 & 1\\\\\n\t53300 & 062553 & 1 & 1 & 0 & 0 & 0 & Elizabeth & Buford            & 1 & 1961 & 1 & 1\\\\\n\t58900 & 069113 & 1 & 1 & 0 & 0 & 0 & Douglas   & Tecla             & 0 & 1947 & 0 & 0\\\\\n\t67053 & 078680 & 0 & 0 & 1 & 0 & 1 & Tawfeeq   & Earhart           & 1 & 1947 & 0 & 0\\\\\n\t78558 & 092195 & 0 & 1 & 0 & 1 & 0 & Joshua    & al-Ghani          & 1 & 1941 & 0 & 0\\\\\n\t81990 & 096258 & 0 & 1 & 0 & 1 & 0 & Zohal     & Louderback        & 1 & 1959 & 0 & 0\\\\\n\t82140 & 096427 & 0 & 1 & 0 & 1 & 0 & Dakota    & Thompson Wilson   & 0 & 1955 & 1 & 0\\\\\n\\end{tabular}\n",
            "text/markdown": "\nA data.frame: 11 × 12\n\n| <!--/--> | ID &lt;chr&gt; | civicduty &lt;int&gt; | hawthorne &lt;int&gt; | self &lt;int&gt; | neighbors &lt;int&gt; | control &lt;int&gt; | first.name &lt;chr&gt; | last.name &lt;chr&gt; | sex &lt;int&gt; | yob &lt;int&gt; | voting2005 &lt;int&gt; | voting2006 &lt;int&gt; |\n|---|---|---|---|---|---|---|---|---|---|---|---|---|\n| 9269 | 010895 | 0 | 1 | 0 | 1 | 0 | Nawf      | Jamieson          | 0 | 1943 | 1 | 0 |\n| 9805 | 011538 | 0 | 0 | 1 | 0 | 1 | Patricia  | Lor               | 1 | 1955 | 0 | 1 |\n| 21689 | 025515 | 0 | 0 | 1 | 0 | 1 | Ricardo   | Munoz             | 0 | 1962 | 0 | 0 |\n| 27677 | 032559 | 0 | 1 | 0 | 1 | 0 | Jennifer  | Nichols           | 0 | 1947 | 1 | 0 |\n| 51736 | 060728 | 0 | 1 | 0 | 1 | 0 | Gloriana  | Gonzalez Cardenas | 0 | 1946 | 1 | 1 |\n| 53300 | 062553 | 1 | 1 | 0 | 0 | 0 | Elizabeth | Buford            | 1 | 1961 | 1 | 1 |\n| 58900 | 069113 | 1 | 1 | 0 | 0 | 0 | Douglas   | Tecla             | 0 | 1947 | 0 | 0 |\n| 67053 | 078680 | 0 | 0 | 1 | 0 | 1 | Tawfeeq   | Earhart           | 1 | 1947 | 0 | 0 |\n| 78558 | 092195 | 0 | 1 | 0 | 1 | 0 | Joshua    | al-Ghani          | 1 | 1941 | 0 | 0 |\n| 81990 | 096258 | 0 | 1 | 0 | 1 | 0 | Zohal     | Louderback        | 1 | 1959 | 0 | 0 |\n| 82140 | 096427 | 0 | 1 | 0 | 1 | 0 | Dakota    | Thompson Wilson   | 0 | 1955 | 1 | 0 |\n\n",
            "text/html": [
              "<table>\n",
              "<caption>A data.frame: 11 × 12</caption>\n",
              "<thead>\n",
              "\t<tr><th></th><th scope=col>ID</th><th scope=col>civicduty</th><th scope=col>hawthorne</th><th scope=col>self</th><th scope=col>neighbors</th><th scope=col>control</th><th scope=col>first.name</th><th scope=col>last.name</th><th scope=col>sex</th><th scope=col>yob</th><th scope=col>voting2005</th><th scope=col>voting2006</th></tr>\n",
              "\t<tr><th></th><th scope=col>&lt;chr&gt;</th><th scope=col>&lt;int&gt;</th><th scope=col>&lt;int&gt;</th><th scope=col>&lt;int&gt;</th><th scope=col>&lt;int&gt;</th><th scope=col>&lt;int&gt;</th><th scope=col>&lt;chr&gt;</th><th scope=col>&lt;chr&gt;</th><th scope=col>&lt;int&gt;</th><th scope=col>&lt;int&gt;</th><th scope=col>&lt;int&gt;</th><th scope=col>&lt;int&gt;</th></tr>\n",
              "</thead>\n",
              "<tbody>\n",
              "\t<tr><th scope=row>9269</th><td>010895</td><td>0</td><td>1</td><td>0</td><td>1</td><td>0</td><td>Nawf     </td><td>Jamieson         </td><td>0</td><td>1943</td><td>1</td><td>0</td></tr>\n",
              "\t<tr><th scope=row>9805</th><td>011538</td><td>0</td><td>0</td><td>1</td><td>0</td><td>1</td><td>Patricia </td><td>Lor              </td><td>1</td><td>1955</td><td>0</td><td>1</td></tr>\n",
              "\t<tr><th scope=row>21689</th><td>025515</td><td>0</td><td>0</td><td>1</td><td>0</td><td>1</td><td>Ricardo  </td><td>Munoz            </td><td>0</td><td>1962</td><td>0</td><td>0</td></tr>\n",
              "\t<tr><th scope=row>27677</th><td>032559</td><td>0</td><td>1</td><td>0</td><td>1</td><td>0</td><td>Jennifer </td><td>Nichols          </td><td>0</td><td>1947</td><td>1</td><td>0</td></tr>\n",
              "\t<tr><th scope=row>51736</th><td>060728</td><td>0</td><td>1</td><td>0</td><td>1</td><td>0</td><td>Gloriana </td><td>Gonzalez Cardenas</td><td>0</td><td>1946</td><td>1</td><td>1</td></tr>\n",
              "\t<tr><th scope=row>53300</th><td>062553</td><td>1</td><td>1</td><td>0</td><td>0</td><td>0</td><td>Elizabeth</td><td>Buford           </td><td>1</td><td>1961</td><td>1</td><td>1</td></tr>\n",
              "\t<tr><th scope=row>58900</th><td>069113</td><td>1</td><td>1</td><td>0</td><td>0</td><td>0</td><td>Douglas  </td><td>Tecla            </td><td>0</td><td>1947</td><td>0</td><td>0</td></tr>\n",
              "\t<tr><th scope=row>67053</th><td>078680</td><td>0</td><td>0</td><td>1</td><td>0</td><td>1</td><td>Tawfeeq  </td><td>Earhart          </td><td>1</td><td>1947</td><td>0</td><td>0</td></tr>\n",
              "\t<tr><th scope=row>78558</th><td>092195</td><td>0</td><td>1</td><td>0</td><td>1</td><td>0</td><td>Joshua   </td><td>al-Ghani         </td><td>1</td><td>1941</td><td>0</td><td>0</td></tr>\n",
              "\t<tr><th scope=row>81990</th><td>096258</td><td>0</td><td>1</td><td>0</td><td>1</td><td>0</td><td>Zohal    </td><td>Louderback       </td><td>1</td><td>1959</td><td>0</td><td>0</td></tr>\n",
              "\t<tr><th scope=row>82140</th><td>096427</td><td>0</td><td>1</td><td>0</td><td>1</td><td>0</td><td>Dakota   </td><td>Thompson Wilson  </td><td>0</td><td>1955</td><td>1</td><td>0</td></tr>\n",
              "</tbody>\n",
              "</table>\n"
            ]
          },
          "metadata": {
            "tags": []
          }
        }
      ]
    },
    {
      "cell_type": "code",
      "metadata": {
        "scrolled": true,
        "id": "zhhyzVfj0MM4",
        "colab_type": "code",
        "colab": {
          "base_uri": "https://localhost:8080/",
          "height": 52
        },
        "outputId": "d9cada6a-d16b-48ca-c1ac-98253e2a8212"
      },
      "source": [
        "length(groups_with_more_than_1_value)\n",
        "length(completeData$control)"
      ],
      "execution_count": 40,
      "outputs": [
        {
          "output_type": "display_data",
          "data": {
            "text/plain": [
              "[1] 11"
            ],
            "text/latex": "11",
            "text/markdown": "11",
            "text/html": [
              "11"
            ]
          },
          "metadata": {
            "tags": []
          }
        },
        {
          "output_type": "display_data",
          "data": {
            "text/plain": [
              "[1] 85196"
            ],
            "text/latex": "85196",
            "text/markdown": "85196",
            "text/html": [
              "85196"
            ]
          },
          "metadata": {
            "tags": []
          }
        }
      ]
    },
    {
      "cell_type": "markdown",
      "metadata": {
        "id": "sHusm1lp0MM7",
        "colab_type": "text"
      },
      "source": [
        "### ANSWER: There were 11 voter listed as duplicates"
      ]
    },
    {
      "cell_type": "markdown",
      "metadata": {
        "id": "nCumIr460MM7",
        "colab_type": "text"
      },
      "source": [
        "Now we delete the rows where there are typos"
      ]
    },
    {
      "cell_type": "code",
      "metadata": {
        "id": "3KhKJ7tF0MM8",
        "colab_type": "code",
        "colab": {}
      },
      "source": [
        "completeData <- completeData[-c(as.numeric(groups_with_more_than_1_value)),] "
      ],
      "execution_count": 41,
      "outputs": []
    },
    {
      "cell_type": "code",
      "metadata": {
        "id": "eCP6K6ve0MNA",
        "colab_type": "code",
        "colab": {
          "base_uri": "https://localhost:8080/",
          "height": 34
        },
        "outputId": "4a346432-d8e1-47e5-e02d-cf7700be7248"
      },
      "source": [
        "length(completeData$control)"
      ],
      "execution_count": 42,
      "outputs": [
        {
          "output_type": "display_data",
          "data": {
            "text/plain": [
              "[1] 85185"
            ],
            "text/latex": "85185",
            "text/markdown": "85185",
            "text/html": [
              "85185"
            ]
          },
          "metadata": {
            "tags": []
          }
        }
      ]
    },
    {
      "cell_type": "markdown",
      "metadata": {
        "id": "En0JMA7A0MND",
        "colab_type": "text"
      },
      "source": [
        "## Question 4 - Of the remaining voters, what percentage of them are in each of the following age groups:"
      ]
    },
    {
      "cell_type": "code",
      "metadata": {
        "id": "mHGXnuLt0MNE",
        "colab_type": "code",
        "colab": {
          "base_uri": "https://localhost:8080/",
          "height": 36
        },
        "outputId": "78eb6d65-3a97-4d99-d0f5-4de555281e06"
      },
      "source": [
        "\n",
        "pb <- txtProgressBar(min = 0, max = length(completeData$control), style = 3)\n",
        "\n",
        "# Get the age of the voters as age not year\n",
        "newAgeColumn = list()\n",
        "for (i in seq(1,length(completeData$control))){\n",
        "    age = 2006 - completeData$yob[i]\n",
        "    newAgeColumn = append(newAgeColumn,age)    \n",
        "    setTxtProgressBar(pb, i)\n",
        "}\n"
      ],
      "execution_count": 43,
      "outputs": [
        {
          "output_type": "stream",
          "text": [
            "  |======================================================================| 100%"
          ],
          "name": "stdout"
        }
      ]
    },
    {
      "cell_type": "code",
      "metadata": {
        "id": "nTr8zmNF0MNH",
        "colab_type": "code",
        "colab": {}
      },
      "source": [
        "#get the new values into the data\n",
        "completeData$age = newAgeColumn"
      ],
      "execution_count": 44,
      "outputs": []
    },
    {
      "cell_type": "code",
      "metadata": {
        "id": "dgeuHyuX0MNK",
        "colab_type": "code",
        "colab": {
          "base_uri": "https://localhost:8080/",
          "height": 80
        },
        "outputId": "326f8445-a44d-40ac-a1af-17d8ac493f88"
      },
      "source": [
        "#Check if it worked\n",
        "completeData$age[1:2]"
      ],
      "execution_count": 45,
      "outputs": [
        {
          "output_type": "display_data",
          "data": {
            "text/plain": [
              "[[1]]\n",
              "[1] 54\n",
              "\n",
              "[[2]]\n",
              "[1] 59\n"
            ],
            "text/latex": "\\begin{enumerate}\n\\item 54\n\\item 59\n\\end{enumerate}\n",
            "text/markdown": "1. 54\n2. 59\n\n\n",
            "text/html": [
              "<ol>\n",
              "\t<li>54</li>\n",
              "\t<li>59</li>\n",
              "</ol>\n"
            ]
          },
          "metadata": {
            "tags": []
          }
        }
      ]
    },
    {
      "cell_type": "code",
      "metadata": {
        "id": "QOJjDl640MNN",
        "colab_type": "code",
        "colab": {
          "base_uri": "https://localhost:8080/",
          "height": 36
        },
        "outputId": "462f83ef-02ee-4388-bc40-f5740ce0703a"
      },
      "source": [
        "#This code is a bit \"hacky\", this list will be used to \n",
        "    # calculate the percentages of each ageGroup\n",
        "Age_18_30 = list()\n",
        "Age_31_40 = list()\n",
        "Age_41_50 = list()\n",
        "Age_51_65 = list()\n",
        "Age_65_all = list()\n",
        "\n",
        "pb <- txtProgressBar(min = 0, max = length(completeData$control), style = 3)\n",
        "for (i in seq(1,length(completeData$control))){\n",
        "    age = completeData$age[i]\n",
        "    #This can definetly be automated\n",
        "    if(age < 31){\n",
        "        Age_18_30 = append(Age_18_30,1)\n",
        "        Age_31_40 = append(Age_31_40,0)\n",
        "        Age_41_50 = append(Age_41_50,0)\n",
        "        Age_51_65 = append(Age_51_65,0)\n",
        "        Age_65_all = append(Age_65_all,0)\n",
        "    }else if (age < 41){\n",
        "        Age_18_30 = append(Age_18_30,0)\n",
        "        Age_31_40 = append(Age_31_40,1)\n",
        "        Age_41_50 = append(Age_41_50,0)\n",
        "        Age_51_65 = append(Age_51_65,0)\n",
        "        Age_65_all = append(Age_65_all,0)\n",
        "    }else if (age < 51){\n",
        "        Age_18_30 = append(Age_18_30,0)\n",
        "        Age_31_40 = append(Age_31_40,0)\n",
        "        Age_41_50 = append(Age_41_50,1)\n",
        "        Age_51_65 = append(Age_51_65,0)\n",
        "        Age_65_all = append(Age_65_all,0)\n",
        "    }else if (age < 65){\n",
        "        Age_18_30 = append(Age_18_30,0)\n",
        "        Age_31_40 = append(Age_31_40,0)\n",
        "        Age_41_50 = append(Age_41_50,0)\n",
        "        Age_51_65 = append(Age_51_65,1)\n",
        "        Age_65_all = append(Age_65_all,0)\n",
        "    }else{\n",
        "        Age_18_30 = append(Age_18_30,0)\n",
        "        Age_31_40 = append(Age_31_40,0)\n",
        "        Age_41_50 = append(Age_41_50,0)\n",
        "        Age_51_65 = append(Age_51_65,0)\n",
        "        Age_65_all = append(Age_65_all,1)\n",
        "    }\n",
        "    \n",
        "    setTxtProgressBar(pb, i)\n",
        "}\n"
      ],
      "execution_count": 46,
      "outputs": [
        {
          "output_type": "stream",
          "text": [
            "  |======================================================================| 100%"
          ],
          "name": "stdout"
        }
      ]
    },
    {
      "cell_type": "code",
      "metadata": {
        "id": "rDkNqtiW0MNQ",
        "colab_type": "code",
        "colab": {
          "base_uri": "https://localhost:8080/",
          "height": 110
        },
        "outputId": "de2bda21-7a26-4505-fb91-e6ca870fa34c"
      },
      "source": [
        "#Sum the values in the age groups, over the total length of the data\n",
        "percentage_18 = sum(as.numeric(Age_18_30)) / length(completeData$control)\n",
        "percentage_31 = sum(as.numeric(Age_31_40)) / length(completeData$control)\n",
        "percentage_41 = sum(as.numeric(Age_41_50)) / length(completeData$control)\n",
        "percentage_51 = sum(as.numeric(Age_51_65)) / length(completeData$control)\n",
        "percentage_65 = sum(as.numeric(Age_65_all)) / length(completeData$control)\n",
        "\n",
        "print(percentage_18)\n",
        "print(percentage_31)\n",
        "print(percentage_41)\n",
        "print(percentage_51)\n",
        "print(percentage_65)"
      ],
      "execution_count": 50,
      "outputs": [
        {
          "output_type": "stream",
          "text": [
            "[1] 0.08377062\n",
            "[1] 0.1262781\n",
            "[1] 0.2808945\n",
            "[1] 0.3553912\n",
            "[1] 0.1536656\n"
          ],
          "name": "stdout"
        }
      ]
    },
    {
      "cell_type": "markdown",
      "metadata": {
        "id": "EX_3kWk00MNU",
        "colab_type": "text"
      },
      "source": [
        "### Answer - The percentages of voters per age group are:\n",
        "* 18-30: 8%\n",
        "* 31-40: 13%\n",
        "* 41-50: 28%\n",
        "* 51-65: 36%\n",
        "* 65-all: 15%"
      ]
    },
    {
      "cell_type": "code",
      "metadata": {
        "id": "FE7QFQEn0MNV",
        "colab_type": "code",
        "colab": {
          "base_uri": "https://localhost:8080/",
          "height": 36
        },
        "outputId": "15f84523-8993-4c85-89a7-e113d2bcd02f"
      },
      "source": [
        "#Here we pass the data as categorical values\n",
        "ageGroup = list()\n",
        "\n",
        "pb <- txtProgressBar(min = 0, max = length(completeData$control), style = 3)\n",
        "for (i in seq(1,length(completeData$age))){\n",
        "    age = completeData$age[i]\n",
        "    #This can definetly be automated\n",
        "    if(age < 31){\n",
        "        ageGroup = append(ageGroup,\"Age_18_30\")\n",
        "    } else if (age < 41){\n",
        "        ageGroup = append(ageGroup,\"Age_31_40\")\n",
        "    } else if (age < 51){\n",
        "        ageGroup = append(ageGroup,\"Age_41_50\")\n",
        "    } else if (age < 65){\n",
        "        ageGroup = append(ageGroup,\"Age_51_65\")\n",
        "    }else{\n",
        "        ageGroup = append(ageGroup,\"Age_65_all\")\n",
        "    }\n",
        "    setTxtProgressBar(pb, i)\n",
        "}\n"
      ],
      "execution_count": 51,
      "outputs": [
        {
          "output_type": "stream",
          "text": [
            "  |======================================================================| 100%"
          ],
          "name": "stdout"
        }
      ]
    },
    {
      "cell_type": "code",
      "metadata": {
        "id": "pBuZw-2S0MNX",
        "colab_type": "code",
        "colab": {}
      },
      "source": [
        "completeData$age_group = ageGroup"
      ],
      "execution_count": 52,
      "outputs": []
    },
    {
      "cell_type": "code",
      "metadata": {
        "scrolled": true,
        "id": "63APAx210MNb",
        "colab_type": "code",
        "colab": {
          "base_uri": "https://localhost:8080/",
          "height": 207
        },
        "outputId": "444eaa7f-f35b-4321-f719-5c68edee9b13"
      },
      "source": [
        "head(completeData)"
      ],
      "execution_count": 53,
      "outputs": [
        {
          "output_type": "display_data",
          "data": {
            "text/plain": [
              "  ID     civicduty hawthorne self neighbors control first.name last.name sex\n",
              "1 000001 0         0         0    0         1       Lucas      Cervantes 1  \n",
              "2 000002 1         0         0    0         0       Kelsy      Douglas   0  \n",
              "3 000005 0         0         0    0         1       Oyate      Chen      0  \n",
              "4 000006 0         0         0    1         0       Derrick    Peoples   0  \n",
              "5 000007 0         0         0    0         1       Yevanit    Thai      0  \n",
              "6 000008 1         0         0    0         0       Mikkayla   al-Yousef 1  \n",
              "  yob  voting2005 voting2006 age age_group \n",
              "1 1952 0          1          54  Age_51_65 \n",
              "2 1947 0          0          59  Age_51_65 \n",
              "3 1970 1          1          36  Age_31_40 \n",
              "4 1948 0          1          58  Age_51_65 \n",
              "5 1922 0          0          84  Age_65_all\n",
              "6 1976 0          0          30  Age_18_30 "
            ],
            "text/latex": "A data.frame: 6 × 14\n\\begin{tabular}{r|llllllllllllll}\n  & ID & civicduty & hawthorne & self & neighbors & control & first.name & last.name & sex & yob & voting2005 & voting2006 & age & age\\_group\\\\\n  & <chr> & <int> & <int> & <int> & <int> & <int> & <chr> & <chr> & <int> & <int> & <int> & <int> & <list> & <list>\\\\\n\\hline\n\t1 & 000001 & 0 & 0 & 0 & 0 & 1 & Lucas    & Cervantes & 1 & 1952 & 0 & 1 & 54 & Age\\_51\\_65\\\\\n\t2 & 000002 & 1 & 0 & 0 & 0 & 0 & Kelsy    & Douglas   & 0 & 1947 & 0 & 0 & 59 & Age\\_51\\_65\\\\\n\t3 & 000005 & 0 & 0 & 0 & 0 & 1 & Oyate    & Chen      & 0 & 1970 & 1 & 1 & 36 & Age\\_31\\_40\\\\\n\t4 & 000006 & 0 & 0 & 0 & 1 & 0 & Derrick  & Peoples   & 0 & 1948 & 0 & 1 & 58 & Age\\_51\\_65\\\\\n\t5 & 000007 & 0 & 0 & 0 & 0 & 1 & Yevanit  & Thai      & 0 & 1922 & 0 & 0 & 84 & Age\\_65\\_all\\\\\n\t6 & 000008 & 1 & 0 & 0 & 0 & 0 & Mikkayla & al-Yousef & 1 & 1976 & 0 & 0 & 30 & Age\\_18\\_30\\\\\n\\end{tabular}\n",
            "text/markdown": "\nA data.frame: 6 × 14\n\n| <!--/--> | ID &lt;chr&gt; | civicduty &lt;int&gt; | hawthorne &lt;int&gt; | self &lt;int&gt; | neighbors &lt;int&gt; | control &lt;int&gt; | first.name &lt;chr&gt; | last.name &lt;chr&gt; | sex &lt;int&gt; | yob &lt;int&gt; | voting2005 &lt;int&gt; | voting2006 &lt;int&gt; | age &lt;list&gt; | age_group &lt;list&gt; |\n|---|---|---|---|---|---|---|---|---|---|---|---|---|---|---|\n| 1 | 000001 | 0 | 0 | 0 | 0 | 1 | Lucas    | Cervantes | 1 | 1952 | 0 | 1 | 54 | Age_51_65 |\n| 2 | 000002 | 1 | 0 | 0 | 0 | 0 | Kelsy    | Douglas   | 0 | 1947 | 0 | 0 | 59 | Age_51_65 |\n| 3 | 000005 | 0 | 0 | 0 | 0 | 1 | Oyate    | Chen      | 0 | 1970 | 1 | 1 | 36 | Age_31_40 |\n| 4 | 000006 | 0 | 0 | 0 | 1 | 0 | Derrick  | Peoples   | 0 | 1948 | 0 | 1 | 58 | Age_51_65 |\n| 5 | 000007 | 0 | 0 | 0 | 0 | 1 | Yevanit  | Thai      | 0 | 1922 | 0 | 0 | 84 | Age_65_all |\n| 6 | 000008 | 1 | 0 | 0 | 0 | 0 | Mikkayla | al-Yousef | 1 | 1976 | 0 | 0 | 30 | Age_18_30 |\n\n",
            "text/html": [
              "<table>\n",
              "<caption>A data.frame: 6 × 14</caption>\n",
              "<thead>\n",
              "\t<tr><th></th><th scope=col>ID</th><th scope=col>civicduty</th><th scope=col>hawthorne</th><th scope=col>self</th><th scope=col>neighbors</th><th scope=col>control</th><th scope=col>first.name</th><th scope=col>last.name</th><th scope=col>sex</th><th scope=col>yob</th><th scope=col>voting2005</th><th scope=col>voting2006</th><th scope=col>age</th><th scope=col>age_group</th></tr>\n",
              "\t<tr><th></th><th scope=col>&lt;chr&gt;</th><th scope=col>&lt;int&gt;</th><th scope=col>&lt;int&gt;</th><th scope=col>&lt;int&gt;</th><th scope=col>&lt;int&gt;</th><th scope=col>&lt;int&gt;</th><th scope=col>&lt;chr&gt;</th><th scope=col>&lt;chr&gt;</th><th scope=col>&lt;int&gt;</th><th scope=col>&lt;int&gt;</th><th scope=col>&lt;int&gt;</th><th scope=col>&lt;int&gt;</th><th scope=col>&lt;list&gt;</th><th scope=col>&lt;list&gt;</th></tr>\n",
              "</thead>\n",
              "<tbody>\n",
              "\t<tr><th scope=row>1</th><td>000001</td><td>0</td><td>0</td><td>0</td><td>0</td><td>1</td><td>Lucas   </td><td>Cervantes</td><td>1</td><td>1952</td><td>0</td><td>1</td><td>54</td><td>Age_51_65</td></tr>\n",
              "\t<tr><th scope=row>2</th><td>000002</td><td>1</td><td>0</td><td>0</td><td>0</td><td>0</td><td>Kelsy   </td><td>Douglas  </td><td>0</td><td>1947</td><td>0</td><td>0</td><td>59</td><td>Age_51_65</td></tr>\n",
              "\t<tr><th scope=row>3</th><td>000005</td><td>0</td><td>0</td><td>0</td><td>0</td><td>1</td><td>Oyate   </td><td>Chen     </td><td>0</td><td>1970</td><td>1</td><td>1</td><td>36</td><td>Age_31_40</td></tr>\n",
              "\t<tr><th scope=row>4</th><td>000006</td><td>0</td><td>0</td><td>0</td><td>1</td><td>0</td><td>Derrick </td><td>Peoples  </td><td>0</td><td>1948</td><td>0</td><td>1</td><td>58</td><td>Age_51_65</td></tr>\n",
              "\t<tr><th scope=row>5</th><td>000007</td><td>0</td><td>0</td><td>0</td><td>0</td><td>1</td><td>Yevanit </td><td>Thai     </td><td>0</td><td>1922</td><td>0</td><td>0</td><td>84</td><td>Age_65_all</td></tr>\n",
              "\t<tr><th scope=row>6</th><td>000008</td><td>1</td><td>0</td><td>0</td><td>0</td><td>0</td><td>Mikkayla</td><td>al-Yousef</td><td>1</td><td>1976</td><td>0</td><td>0</td><td>30</td><td>Age_18_30</td></tr>\n",
              "</tbody>\n",
              "</table>\n"
            ]
          },
          "metadata": {
            "tags": []
          }
        }
      ]
    },
    {
      "cell_type": "code",
      "metadata": {
        "id": "v0FmEhUQ0MNe",
        "colab_type": "code",
        "colab": {
          "base_uri": "https://localhost:8080/",
          "height": 34
        },
        "outputId": "1d474b71-0df4-4e5b-ba14-f8afc439b9b7"
      },
      "source": [
        "length(Age_18_30[1:length(Age_18_30)])"
      ],
      "execution_count": 54,
      "outputs": [
        {
          "output_type": "display_data",
          "data": {
            "text/plain": [
              "[1] 85185"
            ],
            "text/latex": "85185",
            "text/markdown": "85185",
            "text/html": [
              "85185"
            ]
          },
          "metadata": {
            "tags": []
          }
        }
      ]
    },
    {
      "cell_type": "code",
      "metadata": {
        "id": "TFCEcLev0MNh",
        "colab_type": "code",
        "colab": {}
      },
      "source": [
        "one_hot_encoded_data <- completeData\n",
        "one_hot_encoded_data$Age_18_30 <- Age_18_30[1:length(Age_18_30)]\n",
        "one_hot_encoded_data$Age_31_40 <- Age_31_40[1:length(Age_31_40)]\n",
        "one_hot_encoded_data$Age_41_50 <- Age_41_50[1:length(Age_41_50)]\n",
        "one_hot_encoded_data$Age_51_65 <- Age_51_65[1:length(Age_51_65)]\n",
        "one_hot_encoded_data$Age_65_all <- Age_65_all[1:length(Age_65_all)]"
      ],
      "execution_count": 55,
      "outputs": []
    },
    {
      "cell_type": "markdown",
      "metadata": {
        "id": "dFHbNs_b0MNk",
        "colab_type": "text"
      },
      "source": [
        "## Question - For each age group, what percentage of people voted in 2006? Which age group had the largest percentage of people vote?"
      ]
    },
    {
      "cell_type": "code",
      "metadata": {
        "id": "-e93Vdga0MNk",
        "colab_type": "code",
        "colab": {}
      },
      "source": [
        "#Creating a dataframe to group age_groups (one_hot) and if they voted\n",
        "AgeGroupsAndVotingDataFrame <- completeData\n",
        "AgeGroupsAndVotingDataFrame$Age_18_30 <- Age_18_30[1:length(Age_18_30)]\n",
        "AgeGroupsAndVotingDataFrame$Age_31_40 <- Age_31_40[1:length(Age_31_40)]\n",
        "AgeGroupsAndVotingDataFrame$Age_41_50 <- Age_41_50[1:length(Age_41_50)]\n",
        "AgeGroupsAndVotingDataFrame$Age_51_65 <- Age_51_65[1:length(Age_51_65)]\n",
        "AgeGroupsAndVotingDataFrame$Age_65_all <- Age_65_all[1:length(Age_65_all)]\n",
        "\n",
        "AgeGroupsAndVotingDataFrame$civicduty <- completeData$civicduty\n",
        "AgeGroupsAndVotingDataFrame$hawthorne <- completeData$hawthorne\n",
        "AgeGroupsAndVotingDataFrame$self <- completeData$self\n",
        "AgeGroupsAndVotingDataFrame$neighbors <- completeData$neighbors\n",
        "AgeGroupsAndVotingDataFrame$control <- completeData$control\n",
        "AgeGroupsAndVotingDataFrame$voted2006 <- completeData$voting2006\n"
      ],
      "execution_count": 56,
      "outputs": []
    },
    {
      "cell_type": "code",
      "metadata": {
        "id": "eBzDUMti0MNm",
        "colab_type": "code",
        "colab": {}
      },
      "source": [
        "#Get how many voters there are in each age bracket. by multiplying the matrices\n",
        "voters_18 <- as.numeric(AgeGroupsAndVotingDataFrame$Age_18_30) * as.numeric(AgeGroupsAndVotingDataFrame$voted2006)\n",
        "voters_31 <- as.numeric(AgeGroupsAndVotingDataFrame$Age_31_40) * as.numeric(AgeGroupsAndVotingDataFrame$voted2006)\n",
        "voters_41 <- as.numeric(AgeGroupsAndVotingDataFrame$Age_41_50) * as.numeric(AgeGroupsAndVotingDataFrame$voted2006)\n",
        "voters_51 <- as.numeric(AgeGroupsAndVotingDataFrame$Age_51_65) * as.numeric(AgeGroupsAndVotingDataFrame$voted2006)\n",
        "voters_65 <- as.numeric(AgeGroupsAndVotingDataFrame$Age_65_all) * as.numeric(AgeGroupsAndVotingDataFrame$voted2006)"
      ],
      "execution_count": 57,
      "outputs": []
    },
    {
      "cell_type": "code",
      "metadata": {
        "id": "U7kFS-q80MNq",
        "colab_type": "code",
        "colab": {
          "base_uri": "https://localhost:8080/",
          "height": 110
        },
        "outputId": "35ebb55b-5500-4b98-ceaf-d0ef656d070c"
      },
      "source": [
        "# If you want it of the total voters you use this formula.\n",
        "percentage_18 = sum(as.numeric(voters_18)) / length(completeData$control)\n",
        "percentage_31 = sum(as.numeric(voters_31)) / length(completeData$control)\n",
        "percentage_41 = sum(as.numeric(voters_41)) / length(completeData$control)\n",
        "percentage_51 = sum(as.numeric(voters_51)) / length(completeData$control)\n",
        "percentage_65 = sum(as.numeric(voters_65)) / length(completeData$control)\n",
        "\n",
        "# If you want it whithin itself you use this formula\n",
        "percentage_18 = sum(as.numeric(voters_18)) / sum(as.numeric(AgeGroupsAndVotingDataFrame$Age_18_30))\n",
        "percentage_31 = sum(as.numeric(voters_31)) / sum(as.numeric(AgeGroupsAndVotingDataFrame$Age_31_40))\n",
        "percentage_41 = sum(as.numeric(voters_41)) / sum(as.numeric(AgeGroupsAndVotingDataFrame$Age_41_50))\n",
        "percentage_51 = sum(as.numeric(voters_51)) / sum(as.numeric(AgeGroupsAndVotingDataFrame$Age_51_65))\n",
        "percentage_65 = sum(as.numeric(voters_65)) / sum(as.numeric(AgeGroupsAndVotingDataFrame$Age_65_all))\n",
        "\n",
        "print(percentage_18)\n",
        "print(percentage_31)\n",
        "print(percentage_41)\n",
        "print(percentage_51)\n",
        "print(percentage_65)"
      ],
      "execution_count": 65,
      "outputs": [
        {
          "output_type": "stream",
          "text": [
            "[1] 0.2567265\n",
            "[1] 0.2774008\n",
            "[1] 0.2625376\n",
            "[1] 0.2692409\n",
            "[1] 0.2491215\n"
          ],
          "name": "stdout"
        }
      ]
    },
    {
      "cell_type": "markdown",
      "metadata": {
        "id": "bf_u6HB60MNs",
        "colab_type": "text"
      },
      "source": [
        "### Answer - The percentages of voters in 2006 per age group are:\n",
        "(Percentage of total citizens of the age group that vote)\n",
        "* 18-30: 2% - 26% \n",
        "* 31-40: 4% - 28%\n",
        "* 41-50: 7% - 27%\n",
        "* 51-65: 10% - 27%\n",
        "* 65-all: 4% - 24%\n",
        "\n",
        "\n",
        "The age group with largest voting percentage was: the ages 51 to 65, one must notice that this group is also the group with the largest age range, which possibly contributes to this result. <- ONLY OF TOTAL VOTERS\n",
        "\n",
        "The first value is the voters of total, the second one is the percentage within itself.\n",
        "\n",
        "**The group with the highest voter percentage is 31-40 (whithin itself), of the total is 51-60** "
      ]
    },
    {
      "cell_type": "markdown",
      "metadata": {
        "id": "dGaMzn2Q0MNu",
        "colab_type": "text"
      },
      "source": [
        "## Question - For each treatment group, what percentage of people voted in 2006? Which treatment group had the largest percentage of people vote?\n",
        "\n"
      ]
    },
    {
      "cell_type": "code",
      "metadata": {
        "id": "0_YdFviw0MNv",
        "colab_type": "code",
        "colab": {
          "base_uri": "https://localhost:8080/",
          "height": 110
        },
        "outputId": "f8f71062-996d-4e1b-b35e-e3ff04195e68"
      },
      "source": [
        "#Creating a dataframe to group age_groups (one_hot) and if they voted\n",
        "group_civic <- AgeGroupsAndVotingDataFrame$civicduty * AgeGroupsAndVotingDataFrame$voted2006\n",
        "group_hawthorne <- AgeGroupsAndVotingDataFrame$hawthorne * AgeGroupsAndVotingDataFrame$voted2006\n",
        "group_self <- AgeGroupsAndVotingDataFrame$self * AgeGroupsAndVotingDataFrame$voted2006\n",
        "group_neighbors <- AgeGroupsAndVotingDataFrame$neighbors * AgeGroupsAndVotingDataFrame$voted2006\n",
        "group_control <- AgeGroupsAndVotingDataFrame$control * AgeGroupsAndVotingDataFrame$voted2006\n",
        "\n",
        "percentage_civic = sum(as.numeric(group_civic)) / length(completeData$control)\n",
        "percentage_hawthorne = sum(as.numeric(group_hawthorne)) / length(completeData$control)\n",
        "percentage_self = sum(as.numeric(group_self)) / length(completeData$control)\n",
        "percentage_neighbors = sum(as.numeric(group_neighbors)) / length(completeData$control)\n",
        "percentage_control = sum(as.numeric(group_control)) / length(completeData$control)\n",
        "\n",
        "percentage_civic = sum(as.numeric(group_civic)) / sum(as.numeric(AgeGroupsAndVotingDataFrame$civicduty))\n",
        "percentage_hawthorne = sum(as.numeric(group_hawthorne)) / sum(as.numeric(AgeGroupsAndVotingDataFrame$hawthorne))\n",
        "percentage_self = sum(as.numeric(group_self)) / sum(as.numeric(AgeGroupsAndVotingDataFrame$self))\n",
        "percentage_neighbors = sum(as.numeric(group_neighbors)) / sum(as.numeric(AgeGroupsAndVotingDataFrame$neighbors))\n",
        "percentage_control = sum(as.numeric(group_control)) / sum(as.numeric(AgeGroupsAndVotingDataFrame$control))\n",
        "\n",
        "print(percentage_civic)\n",
        "print(percentage_hawthorne)\n",
        "print(percentage_self)\n",
        "print(percentage_neighbors)\n",
        "print(percentage_control)\n"
      ],
      "execution_count": 66,
      "outputs": [
        {
          "output_type": "stream",
          "text": [
            "[1] 0.2967984\n",
            "[1] 0.2359665\n",
            "[1] 0.2873692\n",
            "[1] 0.3015774\n",
            "[1] 0.1997225\n"
          ],
          "name": "stdout"
        }
      ]
    },
    {
      "cell_type": "markdown",
      "metadata": {
        "id": "jMDHT2mW0MN0",
        "colab_type": "text"
      },
      "source": [
        "### Answer - The percentages of voters in 2006 per age group are:\n",
        "* civic: 6% - 30%\n",
        "* hawthorne: 5% - 23%\n",
        "* self: 6% - 29%\n",
        "* neighbors: 6% - 30%\n",
        "* control: 4% - 20%\n",
        "\n",
        "The age group with largest voting in 2006 percentage was: the Neighbhors.\n",
        "\n",
        "The first value is the voters of total, the second one is the percentage within itself."
      ]
    },
    {
      "cell_type": "markdown",
      "metadata": {
        "id": "xP4wEDne0MN0",
        "colab_type": "text"
      },
      "source": [
        "# Task 2 - Data visualization"
      ]
    },
    {
      "cell_type": "markdown",
      "metadata": {
        "id": "oSRshIzs0MN0",
        "colab_type": "text"
      },
      "source": [
        "Note: we only used data for 2006 voters, so as not to confuse our audience when there is 2005 or 2006 data"
      ]
    },
    {
      "cell_type": "markdown",
      "metadata": {
        "id": "Yci9caKT0MN1",
        "colab_type": "text"
      },
      "source": [
        "## 1. Stacked bar chart - voter breakdown\n",
        "showing the breakdown by age group (18-30, 31-40, 41-50, 51-64, 65+)\n",
        "of the number of voters vs non-voters, i.e., the X-axis should be the Age Group, the Y-axis should be the count of people with voting records. Each stack will be composed of the non-voters and the voters and will sum to the number of people in the age group."
      ]
    },
    {
      "cell_type": "code",
      "metadata": {
        "id": "5NjNe9wm0MN1",
        "colab_type": "code",
        "colab": {}
      },
      "source": [
        "#We take the total and substract the total_voters to get non-voters\n",
        "sum_vote_18 <- sum(voters_18)\n",
        "total_18 <- sum(as.numeric(AgeGroupsAndVotingDataFrame$Age_18_30)) - sum_vote_18\n",
        "sum_vote_31 <- sum(voters_31)\n",
        "total_31 <- sum(as.numeric(AgeGroupsAndVotingDataFrame$Age_31_40)) - sum_vote_31\n",
        "sum_vote_41 <- sum(voters_41)\n",
        "total_41 <- sum(as.numeric(AgeGroupsAndVotingDataFrame$Age_41_50)) - sum_vote_41\n",
        "sum_vote_51 <- sum(voters_51)\n",
        "total_51 <- sum(as.numeric(AgeGroupsAndVotingDataFrame$Age_51_65)) - sum_vote_51\n",
        "sum_vote_65 <- sum(voters_65)\n",
        "total_65 <- sum(as.numeric(AgeGroupsAndVotingDataFrame$Age_65_all)) - sum_vote_65\n",
        "\n",
        "stackedValues = list(sum_vote_18, total_18, sum_vote_31, total_31,\n",
        "                     sum_vote_41, total_41,\n",
        "                     sum_vote_51, total_51,\n",
        "                     sum_vote_65, total_65)"
      ],
      "execution_count": 80,
      "outputs": []
    },
    {
      "cell_type": "code",
      "metadata": {
        "id": "ktP_F38L0MN4",
        "colab_type": "code",
        "colab": {
          "base_uri": "https://localhost:8080/",
          "height": 437
        },
        "outputId": "eb0b3127-c3d9-4083-d147-4609ab02b79c"
      },
      "source": [
        "ages <- c( rep(\"18\",2), rep(\"31\",2), rep(\"41\",2), rep(\"51\",2),rep(\"65\",2))\n",
        "condition <- rep(c(\"voted\", \"did not vote\"),5)\n",
        "value <- abs(as.numeric(stackedValues))\n",
        "\n",
        "ggplot_data_stacked_1 <- data.frame(ages,condition,value)\n",
        "\n",
        "ggplot(ggplot_data_stacked_1, aes(fill=condition, y=value, x=ages)) + \n",
        "    geom_bar(position=\"stack\", stat=\"identity\")"
      ],
      "execution_count": 81,
      "outputs": [
        {
          "output_type": "display_data",
          "data": {
            "image/png": "[encoded data removed]",
            "text/plain": [
              "plot without title"
            ]
          },
          "metadata": {
            "tags": [],
            "image/png": {
              "width": 420,
              "height": 420
            },
            "text/plain": {
              "width": 420,
              "height": 420
            }
          }
        }
      ]
    },
    {
      "cell_type": "markdown",
      "metadata": {
        "id": "06TFqDqs0MN6",
        "colab_type": "text"
      },
      "source": [
        "## 2. Stacked bar chart - group breakdown\n",
        "showing the breakdown by Groups (treatments + control) of the\n",
        "percentage of people who voted, i.e., the X-axis should be the Group Name and the Y-axis should be the percentage of people who voted. Each stack will be composed of the nonvoters and the voters and will sum to 100%."
      ]
    },
    {
      "cell_type": "code",
      "metadata": {
        "id": "WxfZsSyU0MN7",
        "colab_type": "code",
        "colab": {}
      },
      "source": [
        "sum_civic <- sum(group_civic)\n",
        "total_civic <- sum(AgeGroupsAndVotingDataFrame$civicduty) - sum_civic\n",
        "sum_hawthorne <- sum(group_hawthorne)\n",
        "total_hawthorne <- sum(AgeGroupsAndVotingDataFrame$hawthorne) - sum_hawthorne\n",
        "sum_self <- sum(group_self)\n",
        "total_self <- sum(AgeGroupsAndVotingDataFrame$self) - sum_self\n",
        "sum_neighbors <- sum(group_neighbors)\n",
        "total_neighbors <- sum(AgeGroupsAndVotingDataFrame$neighbors) - sum_neighbors\n",
        "sum_control <- sum(group_control)\n",
        "total_control <- sum(AgeGroupsAndVotingDataFrame$control) - sum_control\n",
        "\n",
        "stackedValues = list(sum_civic, total_civic,sum_hawthorne, total_hawthorne,\n",
        "                     sum_self, total_self,\n",
        "                     sum_neighbors, total_neighbors,\n",
        "                     sum_control, total_control)"
      ],
      "execution_count": 82,
      "outputs": []
    },
    {
      "cell_type": "code",
      "metadata": {
        "id": "ScZuV9wY0MN-",
        "colab_type": "code",
        "colab": {
          "base_uri": "https://localhost:8080/",
          "height": 437
        },
        "outputId": "3704076a-c5c1-412c-dd0e-5e056e020e0e"
      },
      "source": [
        "group <- c( rep(\"civic\",2), rep(\"hawthorn\",2), rep(\"self\",2), rep(\"neighbors\",2),rep(\"control\",2))\n",
        "condition <- rep(c(\"voted\", \"did not vote\"),5)\n",
        "value <- abs(as.numeric(stackedValues))\n",
        "\n",
        "ggplot_data_stacked_1 <- data.frame(group,condition,value)\n",
        "\n",
        "ggplot(ggplot_data_stacked_1, aes(fill=condition, y=value, x=group)) + \n",
        "    geom_bar(position=\"fill\", stat=\"identity\")"
      ],
      "execution_count": 83,
      "outputs": [
        {
          "output_type": "display_data",
          "data": {
            "image/png": "[encoded data removed]",
            "text/plain": [
              "plot without title"
            ]
          },
          "metadata": {
            "tags": [],
            "image/png": {
              "width": 420,
              "height": 420
            },
            "text/plain": {
              "width": 420,
              "height": 420
            }
          }
        }
      ]
    },
    {
      "cell_type": "markdown",
      "metadata": {
        "id": "ufCREk700MOB",
        "colab_type": "text"
      },
      "source": [
        "# Task 3 - Modeling with logistic regression"
      ]
    },
    {
      "cell_type": "markdown",
      "metadata": {
        "id": "zgJ-orga0MOB",
        "colab_type": "text"
      },
      "source": [
        "## Part 1- "
      ]
    },
    {
      "cell_type": "markdown",
      "metadata": {
        "id": "f5R-Z2Z90MOC",
        "colab_type": "text"
      },
      "source": [
        "Build a logistic regression model for voting2006 using the give group variables as the independent variables as well as the age_group variable you created in Task 1."
      ]
    },
    {
      "cell_type": "code",
      "metadata": {
        "id": "Uz6NnFVA0MOC",
        "colab_type": "code",
        "colab": {}
      },
      "source": [
        "unlisted_age_group = unlist(ageGroup)"
      ],
      "execution_count": 84,
      "outputs": []
    },
    {
      "cell_type": "code",
      "metadata": {
        "id": "bgmoQRsT0MOE",
        "colab_type": "code",
        "colab": {}
      },
      "source": [
        "#I did this because it gave an error because lists have a value first and it did\n",
        " # Not fit the model\n",
        "completeData$unlisted_age_group = unlisted_age_group"
      ],
      "execution_count": 85,
      "outputs": []
    },
    {
      "cell_type": "code",
      "metadata": {
        "id": "IyDfbvP30MOG",
        "colab_type": "code",
        "colab": {}
      },
      "source": [
        "LogisticRegression <- glm(voting2006 ~ civicduty + hawthorne + self + neighbors + control + unlisted_age_group, data = completeData, family = \"binomial\")"
      ],
      "execution_count": 87,
      "outputs": []
    },
    {
      "cell_type": "code",
      "metadata": {
        "id": "-2IS-v5k0MOI",
        "colab_type": "code",
        "colab": {
          "base_uri": "https://localhost:8080/",
          "height": 596
        },
        "outputId": "3b7407a9-c831-47bd-f262-a96048754907"
      },
      "source": [
        "summary(LogisticRegression)"
      ],
      "execution_count": 88,
      "outputs": [
        {
          "output_type": "display_data",
          "data": {
            "text/plain": [
              "\n",
              "Call:\n",
              "glm(formula = voting2006 ~ civicduty + hawthorne + self + neighbors + \n",
              "    control + unlisted_age_group, family = \"binomial\", data = completeData)\n",
              "\n",
              "Deviance Residuals: \n",
              "    Min       1Q   Median       3Q      Max  \n",
              "-0.8696  -0.8358  -0.7322   1.5321   1.8346  \n",
              "\n",
              "Coefficients:\n",
              "                             Estimate Std. Error z value Pr(>|z|)    \n",
              "(Intercept)                  -1.11611    0.47575  -2.346 0.018975 *  \n",
              "civicduty                     0.18152    0.47527   0.382 0.702509    \n",
              "hawthorne                    -0.13130    0.47532  -0.276 0.782370    \n",
              "self                          0.13513    0.47527   0.284 0.776168    \n",
              "neighbors                     0.20363    0.47525   0.428 0.668309    \n",
              "control                      -0.34968    0.47535  -0.736 0.461961    \n",
              "unlisted_age_groupAge_31_40   0.13479    0.03476   3.878 0.000105 ***\n",
              "unlisted_age_groupAge_41_50   0.06793    0.03097   2.193 0.028289 *  \n",
              "unlisted_age_groupAge_51_65   0.10878    0.03020   3.602 0.000316 ***\n",
              "unlisted_age_groupAge_65_all -0.01159    0.03394  -0.342 0.732687    \n",
              "---\n",
              "Signif. codes:  0 ‘***’ 0.001 ‘**’ 0.01 ‘*’ 0.05 ‘.’ 0.1 ‘ ’ 1\n",
              "\n",
              "(Dispersion parameter for binomial family taken to be 1)\n",
              "\n",
              "    Null deviance: 98381  on 85184  degrees of freedom\n",
              "Residual deviance: 97620  on 85175  degrees of freedom\n",
              "AIC: 97640\n",
              "\n",
              "Number of Fisher Scoring iterations: 4\n"
            ]
          },
          "metadata": {
            "tags": []
          }
        }
      ]
    },
    {
      "cell_type": "markdown",
      "metadata": {
        "id": "RuMSz3zt0MOL",
        "colab_type": "text"
      },
      "source": [
        "In the output above, we see the deviance residuals, which are a measure of model fit. This part of output shows the distribution of the deviance residuals for individual cases used in the model.\n",
        "\n",
        "Next it shows the coefficients, standard errors, the z-statistic, and the associated p-values, here we can see that the group values are not statistically significand, but every age value is (except for age 65+)\n",
        "\n"
      ]
    },
    {
      "cell_type": "markdown",
      "metadata": {
        "id": "OI10iixo0MOL",
        "colab_type": "text"
      },
      "source": [
        "We can use the confint function to obtain confidence intervals for the coefficient estimates."
      ]
    },
    {
      "cell_type": "code",
      "metadata": {
        "id": "02P2HXkB0MOL",
        "colab_type": "code",
        "colab": {
          "base_uri": "https://localhost:8080/",
          "height": 309
        },
        "outputId": "adf1c6d9-9388-4688-9e91-da0cd6876d71"
      },
      "source": [
        "confint(LogisticRegression)"
      ],
      "execution_count": 89,
      "outputs": [
        {
          "output_type": "stream",
          "text": [
            "Waiting for profiling to be done...\n",
            "\n"
          ],
          "name": "stderr"
        },
        {
          "output_type": "display_data",
          "data": {
            "text/plain": [
              "                             2.5 %        97.5 %     \n",
              "(Intercept)                  -2.137056855 -0.23581222\n",
              "civicduty                    -0.697752804  1.20170442\n",
              "hawthorne                    -1.010669767  0.88895291\n",
              "self                         -0.744142703  1.15530277\n",
              "neighbors                    -0.675597979  1.22377635\n",
              "control                      -1.229114846  0.67062342\n",
              "unlisted_age_groupAge_31_40   0.066746297  0.20301334\n",
              "unlisted_age_groupAge_41_50   0.007384053  0.12879284\n",
              "unlisted_age_groupAge_51_65   0.049761170  0.16814798\n",
              "unlisted_age_groupAge_65_all -0.078020966  0.05503539"
            ],
            "text/latex": "A matrix: 10 × 2 of type dbl\n\\begin{tabular}{r|ll}\n  & 2.5 \\% & 97.5 \\%\\\\\n\\hline\n\t(Intercept) & -2.137056855 & -0.23581222\\\\\n\tcivicduty & -0.697752804 &  1.20170442\\\\\n\thawthorne & -1.010669767 &  0.88895291\\\\\n\tself & -0.744142703 &  1.15530277\\\\\n\tneighbors & -0.675597979 &  1.22377635\\\\\n\tcontrol & -1.229114846 &  0.67062342\\\\\n\tunlisted\\_age\\_groupAge\\_31\\_40 &  0.066746297 &  0.20301334\\\\\n\tunlisted\\_age\\_groupAge\\_41\\_50 &  0.007384053 &  0.12879284\\\\\n\tunlisted\\_age\\_groupAge\\_51\\_65 &  0.049761170 &  0.16814798\\\\\n\tunlisted\\_age\\_groupAge\\_65\\_all & -0.078020966 &  0.05503539\\\\\n\\end{tabular}\n",
            "text/markdown": "\nA matrix: 10 × 2 of type dbl\n\n| <!--/--> | 2.5 % | 97.5 % |\n|---|---|---|\n| (Intercept) | -2.137056855 | -0.23581222 |\n| civicduty | -0.697752804 |  1.20170442 |\n| hawthorne | -1.010669767 |  0.88895291 |\n| self | -0.744142703 |  1.15530277 |\n| neighbors | -0.675597979 |  1.22377635 |\n| control | -1.229114846 |  0.67062342 |\n| unlisted_age_groupAge_31_40 |  0.066746297 |  0.20301334 |\n| unlisted_age_groupAge_41_50 |  0.007384053 |  0.12879284 |\n| unlisted_age_groupAge_51_65 |  0.049761170 |  0.16814798 |\n| unlisted_age_groupAge_65_all | -0.078020966 |  0.05503539 |\n\n",
            "text/html": [
              "<table>\n",
              "<caption>A matrix: 10 × 2 of type dbl</caption>\n",
              "<thead>\n",
              "\t<tr><th></th><th scope=col>2.5 %</th><th scope=col>97.5 %</th></tr>\n",
              "</thead>\n",
              "<tbody>\n",
              "\t<tr><th scope=row>(Intercept)</th><td>-2.137056855</td><td>-0.23581222</td></tr>\n",
              "\t<tr><th scope=row>civicduty</th><td>-0.697752804</td><td> 1.20170442</td></tr>\n",
              "\t<tr><th scope=row>hawthorne</th><td>-1.010669767</td><td> 0.88895291</td></tr>\n",
              "\t<tr><th scope=row>self</th><td>-0.744142703</td><td> 1.15530277</td></tr>\n",
              "\t<tr><th scope=row>neighbors</th><td>-0.675597979</td><td> 1.22377635</td></tr>\n",
              "\t<tr><th scope=row>control</th><td>-1.229114846</td><td> 0.67062342</td></tr>\n",
              "\t<tr><th scope=row>unlisted_age_groupAge_31_40</th><td> 0.066746297</td><td> 0.20301334</td></tr>\n",
              "\t<tr><th scope=row>unlisted_age_groupAge_41_50</th><td> 0.007384053</td><td> 0.12879284</td></tr>\n",
              "\t<tr><th scope=row>unlisted_age_groupAge_51_65</th><td> 0.049761170</td><td> 0.16814798</td></tr>\n",
              "\t<tr><th scope=row>unlisted_age_groupAge_65_all</th><td>-0.078020966</td><td> 0.05503539</td></tr>\n",
              "</tbody>\n",
              "</table>\n"
            ]
          },
          "metadata": {
            "tags": []
          }
        }
      ]
    },
    {
      "cell_type": "markdown",
      "metadata": {
        "id": "3BGaKGaC0MOO",
        "colab_type": "text"
      },
      "source": [
        "**The coefficient with most significance in this regression model is the p-value Pr(>|z|), which indicates evidence against or for a Null hypothesis**"
      ]
    },
    {
      "cell_type": "markdown",
      "metadata": {
        "id": "jD2TPBOC0MOO",
        "colab_type": "text"
      },
      "source": [
        "## Part 2-  Using a threshold of 0.5, what is the accuracy of the logistic regression model?\n",
        "\n",
        "Taking the definition of [accuracy](https://en.wikipedia.org/wiki/Accuracy_and_precision) \n",
        "- Accuracy = (TP + TN)/(TP + TN + FP + FN)"
      ]
    },
    {
      "cell_type": "code",
      "metadata": {
        "id": "ZjfVb6l70MOO",
        "colab_type": "code",
        "colab": {}
      },
      "source": [
        "LogisticRegression_probabilities = predict(LogisticRegression,newdata = completeData)"
      ],
      "execution_count": 90,
      "outputs": []
    },
    {
      "cell_type": "code",
      "metadata": {
        "id": "32_EWgUR0MOR",
        "colab_type": "code",
        "colab": {
          "base_uri": "https://localhost:8080/",
          "height": 36
        },
        "outputId": "c13d1640-136a-4a66-d72c-01034bba8cda"
      },
      "source": [
        "count = 0\n",
        "for(i in seq(1,length(LogisticRegression_probabilities))){\n",
        "    if(LogisticRegression_probabilities[i] > 0.5){\n",
        "        if(completeData$voting2006[i] == 1){\n",
        "            count = count + 1\n",
        "        }\n",
        "    } else{\n",
        "        if(completeData$voting2006[i] == 0){\n",
        "            count = count + 1\n",
        "        }\n",
        "    }\n",
        "}\n",
        "print(count / length(LogisticRegression_probabilities))"
      ],
      "execution_count": 91,
      "outputs": [
        {
          "output_type": "stream",
          "text": [
            "[1] 0.7357516\n"
          ],
          "name": "stdout"
        }
      ]
    },
    {
      "cell_type": "code",
      "metadata": {
        "id": "-YuNQB1ySnl5",
        "colab_type": "code",
        "colab": {
          "base_uri": "https://localhost:8080/",
          "height": 36
        },
        "outputId": "e7398b2c-f938-44d1-c30d-8b649538fe23"
      },
      "source": [
        "#Build a list with the predictions\n",
        "log_reg_predictions = list()\n",
        "pb <- txtProgressBar(min = 0, max = length(LogisticRegression_probabilities), style = 3)\n",
        "for(i in seq(1,length(LogisticRegression_probabilities))){\n",
        "    if(LogisticRegression_probabilities[i] > 0.5){\n",
        "      log_reg_predictions = append(log_reg_predictions,1)\n",
        "    } else{\n",
        "      log_reg_predictions = append(log_reg_predictions,0)\n",
        "    }\n",
        "    setTxtProgressBar(pb, i)\n",
        "}"
      ],
      "execution_count": 100,
      "outputs": [
        {
          "output_type": "stream",
          "text": [
            "  |======================================================================| 100%"
          ],
          "name": "stdout"
        }
      ]
    },
    {
      "cell_type": "code",
      "metadata": {
        "scrolled": true,
        "id": "OZ_Fav3f0MOU",
        "colab_type": "code",
        "colab": {
          "base_uri": "https://localhost:8080/",
          "height": 36
        },
        "outputId": "c359e432-f4f1-4a4d-fc18-78fc13cfa82e"
      },
      "source": [
        "confMat <- table(completeData$voting2006,as.numeric(log_reg_predictions))\n",
        "accuracy <- sum(diag(confMat))/sum(confMat)\n",
        "print(accuracy) "
      ],
      "execution_count": 140,
      "outputs": [
        {
          "output_type": "stream",
          "text": [
            "[1] 0.7357516\n"
          ],
          "name": "stdout"
        }
      ]
    },
    {
      "cell_type": "markdown",
      "metadata": {
        "id": "LWjgUL9R0MOZ",
        "colab_type": "text"
      },
      "source": [
        "### Answer: the accuracy of the model is: 73%\n",
        "\n",
        "\n"
      ]
    },
    {
      "cell_type": "markdown",
      "metadata": {
        "id": "uacOtqOB0MOa",
        "colab_type": "text"
      },
      "source": [
        "## Part 3- Plot the ROC curve for the model and compute the AUC of the model.\n",
        "\n"
      ]
    },
    {
      "cell_type": "code",
      "metadata": {
        "id": "gBSN1pw1Y_Aq",
        "colab_type": "code",
        "colab": {}
      },
      "source": [
        "library(pROC)"
      ],
      "execution_count": null,
      "outputs": []
    },
    {
      "cell_type": "code",
      "metadata": {
        "id": "-kgaeZGuW-Ej",
        "colab_type": "code",
        "colab": {
          "base_uri": "https://localhost:8080/",
          "height": 109
        },
        "outputId": "ae51cb27-4ec0-447f-e51e-b9eb15281544"
      },
      "source": [
        "roc_obj_2 <- roc(completeData$voting2006, as.numeric(log_reg_predictions))\n",
        "auc(roc_obj_2)"
      ],
      "execution_count": 118,
      "outputs": [
        {
          "output_type": "stream",
          "text": [
            "Setting levels: control = 0, case = 1\n",
            "\n",
            "Setting direction: controls < cases\n",
            "\n"
          ],
          "name": "stderr"
        },
        {
          "output_type": "display_data",
          "data": {
            "text/plain": [
              "Area under the curve: 0.5"
            ],
            "text/latex": "0.5",
            "text/markdown": "0.5",
            "text/html": [
              "0.5"
            ]
          },
          "metadata": {
            "tags": []
          }
        }
      ]
    },
    {
      "cell_type": "code",
      "metadata": {
        "id": "9Q-RCXu-V5Sy",
        "colab_type": "code",
        "colab": {
          "base_uri": "https://localhost:8080/",
          "height": 512
        },
        "outputId": "732dc27f-c05d-4086-f6e7-6b7c6d218df3"
      },
      "source": [
        "pROC_obj <- roc(completeData$voting2006,as.numeric(log_reg_predictions),\n",
        "            smoothed = TRUE,\n",
        "            # arguments for ci\n",
        "            ci=TRUE, ci.alpha=0.9, stratified=FALSE,\n",
        "            # arguments for plot\n",
        "            plot=TRUE, auc.polygon=TRUE, max.auc.polygon=TRUE, grid=TRUE,\n",
        "            print.auc=TRUE, show.thres=TRUE)\n",
        "\n",
        "\n",
        "sens.ci <- ci.se(pROC_obj)\n",
        "plot(sens.ci, type=\"shape\", col=\"lightblue\")\n",
        "\n",
        "## Warning in plot.ci.se(sens.ci, type = \"shape\", col = \"lightblue\"): Low\n",
        "## definition shape.\n",
        "\n",
        "plot(sens.ci, type=\"bars\")"
      ],
      "execution_count": 113,
      "outputs": [
        {
          "output_type": "stream",
          "text": [
            "Setting levels: control = 0, case = 1\n",
            "\n",
            "Setting direction: controls < cases\n",
            "\n"
          ],
          "name": "stderr"
        },
        {
          "output_type": "display_data",
          "data": {
            "image/png": "[encoded data removed]",
            "text/plain": [
              "plot without title"
            ]
          },
          "metadata": {
            "tags": [],
            "image/png": {
              "width": 420,
              "height": 420
            },
            "text/plain": {
              "width": 420,
              "height": 420
            }
          }
        }
      ]
    },
    {
      "cell_type": "markdown",
      "metadata": {
        "id": "88_YSbVv0MOh",
        "colab_type": "text"
      },
      "source": [
        "An ROC curve is a graph showing the performance of a classification model at all classification tresholds: it plots two parameters, \n",
        "- the True Positive Rate\n",
        "- False positive rate:\n"
      ]
    },
    {
      "cell_type": "markdown",
      "metadata": {
        "id": "_Dvc6L-50MOi",
        "colab_type": "text"
      },
      "source": [
        "![image.png](attachment:image.png)"
      ]
    },
    {
      "cell_type": "markdown",
      "metadata": {
        "id": "O5P03vsF0MOj",
        "colab_type": "text"
      },
      "source": [
        "An ROC curve plots TPR vs. FPR at different classification thresholds. "
      ]
    },
    {
      "cell_type": "markdown",
      "metadata": {
        "id": "My1BaJzl0MOk",
        "colab_type": "text"
      },
      "source": [
        "![image.png](attachment:image.png)"
      ]
    },
    {
      "cell_type": "markdown",
      "metadata": {
        "id": "ZeGjcY0X0MOk",
        "colab_type": "text"
      },
      "source": [
        "images taken from [google](https://developers.google.com/machine-learning/crash-course/classification/roc-and-auc)"
      ]
    },
    {
      "cell_type": "markdown",
      "metadata": {
        "id": "ITANbICK0MOk",
        "colab_type": "text"
      },
      "source": [
        "On the other hand AUC measures the entire two-dimensional area underneath the entire ROC curve. AUC provides an aggregate measure of performance across all possible classification thresholds, AUC ranges in value from 0 to 1. A model whose predictions are 100% wrong has an AUC of 0.0; one whose predictions are 100% correct has an AUC of 1.0.\n",
        "\n",
        "Here we can see that our **AUC value is of 0.568**, which means that our model does not perform well, in the case of our curve we can see how at certain thresholds it moves agressively, this could mean that the model is getting stuck at some points and then overcompensating, this is motif for future analysis."
      ]
    },
    {
      "cell_type": "markdown",
      "metadata": {
        "id": "sKxC89XI0MOm",
        "colab_type": "text"
      },
      "source": [
        "# Task 4 - Modeling with Trees"
      ]
    },
    {
      "cell_type": "markdown",
      "metadata": {
        "id": "QKxkVNnU0MOm",
        "colab_type": "text"
      },
      "source": [
        "## Part 1- Using the rpart function in R and leaving all the parameters at their default values use the option method=”class”, build the model and plot the tree."
      ]
    },
    {
      "cell_type": "code",
      "metadata": {
        "id": "_SZ6xKZm0MOn",
        "colab_type": "code",
        "colab": {}
      },
      "source": [
        "#Grow the tree\n",
        "Tree_model = rpart(voting2006 ~ civicduty + hawthorne + self + neighbors + control + unlisted_age_group, data = completeData, method=\"class\")"
      ],
      "execution_count": 141,
      "outputs": []
    },
    {
      "cell_type": "code",
      "metadata": {
        "id": "2ECSplDt0MOp",
        "colab_type": "code",
        "colab": {
          "base_uri": "https://localhost:8080/",
          "height": 1000
        },
        "outputId": "e035c2f7-e862-412a-ea09-24399f9811b5"
      },
      "source": [
        "printcp(Tree_model) # display the results\n",
        "plotcp(Tree_model) # visualize cross-validation results\n",
        "summary(Tree_model) # detailed summary of splits"
      ],
      "execution_count": 142,
      "outputs": [
        {
          "output_type": "stream",
          "text": [
            "\n",
            "Classification tree:\n",
            "rpart(formula = voting2006 ~ civicduty + hawthorne + self + neighbors + \n",
            "    control + unlisted_age_group, data = completeData, method = \"class\")\n",
            "\n",
            "Variables actually used in tree construction:\n",
            "[1] civicduty          control            hawthorne          neighbors         \n",
            "[5] self               unlisted_age_group\n",
            "\n",
            "Root node error: 22510/85185 = 0.26425\n",
            "\n",
            "n= 85185 \n",
            "\n",
            "        CP nsplit rel error  xerror      xstd\n",
            "1 0.039005      0   1.00000 1.00000 0.0057171\n",
            "2 0.010000     10   0.48925 0.48947 0.0043511\n",
            "Call:\n",
            "rpart(formula = voting2006 ~ civicduty + hawthorne + self + neighbors + \n",
            "    control + unlisted_age_group, data = completeData, method = \"class\")\n",
            "  n= 85185 \n",
            "\n",
            "          CP nsplit rel error    xerror        xstd\n",
            "1 0.03900489      0 1.0000000 1.0000000 0.005717127\n",
            "2 0.01000000     10 0.4892492 0.4894713 0.004351106\n",
            "\n",
            "Variable importance\n",
            "unlisted_age_group          civicduty          neighbors            control \n",
            "                42                 28                 28                  1 \n",
            "\n",
            "Node number 1: 85185 observations,    complexity param=0.03900489\n",
            "  predicted class=0  expected loss=0.2642484  P(node) =1\n",
            "    class counts: 62675 22510\n",
            "   probabilities: 0.736 0.264 \n",
            "  left son=2 (17299 obs) right son=3 (67886 obs)\n",
            "  Primary splits:\n",
            "      control   < 0.5 to the right, improve=180.75970, (0 missing)\n",
            "      neighbors < 0.5 to the left,  improve= 61.92901, (0 missing)\n",
            "      civicduty < 0.5 to the left,  improve= 43.43778, (0 missing)\n",
            "      hawthorne < 0.5 to the right, improve= 33.25486, (0 missing)\n",
            "      self      < 0.5 to the left,  improve= 22.71690, (0 missing)\n",
            "\n",
            "Node number 2: 17299 observations\n",
            "  predicted class=0  expected loss=0.1997225  P(node) =0.2030757\n",
            "    class counts: 13844  3455\n",
            "   probabilities: 0.800 0.200 \n",
            "\n",
            "Node number 3: 67886 observations,    complexity param=0.03900489\n",
            "  predicted class=0  expected loss=0.2806912  P(node) =0.7969243\n",
            "    class counts: 48831 19055\n",
            "   probabilities: 0.719 0.281 \n",
            "  left son=6 (16710 obs) right son=7 (51176 obs)\n",
            "  Primary splits:\n",
            "      hawthorne          < 0.5 to the right, improve=88.677750, (0 missing)\n",
            "      neighbors          < 0.5 to the left,  improve=20.768030, (0 missing)\n",
            "      unlisted_age_group splits as  LRRRL,   improve=15.065060, (0 missing)\n",
            "      civicduty          < 0.5 to the left,  improve=11.331600, (0 missing)\n",
            "      self               < 0.5 to the left,  improve= 2.023759, (0 missing)\n",
            "\n",
            "Node number 6: 16710 observations,    complexity param=0.03900489\n",
            "  predicted class=0  expected loss=0.2359665  P(node) =0.1961613\n",
            "    class counts: 12767  3943\n",
            "   probabilities: 0.764 0.236 \n",
            "  left son=12 (13064 obs) right son=13 (3646 obs)\n",
            "  Primary splits:\n",
            "      unlisted_age_group splits as  RRLLL, improve=3646.331, (0 missing)\n",
            "\n",
            "Node number 7: 51176 observations,    complexity param=0.03900489\n",
            "  predicted class=0  expected loss=0.2952947  P(node) =0.600763\n",
            "    class counts: 36064 15112\n",
            "   probabilities: 0.705 0.295 \n",
            "  left son=14 (11308 obs) right son=15 (39868 obs)\n",
            "  Primary splits:\n",
            "      unlisted_age_group splits as  LLRRR,   improve=1166.9780000, (0 missing)\n",
            "      self               < 0.5 to the right, improve=   3.1996870, (0 missing)\n",
            "      neighbors          < 0.5 to the left,  improve=   2.1221620, (0 missing)\n",
            "      civicduty          < 0.5 to the left,  improve=   0.1103534, (0 missing)\n",
            "\n",
            "Node number 12: 13064 observations\n",
            "  predicted class=0  expected loss=0.06146663  P(node) =0.1533603\n",
            "    class counts: 12261   803\n",
            "   probabilities: 0.939 0.061 \n",
            "\n",
            "Node number 13: 3646 observations\n",
            "  predicted class=1  expected loss=0.1387822  P(node) =0.04280096\n",
            "    class counts:   506  3140\n",
            "   probabilities: 0.139 0.861 \n",
            "\n",
            "Node number 14: 11308 observations\n",
            "  predicted class=0  expected loss=0.09480014  P(node) =0.1327464\n",
            "    class counts: 10236  1072\n",
            "   probabilities: 0.905 0.095 \n",
            "\n",
            "Node number 15: 39868 observations,    complexity param=0.03900489\n",
            "  predicted class=0  expected loss=0.3521621  P(node) =0.4680167\n",
            "    class counts: 25828 14040\n",
            "   probabilities: 0.648 0.352 \n",
            "  left son=30 (13275 obs) right son=31 (26593 obs)\n",
            "  Primary splits:\n",
            "      self               < 0.5 to the right, improve=6.0713860, (0 missing)\n",
            "      unlisted_age_group splits as  --LRL,   improve=4.4455690, (0 missing)\n",
            "      neighbors          < 0.5 to the left,  improve=2.2851480, (0 missing)\n",
            "      civicduty          < 0.5 to the left,  improve=0.9478503, (0 missing)\n",
            "  Surrogate splits:\n",
            "      neighbors < 0.5 to the left,  agree=0.677, adj=0.03, (0 split)\n",
            "\n",
            "Node number 30: 13275 observations,    complexity param=0.03900489\n",
            "  predicted class=0  expected loss=0.3398117  P(node) =0.1558373\n",
            "    class counts:  8764  4511\n",
            "   probabilities: 0.660 0.340 \n",
            "  left son=60 (10651 obs) right son=61 (2624 obs)\n",
            "  Primary splits:\n",
            "      unlisted_age_group splits as  --LLR, improve=2472.629, (0 missing)\n",
            "\n",
            "Node number 31: 26593 observations,    complexity param=0.03900489\n",
            "  predicted class=0  expected loss=0.3583274  P(node) =0.3121794\n",
            "    class counts: 17064  9529\n",
            "   probabilities: 0.642 0.358 \n",
            "  left son=62 (5347 obs) right son=63 (21246 obs)\n",
            "  Primary splits:\n",
            "      unlisted_age_group splits as  --RRL,   improve=1.391466e+03, (0 missing)\n",
            "      neighbors          < 0.5 to the left,  improve=8.522785e-02, (0 missing)\n",
            "      civicduty          < 0.5 to the right, improve=6.789766e-02, (0 missing)\n",
            "\n",
            "Node number 60: 10651 observations\n",
            "  predicted class=0  expected loss=0.1883391  P(node) =0.1250338\n",
            "    class counts:  8645  2006\n",
            "   probabilities: 0.812 0.188 \n",
            "\n",
            "Node number 61: 2624 observations\n",
            "  predicted class=1  expected loss=0.04535061  P(node) =0.03080355\n",
            "    class counts:   119  2505\n",
            "   probabilities: 0.045 0.955 \n",
            "\n",
            "Node number 62: 5347 observations\n",
            "  predicted class=0  expected loss=0.03590799  P(node) =0.06276927\n",
            "    class counts:  5155   192\n",
            "   probabilities: 0.964 0.036 \n",
            "\n",
            "Node number 63: 21246 observations,    complexity param=0.03900489\n",
            "  predicted class=0  expected loss=0.439471  P(node) =0.2494101\n",
            "    class counts: 11909  9337\n",
            "   probabilities: 0.561 0.439 \n",
            "  left son=126 (11739 obs) right son=127 (9507 obs)\n",
            "  Primary splits:\n",
            "      unlisted_age_group splits as  --RL-,   improve=57.008730000, (0 missing)\n",
            "      neighbors          < 0.5 to the left,  improve= 0.020036460, (0 missing)\n",
            "      civicduty          < 0.5 to the right, improve= 0.008322475, (0 missing)\n",
            "\n",
            "Node number 126: 11739 observations,    complexity param=0.03900489\n",
            "  predicted class=0  expected loss=0.4065082  P(node) =0.137806\n",
            "    class counts:  6967  4772\n",
            "   probabilities: 0.593 0.407 \n",
            "  left son=252 (5674 obs) right son=253 (6065 obs)\n",
            "  Primary splits:\n",
            "      neighbors < 0.5 to the left,  improve=2595.644, (0 missing)\n",
            "      civicduty < 0.5 to the right, improve=2595.214, (0 missing)\n",
            "  Surrogate splits:\n",
            "      civicduty < 0.5 to the right, agree=0.999, adj=0.999, (0 split)\n",
            "\n",
            "Node number 127: 9507 observations,    complexity param=0.03900489\n",
            "  predicted class=0  expected loss=0.4801725  P(node) =0.1116042\n",
            "    class counts:  4942  4565\n",
            "   probabilities: 0.520 0.480 \n",
            "  left son=254 (4925 obs) right son=255 (4582 obs)\n",
            "  Primary splits:\n",
            "      civicduty < 0.5 to the left,  improve=3190.294, (0 missing)\n",
            "      neighbors < 0.5 to the right, improve=3182.224, (0 missing)\n",
            "  Surrogate splits:\n",
            "      neighbors < 0.5 to the right, agree=0.999, adj=0.998, (0 split)\n",
            "\n",
            "Node number 252: 5674 observations\n",
            "  predicted class=0  expected loss=0.06274233  P(node) =0.06660797\n",
            "    class counts:  5318   356\n",
            "   probabilities: 0.937 0.063 \n",
            "\n",
            "Node number 253: 6065 observations\n",
            "  predicted class=1  expected loss=0.2718879  P(node) =0.07119798\n",
            "    class counts:  1649  4416\n",
            "   probabilities: 0.272 0.728 \n",
            "\n",
            "Node number 254: 4925 observations\n",
            "  predicted class=0  expected loss=0.08507614  P(node) =0.05781534\n",
            "    class counts:  4506   419\n",
            "   probabilities: 0.915 0.085 \n",
            "\n",
            "Node number 255: 4582 observations\n",
            "  predicted class=1  expected loss=0.09515495  P(node) =0.05378881\n",
            "    class counts:   436  4146\n",
            "   probabilities: 0.095 0.905 \n",
            "\n"
          ],
          "name": "stdout"
        },
        {
          "output_type": "display_data",
          "data": {
            "image/png": "[encoded data removed]",
            "text/plain": [
              "plot without title"
            ]
          },
          "metadata": {
            "tags": [],
            "image/png": {
              "width": 420,
              "height": 420
            },
            "text/plain": {
              "width": 420,
              "height": 420
            }
          }
        }
      ]
    },
    {
      "cell_type": "code",
      "metadata": {
        "id": "734-PrWl0MOs",
        "colab_type": "code",
        "colab": {
          "base_uri": "https://localhost:8080/",
          "height": 437
        },
        "outputId": "8b885e4a-3459-4539-9b7b-7685e5b2ecd1"
      },
      "source": [
        "# plot tree\n",
        "plot(Tree_model, uniform=TRUE,\n",
        "   main=\"Classification Tree\")\n",
        "text(Tree_model, use.n=TRUE, all=TRUE, cex=.8)\n",
        "\n",
        "# create attractive postscript plot of tree\n",
        "post(Tree_model, file = \"/tree.ps\",\n",
        "   title = \"Classification Tree\")"
      ],
      "execution_count": 143,
      "outputs": [
        {
          "output_type": "display_data",
          "data": {
            "image/png": "[encoded data removed]",
            "text/plain": [
              "Plot with title “Classification Tree”"
            ]
          },
          "metadata": {
            "tags": [],
            "image/png": {
              "width": 420,
              "height": 420
            },
            "text/plain": {
              "width": 420,
              "height": 420
            }
          }
        }
      ]
    },
    {
      "cell_type": "markdown",
      "metadata": {
        "id": "Gjc_nK1E0MOv",
        "colab_type": "text"
      },
      "source": [
        "### Questions - Does it give any insight into the structure of the data that the logistic regression did not? In particular, what is the interaction between the treatment type and age group?\n",
        "Trees are particularly useful at showing how the analysis developed we can see the \"Tree\" and its \"branches\", to analyze how the model developed, The interaction between the treatment type and age group takes the shape of the model calculating the treatment type and then building the branches with the age group variables.\n"
      ]
    },
    {
      "cell_type": "markdown",
      "metadata": {
        "id": "FXHFaeUu0MOv",
        "colab_type": "text"
      },
      "source": [
        "## Part 2- Now, calculate the accuracy of the model. How does it compare to the logistic regression model?If better or worse, why?"
      ]
    },
    {
      "cell_type": "code",
      "metadata": {
        "id": "AZi5c6ag0MOv",
        "colab_type": "code",
        "colab": {}
      },
      "source": [
        "tree_model_preds = predict(Tree_model,newdata = completeData, type = \"class\")"
      ],
      "execution_count": 144,
      "outputs": []
    },
    {
      "cell_type": "code",
      "metadata": {
        "collapsed": true,
        "id": "kaaoVHk-0MOx",
        "colab_type": "code",
        "colab": {
          "base_uri": "https://localhost:8080/",
          "height": 702
        },
        "outputId": "511837de-5b60-40c1-a6a8-38ab24d8c48b"
      },
      "source": [
        "accuracy(table(completeData$voting2006,tree_model_preds))"
      ],
      "execution_count": 150,
      "outputs": [
        {
          "output_type": "display_data",
          "data": {
            "text/plain": [
              "Accuracy (PCC): 87.0716675471034% \n",
              "\n",
              "Cohen's Kappa: 0.6388 \n",
              "\n",
              "Area under the ROC curve: 0.7939514 \n",
              "\n",
              "Users accuracy: \n",
              "   0    1 \n",
              "87.8 84.0 \n",
              " \n",
              "\n",
              "Producers accuracy: \n",
              "   0    1 \n",
              "95.7 63.1 \n",
              " \n",
              "\n",
              "True Skill statistic: 0.7181825 \n",
              "\n",
              "Sensitivity (aka recall): 0.9567611 \n",
              "\n",
              "Specificity: 0.6311417 \n",
              "\n",
              "Gain (aka precision): 1.008797 \n",
              "\n",
              "Positive Likelihood Ratio: 2.593845 \n",
              "\n",
              "Negative Likelihood Ratio: 0.06850907 \n",
              "\n",
              "Type I error: 0.3688583 \n",
              "\n",
              "Type II error: 0.04323893 \n",
              "\n",
              "Gini Index: 0.5879028 \n",
              "\n",
              "F-score: 0.9158947 \n",
              "\n",
              "Matthews correlation coefficient: NA \n",
              "\n",
              "Confusion matrix \n",
              "  0                      1                     \n",
              "0 \"True positive(59965)\" \"False positive(8303)\"\n",
              "1 \"False negative(2710)\" \"True negative(14207)\""
            ],
            "text/latex": "\\begin{description}\n\\item[\\$PCC] 87.0716675471034\n\\item[\\$auc] 0.793951391900103\n\\item[\\$users.accuracy] \\begin{description*}\n\\item[0] 87.8\n\\item[1] 84\n\\end{description*}\n\n\\item[\\$producers.accuracy] \\begin{description*}\n\\item[0] 95.7\n\\item[1] 63.1\n\\end{description*}\n\n\\item[\\$kappa] 0.6388\n\\item[\\$true.skill] 0.718182511093293\n\\item[\\$sensitivity] 0.956761069006781\n\\item[\\$specificity] 0.631141714793425\n\\item[\\$plr] 2.593844593923\n\\item[\\$nlr] 0.0685090685336354\n\\item[\\$typeI.error] 0.368858285206575\n\\item[\\$typeII.error] 0.043238930993219\n\\item[\\$gini] 0.587902783800206\n\\item[\\$f.score] 0.915894702275036\n\\item[\\$gain] 1.00879703311445\n\\item[\\$matthews] <NA>\n\\item[\\$confusion] A matrix: 2 × 2 of type chr\n\\begin{tabular}{r|ll}\n  & 0 & 1\\\\\n\\hline\n\t0 & True positive(59965) & False positive(8303)\\\\\n\t1 & False negative(2710) & True negative(14207)\\\\\n\\end{tabular}\n\n\\end{description}\n",
            "text/markdown": "$PCC\n:   87.0716675471034\n$auc\n:   0.793951391900103\n$users.accuracy\n:   0\n:   87.81\n:   84\n\n\n$producers.accuracy\n:   0\n:   95.71\n:   63.1\n\n\n$kappa\n:   0.6388\n$true.skill\n:   0.718182511093293\n$sensitivity\n:   0.956761069006781\n$specificity\n:   0.631141714793425\n$plr\n:   2.593844593923\n$nlr\n:   0.0685090685336354\n$typeI.error\n:   0.368858285206575\n$typeII.error\n:   0.043238930993219\n$gini\n:   0.587902783800206\n$f.score\n:   0.915894702275036\n$gain\n:   1.00879703311445\n$matthews\n:   &lt;NA&gt;\n$confusion\n:   \nA matrix: 2 × 2 of type chr\n\n| <!--/--> | 0 | 1 |\n|---|---|---|\n| 0 | True positive(59965) | False positive(8303) |\n| 1 | False negative(2710) | True negative(14207) |\n\n\n\n\n",
            "text/html": [
              "<dl>\n",
              "\t<dt>$PCC</dt>\n",
              "\t\t<dd>87.0716675471034</dd>\n",
              "\t<dt>$auc</dt>\n",
              "\t\t<dd>0.793951391900103</dd>\n",
              "\t<dt>$users.accuracy</dt>\n",
              "\t\t<dd><style>\n",
              ".dl-inline {width: auto; margin:0; padding: 0}\n",
              ".dl-inline>dt, .dl-inline>dd {float: none; width: auto; display: inline-block}\n",
              ".dl-inline>dt::after {content: \":\\0020\"; padding-right: .5ex}\n",
              ".dl-inline>dt:not(:first-of-type) {padding-left: .5ex}\n",
              "</style><dl class=dl-inline><dt>0</dt><dd>87.8</dd><dt>1</dt><dd>84</dd></dl>\n",
              "</dd>\n",
              "\t<dt>$producers.accuracy</dt>\n",
              "\t\t<dd><style>\n",
              ".dl-inline {width: auto; margin:0; padding: 0}\n",
              ".dl-inline>dt, .dl-inline>dd {float: none; width: auto; display: inline-block}\n",
              ".dl-inline>dt::after {content: \":\\0020\"; padding-right: .5ex}\n",
              ".dl-inline>dt:not(:first-of-type) {padding-left: .5ex}\n",
              "</style><dl class=dl-inline><dt>0</dt><dd>95.7</dd><dt>1</dt><dd>63.1</dd></dl>\n",
              "</dd>\n",
              "\t<dt>$kappa</dt>\n",
              "\t\t<dd>0.6388</dd>\n",
              "\t<dt>$true.skill</dt>\n",
              "\t\t<dd>0.718182511093293</dd>\n",
              "\t<dt>$sensitivity</dt>\n",
              "\t\t<dd>0.956761069006781</dd>\n",
              "\t<dt>$specificity</dt>\n",
              "\t\t<dd>0.631141714793425</dd>\n",
              "\t<dt>$plr</dt>\n",
              "\t\t<dd>2.593844593923</dd>\n",
              "\t<dt>$nlr</dt>\n",
              "\t\t<dd>0.0685090685336354</dd>\n",
              "\t<dt>$typeI.error</dt>\n",
              "\t\t<dd>0.368858285206575</dd>\n",
              "\t<dt>$typeII.error</dt>\n",
              "\t\t<dd>0.043238930993219</dd>\n",
              "\t<dt>$gini</dt>\n",
              "\t\t<dd>0.587902783800206</dd>\n",
              "\t<dt>$f.score</dt>\n",
              "\t\t<dd>0.915894702275036</dd>\n",
              "\t<dt>$gain</dt>\n",
              "\t\t<dd>1.00879703311445</dd>\n",
              "\t<dt>$matthews</dt>\n",
              "\t\t<dd>&lt;NA&gt;</dd>\n",
              "\t<dt>$confusion</dt>\n",
              "\t\t<dd><table>\n",
              "<caption>A matrix: 2 × 2 of type chr</caption>\n",
              "<thead>\n",
              "\t<tr><th></th><th scope=col>0</th><th scope=col>1</th></tr>\n",
              "</thead>\n",
              "<tbody>\n",
              "\t<tr><th scope=row>0</th><td>True positive(59965)</td><td>False positive(8303)</td></tr>\n",
              "\t<tr><th scope=row>1</th><td>False negative(2710)</td><td>True negative(14207)</td></tr>\n",
              "</tbody>\n",
              "</table>\n",
              "</dd>\n",
              "</dl>\n"
            ]
          },
          "metadata": {
            "tags": []
          }
        }
      ]
    },
    {
      "cell_type": "code",
      "metadata": {
        "id": "dfKl1iRX0MO0",
        "colab_type": "code",
        "colab": {
          "base_uri": "https://localhost:8080/",
          "height": 36
        },
        "outputId": "c8af1be5-a3df-40c3-9520-57328f6e7d74"
      },
      "source": [
        "confMat <- table(completeData$voting2006,tree_model_preds)\n",
        "accuracy_tree <- sum(diag(confMat))/sum(confMat)\n",
        "print(accuracy_tree)"
      ],
      "execution_count": 151,
      "outputs": [
        {
          "output_type": "stream",
          "text": [
            "[1] 0.8707167\n"
          ],
          "name": "stdout"
        }
      ]
    },
    {
      "cell_type": "markdown",
      "metadata": {
        "id": "V1Q3hoK90MO2",
        "colab_type": "text"
      },
      "source": [
        "### Answers\n",
        "- The accuracy of the tree model is of 87%.\n",
        "- It is superior to the ~73% of the logistic regression data.\n",
        "- This is because of the advantages of the decision tree model, as well as the disadvantages of the logistic regression model\n",
        "    + The decision trees work specially well with data shaped like ours, the discrete categories allow for simple and efective branching. We must also note that not much data featuring is required to make useful decision trees.\n",
        "    + Trees allow for relationships between the data to have an impact on the prediction.\n",
        "    + Logistic regression does not work well with our data because the maximum likelyhood method tends to just minimize a function across all our categories, without really \"analyzing\" the relationship between them. Another caveat is that we did not process our data further (eg. equalize the number of voters and non-voters)"
      ]
    },
    {
      "cell_type": "markdown",
      "metadata": {
        "id": "kdNI4XTZ0MO3",
        "colab_type": "text"
      },
      "source": [
        "### Sources\n",
        "https://www.statmethods.net/advstats/cart.html\n",
        "\n",
        "https://stats.idre.ucla.edu/r/dae/logit-regression/\n",
        "\n",
        "https://www.youtube.com/watch?v=4jRBRDbJemM\n",
        "\n",
        "https://developers.google.com/machine-learning/crash-course/classification/roc-and-auc\n",
        "\n",
        "https://en.wikipedia.org/wiki/Receiver_operating_characteristic\n",
        "\n",
        "https://en.wikipedia.org/wiki/Accuracy_and_precision"
      ]
    },
    {
      "cell_type": "code",
      "metadata": {
        "id": "sWBGlW-_0MO3",
        "colab_type": "code",
        "colab": {}
      },
      "source": [
        ""
      ],
      "execution_count": null,
      "outputs": []
    }
  ]
}